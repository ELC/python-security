{
 "cells": [
  {
   "cell_type": "markdown",
   "id": "53cd567a-241f-40be-ad45-a20d01990c8e",
   "metadata": {},
   "source": [
    "# Appendix: Base64 encoding"
   ]
  },
  {
   "cell_type": "markdown",
   "id": "f853dd0f-a3e8-471c-932f-6c0dfeff24b5",
   "metadata": {},
   "source": [
    "**ToDo**:\n",
    "- Add Example with temporary zip files using the `tempfile` module\n",
    "- Add relevant resources at the end\n",
    "---\n"
   ]
  },
  {
   "cell_type": "markdown",
   "id": "e143fd03-bc76-4e00-ac63-396f8182a397",
   "metadata": {},
   "source": [
    "Bytes objects are expressed in hexadecimal form (base 16), having the characters `0123456789ABCDF` that means that each byte (8 bits) will need two hex characters. This can be derived as follows:\n",
    "\n",
    "1 Bytes has 8 bits and each bit can be either `0` or `1`, then there is a total of $2^8$ possible combinations. $2^8 = 256$. One hexadecimal characters can have 16 different values, if `256` different values should be represented, $log_{16}(256) = 2$ characters are needed. \n",
    "\n",
    "Hexadecimal is used for simplicity instead of using long streams of `0`s and `1`s. However, bigger than 16 bases can be use as well. From there that formats such as [base32](https://en.wikipedia.org/wiki/Base32) and [base64](https://en.wikipedia.org/wiki/Base64) which instead of using 2 (like in binary) or 16 (like in hexadecimal) different characters, they use 32 and 64 respectively.\n",
    "\n",
    "Python has the [`base64`](https://docs.python.org/3/library/base64.html) module which includes functions to encode and decode to Base16, Base32, Base64 and Base85. The rest of this chapter will focus on Base64.\n",
    "\n",
    "There are [several implementations](https://en.wikipedia.org/wiki/Base64#Implementations_and_history) of the base64 encoding. Python's standard library exposes two: Standard Base64 (RFC 4868 §4) and URL and File Safe Base64 (RFC 4868 §5). \n",
    "\n",
    "The only difference between the Standard and the URL safe version are the characters they use, the standard version uses the the character `+` and `/` whereas the urlsafe version replaces those two characters with `_` and `-`. \n",
    "\n",
    "\n",
    "As well as the functions from `hashlib`, `base64` functions uses bytes objects."
   ]
  },
  {
   "cell_type": "markdown",
   "id": "485af6a7-3f3f-434c-b64b-3ea267484ddf",
   "metadata": {},
   "source": [
    "## Encoding != Compression"
   ]
  },
  {
   "cell_type": "markdown",
   "id": "b0dde3e4-4a01-4019-a569-3ef3f4f45975",
   "metadata": {},
   "source": [
    "Even though Base64 will *compress* the original size by using a larger vocabulary (more unique characters), it is not a compression algorithm. The easiest way to prove this is to have a long repeated sequence of bytes like `AAAAAAA`, a good compression algorithm will avoid the redundancy and reduce the size. That is not what base64 does.\n",
    "\n",
    "That being said, a common pattern is to first zip the content of a file and then using base64 on the zipped file. That way it should be compact and compressed. The standard library has the `zipfile` module which can compress the file and then the bytes can be encoded in base64."
   ]
  },
  {
   "cell_type": "markdown",
   "id": "4f6434d7-a27a-4365-8ada-8d559d4e6a0a",
   "metadata": {},
   "source": [
    "## Encoding/Decoding Example"
   ]
  },
  {
   "cell_type": "code",
   "execution_count": 445,
   "id": "30be1328-f8ae-4b79-a477-e585e944011d",
   "metadata": {},
   "outputs": [],
   "source": [
    "import base64\n",
    "from pathlib import Path"
   ]
  },
  {
   "cell_type": "markdown",
   "id": "5ff1e5fc-a43e-4791-8735-d835a1103584",
   "metadata": {},
   "source": [
    "### Encoding"
   ]
  },
  {
   "cell_type": "code",
   "execution_count": 501,
   "id": "1ac1b539-4703-4c75-a9c3-351d5b43205d",
   "metadata": {},
   "outputs": [
    {
     "data": {
      "text/plain": [
       "'wH-9SRDAgJ3xH_I='"
      ]
     },
     "execution_count": 501,
     "metadata": {},
     "output_type": "execute_result"
    }
   ],
   "source": [
    "data = Path(\"../_static/images/certificate_details_dns.png\").read_bytes()\n",
    "data = data[111:122]  # To improve display\n",
    "\n",
    "data_base64 = base64.standard_b64encode(data)\n",
    "data_base64_string = data_base64.decode(\"UTF-8\")\n",
    "\n",
    "data_base64_urlsafe = base64.urlsafe_b64encode(data)\n",
    "data_base64_urlsafe_string = data_base64_urlsafe.decode(\"UTF-8\")\n",
    "data_base64_urlsafe_string"
   ]
  },
  {
   "cell_type": "markdown",
   "id": "f15c3a3b-7623-4377-8a51-31f1860ac017",
   "metadata": {},
   "source": [
    "#### Representation Comparison"
   ]
  },
  {
   "cell_type": "code",
   "execution_count": 502,
   "id": "7e66739f-108f-4230-966a-cdecffdf6c33",
   "metadata": {},
   "outputs": [
    {
     "name": "stdout",
     "output_type": "stream",
     "text": [
      "                Comparing Representation\n",
      "              Data size in bytes: b'\\xc0\\x7f\\xbdI\\x10\\xc0\\x80\\x9d\\xf1\\x1f\\xf2'\n",
      " Representation in bits (base 2): 1100000001111111101111010100100100010000110000001000000010011101111100010001111111110010\n",
      " Representation in hex (base 16): c07fbd4910c0809df11ff2\n",
      "        Representation in base64: wH+9SRDAgJ3xH/I=\n",
      "Representation in base64 URLSafe: wH-9SRDAgJ3xH_I=\n"
     ]
    }
   ],
   "source": [
    "print(f\"{'Comparing Representation':>40}\")\n",
    "print(f\"              Data size in bytes: {data}\")\n",
    "print(f\" Representation in bits (base 2): {bin(int(data.hex(), base=16))[2:]}\")\n",
    "print(f\" Representation in hex (base 16): {data.hex()}\")\n",
    "print(f\"        Representation in base64: {data_base64_string}\")\n",
    "print(f\"Representation in base64 URLSafe: {data_base64_urlsafe_string}\")"
   ]
  },
  {
   "cell_type": "markdown",
   "id": "a9e506ce-5478-4b96-a98b-d747ff95e7a1",
   "metadata": {},
   "source": [
    "#### Length Comparison"
   ]
  },
  {
   "cell_type": "code",
   "execution_count": 503,
   "id": "78373499-5cfa-44c7-837e-bf5248610fdc",
   "metadata": {},
   "outputs": [
    {
     "name": "stdout",
     "output_type": "stream",
     "text": [
      "                       Comparing Lenghts\n",
      "              Data size in bytes: 5 bytes\n",
      " Representation in bits (base 2): 40 characters\n",
      " Representation in hex (base 16): 22 characters\n",
      "        Representation in base64: 16 characters\n",
      "Representation in base64 URLSafe: 16 characters\n"
     ]
    }
   ],
   "source": [
    "print(f\"{'Comparing Lenghts':>40}\")\n",
    "print(f\"              Data size in bytes: {size} bytes\")\n",
    "print(f\" Representation in bits (base 2): {size * 8} characters\")\n",
    "print(f\" Representation in hex (base 16): {len(data.hex())} characters\")\n",
    "print(f\"        Representation in base64: {len(data_base64)} characters\")\n",
    "print(f\"Representation in base64 URLSafe: {len(data_base64_urlsafe)} characters\")"
   ]
  },
  {
   "cell_type": "markdown",
   "id": "39d018cb-bf8c-4c5a-857a-ee7251b0e3d8",
   "metadata": {},
   "source": [
    "### Decoding"
   ]
  },
  {
   "cell_type": "code",
   "execution_count": 505,
   "id": "5f624545-76ef-4e0c-a594-f20e5dcc4ab5",
   "metadata": {},
   "outputs": [
    {
     "name": "stdout",
     "output_type": "stream",
     "text": [
      "        Original Data: c07fbd4910c0809df11ff2\n",
      "Decoded from Standard: c07fbd4910c0809df11ff2\n",
      " Decoded from URLSafe: c07fbd4910c0809df11ff2\n"
     ]
    }
   ],
   "source": [
    "decoded_data_standard = base64.standard_b64decode(data_base64_string)\n",
    "decoded_data_urlsafe = base64.standard_b64decode(data_base64_string)\n",
    "\n",
    "print(f\"        Original Data: {data.hex()}\")\n",
    "print(f\"Decoded from Standard: {decoded_data_standard.hex()}\")\n",
    "print(f\" Decoded from URLSafe: {decoded_data_urlsafe.hex()}\")"
   ]
  },
  {
   "cell_type": "markdown",
   "id": "7ad10e0b-dbda-4502-939c-8e3e19f811f3",
   "metadata": {},
   "source": [
    "## Encoding/Decoding Compressed File"
   ]
  },
  {
   "cell_type": "markdown",
   "id": "335b7b8c-b4f6-465c-bfcb-fe4ee424434a",
   "metadata": {},
   "source": [
    "A common use case is to combine base64 with zip compression to get the advantages of both technologies. The official docs illustrates how to works with files in a filesystem. In this example everything will be handled in memory, i.e. no temporary files or zip files will be generated.\n",
    "\n",
    "This all-in-memory approach is specially useful in circunstances where:\n",
    "\n",
    "- There is no filesystem per se (e.g. Lambda Architectures)\n",
    "- It is expensive to write to a file system (e.g. Cloud Solutions)\n",
    "- Writting to disk should be avoided for performance reasons (e.g. Real-Time APIs)\n",
    "\n",
    "To work with in-memory, instead of using filenames a `BytesIO` object is used. This objects mimics the API of the file object and avoid any read/write operations in the disk."
   ]
  },
  {
   "cell_type": "code",
   "execution_count": 509,
   "id": "714fcbf3-5ac2-4b9e-942d-dc00b688ab6b",
   "metadata": {},
   "outputs": [],
   "source": [
    "import zipfile\n",
    "import io"
   ]
  },
  {
   "cell_type": "markdown",
   "id": "40ad8b9a-eda0-4a3e-9d9c-a63c2e0bf1cf",
   "metadata": {},
   "source": [
    "### Encoding"
   ]
  },
  {
   "cell_type": "code",
   "execution_count": 596,
   "id": "0f9b18d2-bc51-4ba3-8fd2-c08ae2434244",
   "metadata": {},
   "outputs": [
    {
     "name": "stdout",
     "output_type": "stream",
     "text": [
      "Size before compression: 14156 characters\n",
      " Size after compression: 5668 characters\n",
      "           Compresion %: 40.04%\n"
     ]
    }
   ],
   "source": [
    "file_path = Path(\"00_Fundamentals.ipynb\")\n",
    "file_bytes = file_path.read_bytes()\n",
    "file_base64_urlsafe = base64.urlsafe_b64encode(file_bytes)\n",
    "\n",
    "memory_file = io.BytesIO()  # Mimics the zip file in the filesystem\n",
    "\n",
    "zip_handler = zipfile.ZipFile(memory_file, \"w\", zipfile.ZIP_DEFLATED)\n",
    "\n",
    "with zip_handler:  # Context manager for automatic close\n",
    "    zip_handler.writestr(file_path.name, file_bytes)\n",
    "\n",
    "    \n",
    "memory_file.seek(0)  # Resets the pointer to the beginning of the file\n",
    "zip_bytes = memory_file.read()\n",
    "zip_base64_urlsafe = base64.urlsafe_b64encode(zip_bytes)\n",
    "\n",
    "print(f\"Size before compression: {len(file_base64_urlsafe)} characters\")\n",
    "print(f\" Size after compression: {len(zip_base64_urlsafe)} characters\")\n",
    "print(f\"           Compresion %: {len(zip_base64_urlsafe) / len(file_base64_urlsafe) * 100:.2f}%\")"
   ]
  },
  {
   "cell_type": "markdown",
   "id": "cbf424d8-f2d1-4c0b-aee9-4ca7ca131a53",
   "metadata": {},
   "source": [
    "### Decoding"
   ]
  },
  {
   "cell_type": "markdown",
   "id": "02f21505-eb8f-42f6-aa45-fba4ac15991e",
   "metadata": {},
   "source": [
    "The process for decoding is straightforward, instead of using a zip file from the filesystem, a bytes object is cast to `BytesIO` which allows the `zipfile` module to work with the bytes object as if it were a file."
   ]
  },
  {
   "cell_type": "code",
   "execution_count": 595,
   "id": "03379a34-086b-4a27-9fba-86595f2182a3",
   "metadata": {},
   "outputs": [
    {
     "name": "stdout",
     "output_type": "stream",
     "text": [
      "The extracted file is the same\n"
     ]
    }
   ],
   "source": [
    "zip_decoded = base64.urlsafe_b64decode(zip_base64_urlsafe)\n",
    "zip_decoded_io = io.BytesIO(zip_decoded)\n",
    "zip_decoded_io.seek(0)\n",
    "\n",
    "zip_handler = zipfile.ZipFile(zip_decoded_io, \"r\")\n",
    "decoded_unzipped_bytes = zip_handler.read(file_path.name)\n",
    "\n",
    "if decoded_unzipped_bytes == file_path.read_bytes():\n",
    "    print(\"The extracted file is the same\")\n",
    "else:\n",
    "    print(\"The extracted file is NOT the same\")"
   ]
  },
  {
   "cell_type": "markdown",
   "id": "a4a446f7-02cd-477c-a523-a603880beb08",
   "metadata": {},
   "source": [
    "## Conclusion"
   ]
  },
  {
   "cell_type": "markdown",
   "id": "1dfe7629-7643-4aea-8e09-47797520a2eb",
   "metadata": {},
   "source": [
    "Base64 is an encoding mechanism that allows to convert to string long sequences of bytes, it has two supported implementations in Python, standart and urlsafe.\n",
    "\n",
    "Base64 is **not** a compresion algorithm but it can be combined with the `zipfile` module to compress bytes or files and then encode them to base64. The resulting bytes will be both compressed and encoded. \n",
    "\n",
    "If working with compression, it is possible to work with temporary zip files or everything in-memory."
   ]
  }
 ],
 "metadata": {
  "kernelspec": {
   "display_name": "Python 3 (ipykernel)",
   "language": "python",
   "name": "python3"
  },
  "language_info": {
   "codemirror_mode": {
    "name": "ipython",
    "version": 3
   },
   "file_extension": ".py",
   "mimetype": "text/x-python",
   "name": "python",
   "nbconvert_exporter": "python",
   "pygments_lexer": "ipython3",
   "version": "3.8.10"
  }
 },
 "nbformat": 4,
 "nbformat_minor": 5
}
