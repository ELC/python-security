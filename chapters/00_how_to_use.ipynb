{
 "cells": [
  {
   "cell_type": "markdown",
   "source": [
    "# How to use this book "
   ],
   "metadata": {}
  },
  {
   "cell_type": "markdown",
   "source": [
    "This site is a digital book built with [Jupyter-Book](https://jupyterbook.org/intro.html), it can be displayed on mobile devices as well as PC. In the top part you can find some icons for enhanced interactivity, each of which is explain below."
   ],
   "metadata": {}
  },
  {
   "cell_type": "markdown",
   "source": [
    "## <i class=\"fa fa-rocket\" aria-hidden=\"true\"></i> Interactive Notebook\r\n",
    "\r\n",
    "If this icon is available, you have the following options to interact:\r\n",
    "\r\n",
    "- <img src=\"https://sebasguts.github.io/GAPDaysBinderTutorial/images/logo.png\"  width=\"20\" height=\"20\"> Generates the [Binder](https://mybinder.org/) of the current document (Only available in .ipynb files)\r\n",
    "\r\n",
    "- <img src=\"https://themachinelearners.com/wp-content/uploads/2020/05/colab_favicon_256px.png\"  width=\"20\" height=\"20\"> Generates the [Google Colab](https://colab.research.google.com) of the current document (Only available in .ipynb files)\r\n",
    "\r\n",
    "- <i class=\"fas fa-play\"></i> Generates interaction in the current document with [Thebe](https://github.com/executablebooks/thebe) - Click and wait until Binder is ready (message in the top of the current page).\r\n",
    "\r\n",
    "Both Binder and Colab will open a new page while Thebe will update the current page without reloading. Keep in mind that it may take a few seconds to get everything ready.\r\n"
   ],
   "metadata": {}
  },
  {
   "cell_type": "markdown",
   "source": [
    "## <i class=\"fas fa-expand\" aria-hidden=\"true\"></i> Fullscreen\r\n",
    "\r\n",
    "This button will change to fullscreen mode, it may be useful when using low-resolution devices"
   ],
   "metadata": {}
  },
  {
   "cell_type": "markdown",
   "source": [
    "## <i class=\"fab fa-github\" aria-hidden=\"true\"></i> GitHub \r\n",
    " \r\n",
    "Github is a code repository and is the place where all the source material for this site lives. \r\n",
    "\r\n",
    "- <i class=\"fab fa-github\" aria-hidden=\"true\"></i> To see the Repository with all source files\r\n",
    "\r\n",
    "- <i class=\"fas fa-pencil-alt\"></i> To suggest changes in the current document."
   ],
   "metadata": {}
  },
  {
   "cell_type": "markdown",
   "source": [
    "## <i class=\"fa fa-download\" aria-hidden=\"true\"></i> Download\r\n",
    "\r\n",
    "If this icon is present the page can be downloaded, depending on the format the options may vary.\r\n",
    "\r\n",
    "- Jupyter notebook *.ipynb (when available)\r\n",
    "- Markdown *.md (when available)\r\n",
    "- Document *.pdf (when available, with printout of the browser)"
   ],
   "metadata": {}
  },
  {
   "cell_type": "markdown",
   "source": [
    "## Hide/Show"
   ],
   "metadata": {}
  },
  {
   "cell_type": "markdown",
   "source": [
    "Some pages may have content yet to be displayed.  When this happens, \"Click to Show\" will appear on the far right."
   ],
   "metadata": {}
  },
  {
   "cell_type": "code",
   "execution_count": 3,
   "source": [
    "print(\"Example of 'Click to Show'\")"
   ],
   "outputs": [
    {
     "output_type": "stream",
     "name": "stdout",
     "text": [
      "Ejemplo de 'Click to Show'\n"
     ]
    }
   ],
   "metadata": {
    "tags": [
     "hide-output"
    ]
   }
  },
  {
   "cell_type": "code",
   "execution_count": 2,
   "source": [
    "4 ** 4"
   ],
   "outputs": [
    {
     "output_type": "execute_result",
     "data": {
      "text/plain": [
       "256"
      ]
     },
     "metadata": {},
     "execution_count": 2
    }
   ],
   "metadata": {
    "tags": [
     "hide-output"
    ]
   }
  },
  {
   "cell_type": "markdown",
   "source": [
    "## Final Comments\r\n",
    "\r\n",
    "If you still have any doubts, please feel free to contact the administrator at the email in the footer."
   ],
   "metadata": {}
  }
 ],
 "metadata": {
  "celltoolbar": "Edit Metadata",
  "kernelspec": {
   "display_name": "Python 3",
   "language": "python",
   "name": "python3"
  },
  "language_info": {
   "codemirror_mode": {
    "name": "ipython",
    "version": 3
   },
   "file_extension": ".py",
   "mimetype": "text/x-python",
   "name": "python",
   "nbconvert_exporter": "python",
   "pygments_lexer": "ipython3",
   "version": "3.7.9"
  },
  "toc": {
   "base_numbering": 1,
   "nav_menu": {},
   "number_sections": true,
   "sideBar": true,
   "skip_h1_title": false,
   "title_cell": "Contenido",
   "title_sidebar": "Contenido",
   "toc_cell": true,
   "toc_position": {},
   "toc_section_display": true,
   "toc_window_display": true
  }
 },
 "nbformat": 4,
 "nbformat_minor": 4
}