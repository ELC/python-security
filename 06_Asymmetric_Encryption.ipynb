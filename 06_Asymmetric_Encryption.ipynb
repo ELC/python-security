{
 "cells": [
  {
   "cell_type": "markdown",
   "id": "3ee4f5bf-b234-4943-b00c-025abd55f238",
   "metadata": {},
   "source": [
    "# Asymmetric Encryption"
   ]
  },
  {
   "cell_type": "markdown",
   "id": "083bb9a9-81d5-4595-8510-20159bbbd8aa",
   "metadata": {},
   "source": [
    "## RSA"
   ]
  },
  {
   "cell_type": "code",
   "execution_count": 15,
   "id": "5767995c-563a-4126-abda-b3e3cafd2ad9",
   "metadata": {},
   "outputs": [],
   "source": [
    "from cryptography.hazmat.primitives import hashes\n",
    "from cryptography.hazmat.primitives.asymmetric import rsa, padding"
   ]
  },
  {
   "cell_type": "markdown",
   "id": "591ceb8f-ab26-4863-a44d-ab79cefb4326",
   "metadata": {},
   "source": [
    "### Generating Keys"
   ]
  },
  {
   "cell_type": "code",
   "execution_count": 16,
   "id": "07d05080-2e09-498f-a618-0833e4e462b8",
   "metadata": {},
   "outputs": [],
   "source": [
    "private_key = rsa.generate_private_key(\n",
    "    public_exponent=65537,\n",
    "    key_size=2048,\n",
    ")\n",
    "\n",
    "public_key = private_key.public_key()"
   ]
  },
  {
   "cell_type": "markdown",
   "id": "ae32ec08-d2f3-4602-84ce-c91cd9ba655c",
   "metadata": {},
   "source": [
    "### Encrypting"
   ]
  },
  {
   "cell_type": "code",
   "execution_count": 38,
   "id": "a3b4679e-b11c-4583-92c4-90e8276c48f1",
   "metadata": {},
   "outputs": [
    {
     "name": "stdout",
     "output_type": "stream",
     "text": [
      "Encrypted Text: 4ff0ef97f2350a89d83d25d77fee64af5b3a154536a6e70e34802a9a140e45c388693cba9417dbca73c38a5dc4a840dc5d7f184b93f6986f4a28e64bfb6e5c772eec1037a8e78381cedc85c119ff08c20632537fd31779b1fee129ab0466399b8b3a5d768580e3af9eeb75cbe3f1277e9d02a75186c7991b904346e8926501f7bbc3a9743c90ae82a4d9b88ccbfd258adce4a641219b45681479e50b4c5fff24db480faed2647587e319ae8adc629a8ae3069608a61556f7c1b2ad6147b2cd8d5de2d9858399b145df0ed6948d4783f8d3f6be56adf387d99ce2d2d0b8aa1fee08b50a533d9e077d37f09d7f379fe80ebf88271afcfbb579c9a7fc409a7a7616\n"
     ]
    }
   ],
   "source": [
    "message = b\"Hello World!\"\n",
    "\n",
    "message_encrypted = public_key.encrypt(\n",
    "    message,\n",
    "    padding.OAEP(\n",
    "        mgf=padding.MGF1(algorithm=hashes.SHA256()),\n",
    "        algorithm=hashes.SHA256(),\n",
    "        label=None\n",
    "    )\n",
    ")\n",
    "\n",
    "print(f\"Encrypted Text: {message_encrypted.hex()}\")"
   ]
  },
  {
   "cell_type": "markdown",
   "id": "d406c352-2701-4548-8f3e-bf2f39c29120",
   "metadata": {},
   "source": [
    "### Decrypting"
   ]
  },
  {
   "cell_type": "code",
   "execution_count": 40,
   "id": "d9706b64-4e9b-4dfc-8c91-99c38674d8d1",
   "metadata": {},
   "outputs": [
    {
     "name": "stdout",
     "output_type": "stream",
     "text": [
      "Decrypted Message: b'Hello World!'\n"
     ]
    }
   ],
   "source": [
    "message_decrypted = private_key.decrypt(\n",
    "    message_encrypted,\n",
    "    padding.OAEP(\n",
    "        mgf=padding.MGF1(algorithm=hashes.SHA256()),\n",
    "        algorithm=hashes.SHA256(),\n",
    "        label=None\n",
    "    )\n",
    ")\n",
    "\n",
    "print(f\"Decrypted Message: {message_decrypted}\")"
   ]
  },
  {
   "cell_type": "markdown",
   "id": "d7d6d0e3-b6e8-45ec-978f-9a4e6504b248",
   "metadata": {},
   "source": [
    "## Using PEM Files for Keys"
   ]
  },
  {
   "cell_type": "code",
   "execution_count": 41,
   "id": "cbbbeeab-7aab-45ab-9fe1-e70c59749e8e",
   "metadata": {},
   "outputs": [],
   "source": [
    "from pathlib import Path\n",
    "\n",
    "from cryptography.hazmat.primitives import serialization"
   ]
  },
  {
   "cell_type": "markdown",
   "id": "a849c4e7-52cc-4d15-940e-371fb4586d5f",
   "metadata": {},
   "source": [
    "### Storing the Keys"
   ]
  },
  {
   "cell_type": "code",
   "execution_count": 49,
   "id": "4f8a0dd0-0cf8-4543-ba93-b49fb5a16a4c",
   "metadata": {},
   "outputs": [
    {
     "data": {
      "text/plain": [
       "451"
      ]
     },
     "execution_count": 49,
     "metadata": {},
     "output_type": "execute_result"
    }
   ],
   "source": [
    "password = b\"my secret\"\n",
    "\n",
    "encoding = serialization.Encoding.PEM\n",
    "format_private = serialization.PrivateFormat.PKCS8\n",
    "algorithm = serialization.BestAvailableEncryption(password)\n",
    "\n",
    "key_pem = private_key.private_bytes(\n",
    "   encoding=encoding,\n",
    "   format=format_private,\n",
    "   encryption_algorithm=algorithm,\n",
    ")\n",
    "\n",
    "public_key = private_key.public_key()\n",
    "\n",
    "format_public = serialization.PublicFormat.SubjectPublicKeyInfo\n",
    "\n",
    "public_pem = public_key.public_bytes(\n",
    "   encoding=encoding,\n",
    "   format=format_public,\n",
    ")\n",
    "\n",
    "key_pem_path = Path(\"key.pem\")\n",
    "key_pem_path.write_bytes(key_pem)\n",
    "\n",
    "public_pem_path = Path(\"public.pem\")\n",
    "public_pem_path.write_bytes(public_pem)"
   ]
  },
  {
   "cell_type": "markdown",
   "id": "9c85aed4-4b79-4c65-9d35-19d24d4b8cb8",
   "metadata": {},
   "source": [
    "### Loading the Keys"
   ]
  },
  {
   "cell_type": "markdown",
   "id": "879a3350-8253-4324-8313-da06935bb724",
   "metadata": {},
   "source": [
    "#### Wrong Password"
   ]
  },
  {
   "cell_type": "code",
   "execution_count": 56,
   "id": "b2332ba2-feba-4320-9d59-2386fe9183eb",
   "metadata": {},
   "outputs": [
    {
     "name": "stdout",
     "output_type": "stream",
     "text": [
      "Incorrect Password\n"
     ]
    }
   ],
   "source": [
    "private_pem_bytes = Path(\"key.pem\").read_bytes()\n",
    "public_pem_bytes = Path(\"public.pem\").read_bytes()\n",
    "\n",
    "guess_password = b\"my pass\"\n",
    "\n",
    "try:\n",
    "    private_key = serialization.load_pem_private_key(\n",
    "        private_pem_text,\n",
    "        password=guess_password,\n",
    "    )\n",
    "    public_key = serialization.load_pem_public_key(public_pem_bytes)\n",
    "except ValueError:\n",
    "    print(\"Incorrect Password\")"
   ]
  },
  {
   "cell_type": "markdown",
   "id": "b0df00fd-b379-457e-b6e1-d78aca43c1d7",
   "metadata": {},
   "source": [
    "#### Right Password"
   ]
  },
  {
   "cell_type": "code",
   "execution_count": 57,
   "id": "b1dc710b-9242-452c-9509-9b19fbd01c65",
   "metadata": {},
   "outputs": [],
   "source": [
    "private_pem_text = Path(\"key.pem\").read_bytes()\n",
    "public_pem_bytes = Path(\"public.pem\").read_bytes()\n",
    "\n",
    "try:\n",
    "    private_key = serialization.load_pem_private_key(\n",
    "        private_pem_text,\n",
    "        password=password,\n",
    "    )\n",
    "    public_key = serialization.load_pem_public_key(public_pem_bytes)\n",
    "except ValueError:\n",
    "    print(\"Incorrect Password\")"
   ]
  },
  {
   "cell_type": "markdown",
   "id": "4a4f9ab0-077e-479c-bf80-b9bcbca0378b",
   "metadata": {},
   "source": [
    "### Testing Keys"
   ]
  },
  {
   "cell_type": "markdown",
   "id": "96416e4d-6150-4a5e-85b6-a988daa13315",
   "metadata": {},
   "source": [
    "#### Encrypting"
   ]
  },
  {
   "cell_type": "code",
   "execution_count": 58,
   "id": "40640202-0870-4f57-a947-b4e026e1f9b4",
   "metadata": {},
   "outputs": [
    {
     "name": "stdout",
     "output_type": "stream",
     "text": [
      "Encrypted Text: 9b00e74a22ea4597bfa37cd53c575ad18a0c49867957de5b9dc10ec7e99545a3e90ef39e3481553581a853387287eca71de53b32cd6106f70bacf4311b23117cc46d5d0f949988278d8cdc22418fe8b5fbf704d66466f155fbdb3b88fb516278e35df663a28ef8eaa25c41c6a5e4954bbe32682fa761ad553b2a55ecda82b52d76ff56cb2c4daa6570539e57a6719ac6710ba9b6b4f66f90f75eb3088598e52b9f94805748ea5277dd3cf61903f160f638a126d944ebc0fbb49522428ca463f41b3839f9e762f02aceaa2c6b388f786de2f9834516abf38076f81154e566fa982217ad741b3929be812f2e6f108bc85d8e789e452421bcc0e45020e701bef020\n"
     ]
    }
   ],
   "source": [
    "message = b\"Hello World!\"\n",
    "\n",
    "message_encrypted = public_key.encrypt(\n",
    "    message,\n",
    "    padding.OAEP(\n",
    "        mgf=padding.MGF1(algorithm=hashes.SHA256()),\n",
    "        algorithm=hashes.SHA256(),\n",
    "        label=None\n",
    "    )\n",
    ")\n",
    "\n",
    "print(f\"Encrypted Text: {message_encrypted.hex()}\")"
   ]
  },
  {
   "cell_type": "markdown",
   "id": "13a54632-b31b-4565-86bc-b3e56f1bfeda",
   "metadata": {},
   "source": [
    "#### Decrypting"
   ]
  },
  {
   "cell_type": "code",
   "execution_count": 59,
   "id": "97e86ffe-c80f-473e-9347-f29d5847f7b9",
   "metadata": {},
   "outputs": [
    {
     "name": "stdout",
     "output_type": "stream",
     "text": [
      "Decrypted Message: b'Hello World!'\n"
     ]
    }
   ],
   "source": [
    "message_decrypted = private_key.decrypt(\n",
    "    message_encrypted,\n",
    "    padding.OAEP(\n",
    "        mgf=padding.MGF1(algorithm=hashes.SHA256()),\n",
    "        algorithm=hashes.SHA256(),\n",
    "        label=None\n",
    "    )\n",
    ")\n",
    "\n",
    "print(f\"Decrypted Message: {message_decrypted}\")"
   ]
  }
 ],
 "metadata": {
  "kernelspec": {
   "display_name": "Python 3 (ipykernel)",
   "language": "python",
   "name": "python3"
  },
  "language_info": {
   "codemirror_mode": {
    "name": "ipython",
    "version": 3
   },
   "file_extension": ".py",
   "mimetype": "text/x-python",
   "name": "python",
   "nbconvert_exporter": "python",
   "pygments_lexer": "ipython3",
   "version": "3.8.10"
  }
 },
 "nbformat": 4,
 "nbformat_minor": 5
}
