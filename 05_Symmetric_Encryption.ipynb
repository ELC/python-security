{
 "cells": [
  {
   "cell_type": "markdown",
   "id": "fefa5e0e-a6a1-4add-90eb-46a37d2cffbe",
   "metadata": {},
   "source": [
    "# Symmetric Encryption"
   ]
  },
  {
   "cell_type": "markdown",
   "id": "f677e5cf-f643-47ff-83ea-4301fd028b2a",
   "metadata": {},
   "source": [
    "## The AES Method (DO NOT USE IN PRODUCTION)"
   ]
  },
  {
   "cell_type": "code",
   "execution_count": 101,
   "id": "d4e9640e-afae-4042-b711-a385710f826d",
   "metadata": {},
   "outputs": [],
   "source": [
    "import os\n",
    "from cryptography.hazmat.primitives.ciphers import Cipher, algorithms, modes  # pip install cryptography"
   ]
  },
  {
   "cell_type": "markdown",
   "id": "8798e23b-8ca8-4083-b37c-f61f05c08144",
   "metadata": {},
   "source": [
    "### Encrypting"
   ]
  },
  {
   "cell_type": "code",
   "execution_count": 109,
   "id": "1523efe1-8de6-4855-85b7-184d87addb0a",
   "metadata": {},
   "outputs": [
    {
     "name": "stdout",
     "output_type": "stream",
     "text": [
      "Secret Key: 3e46ddb8b56a0833ea7669fe1709bb5fc9f139ea8a0bb7af603400c373040670\n",
      "Public Initialization Vector: a6b81d98a9a1b117311b9533dbf7ad96\n",
      "Encrypted Message: f8121d570a4a8156864f18c0\n"
     ]
    }
   ],
   "source": [
    "message = b\"Hello World!\"\n",
    "\n",
    "key = os.urandom(32)\n",
    "initialization_vector = os.urandom(16)\n",
    "\n",
    "algorithm = algorithms.AES(key)\n",
    "mode = modes.CTR(initialization_vector)\n",
    "\n",
    "cipher = Cipher(algorithm, mode)\n",
    "encryptor = cipher.encryptor()\n",
    "\n",
    "message_encrypted = encryptor.update(message) + encryptor.finalize()\n",
    "\n",
    "print(f\"Secret Key: {key.hex()}\")\n",
    "print(f\"Public Initialization Vector: {initialization_vector.hex()}\")\n",
    "print(f\"Encrypted Message: {message_encrypted.hex()}\")"
   ]
  },
  {
   "cell_type": "markdown",
   "id": "8021ccd2-cb97-4168-9585-cc77f470e2ab",
   "metadata": {},
   "source": [
    "### Decrypting"
   ]
  },
  {
   "cell_type": "markdown",
   "id": "ccbad1db-f5b7-462c-a6a5-326655544fd8",
   "metadata": {},
   "source": [
    "#### Wrong Key"
   ]
  },
  {
   "cell_type": "code",
   "execution_count": 110,
   "id": "2e100610-ddd5-4124-87d3-6a2424b03622",
   "metadata": {},
   "outputs": [
    {
     "name": "stdout",
     "output_type": "stream",
     "text": [
      "Decrypted Message: b'\\x8b\\xc1D\\xe6\\\\79_\\x94\\xfa\\x8e\\x85'\n"
     ]
    }
   ],
   "source": [
    "guess_password = bytes.fromhex(\"1329f363a87306c33952a7cbfc0ebf8105126764d1c72c511031a5b028110cf9\")\n",
    "algorithm = algorithms.AES(guess_password)\n",
    "mode = modes.CTR(initialization_vector)\n",
    "\n",
    "cipher = Cipher(algorithm, mode)\n",
    "\n",
    "decryptor = cipher.decryptor()\n",
    "message_decrypted = decryptor.update(message_encrypted) + decryptor.finalize()\n",
    "print(f\"Decrypted Message: {message_decrypted}\")"
   ]
  },
  {
   "cell_type": "markdown",
   "id": "12095506-0209-4434-af35-c612f6b6ca22",
   "metadata": {},
   "source": [
    "#### Right Key"
   ]
  },
  {
   "cell_type": "code",
   "execution_count": 111,
   "id": "3e5f4b94-ee74-4b2b-9c91-655cbc2dee38",
   "metadata": {},
   "outputs": [
    {
     "name": "stdout",
     "output_type": "stream",
     "text": [
      "Decrypted Message: b'Hello World!'\n"
     ]
    }
   ],
   "source": [
    "algorithm = algorithms.AES(key)\n",
    "mode = modes.CTR(initialization_vector)\n",
    "\n",
    "cipher = Cipher(algorithm, mode)\n",
    "\n",
    "decryptor = cipher.decryptor()\n",
    "message_decrypted = decryptor.update(message_encrypted) + decryptor.finalize()\n",
    "print(f\"Decrypted Message: {message_decrypted}\")"
   ]
  },
  {
   "cell_type": "markdown",
   "id": "636100b3-4087-46aa-a38c-ca94eec573f6",
   "metadata": {},
   "source": [
    "## The Fernet Method"
   ]
  },
  {
   "cell_type": "code",
   "execution_count": 112,
   "id": "3a083b06-5c39-4db7-b372-8f4748f8df38",
   "metadata": {},
   "outputs": [],
   "source": [
    "from cryptography.fernet import Fernet"
   ]
  },
  {
   "cell_type": "markdown",
   "id": "a902d557-c16c-4f35-be3d-d97c0b0c459f",
   "metadata": {},
   "source": [
    "### Encrypting"
   ]
  },
  {
   "cell_type": "code",
   "execution_count": 113,
   "id": "779b9c71-9e45-418f-a8d5-22e28dcc0fa8",
   "metadata": {},
   "outputs": [
    {
     "name": "stdout",
     "output_type": "stream",
     "text": [
      "Secret Key: 305a53654c345f4f474e77495573716742513956456b626366714663554d45326d667431323235344262493d\n",
      "Encrypted Message: 6741414141414268686468346d5541464b633442306f307259554235684359763842647746486d574d4e49476d796b35447a326c616a3847796c33626b4979465f51585a79586b63495730506150546766354a4f684d2d533557365362694c6578773d3d\n"
     ]
    }
   ],
   "source": [
    "message = b\"Hello World!\"\n",
    "\n",
    "key = Fernet.generate_key()\n",
    "\n",
    "cipher = Fernet(key)\n",
    "\n",
    "message_encrypted = cipher.encrypt(message)\n",
    "\n",
    "print(f\"Secret Key: {key.hex()}\")\n",
    "print(f\"Encrypted Message: {message_encrypted.hex()}\")"
   ]
  },
  {
   "cell_type": "markdown",
   "id": "a1e11430-13c6-4376-9471-f62a65c72b80",
   "metadata": {},
   "source": [
    "### Decrypting"
   ]
  },
  {
   "cell_type": "markdown",
   "id": "1e48a8d4-d9db-4789-bf1e-e2f0ef5d8e6a",
   "metadata": {},
   "source": [
    "#### Wrong Key"
   ]
  },
  {
   "cell_type": "code",
   "execution_count": 117,
   "id": "05686caf-b1a5-438c-b91e-67a17cfae85d",
   "metadata": {},
   "outputs": [
    {
     "name": "stdout",
     "output_type": "stream",
     "text": [
      "Token Invalid\n"
     ]
    }
   ],
   "source": [
    "guess_password = bytes.fromhex(\"785754746c6136366d4f467431395543336c46444c71692d3249792d5a365374386665566f64726f4639303d\")\n",
    "\n",
    "cipher = Fernet(guess_password)\n",
    "\n",
    "try:\n",
    "    message_decrypted = cipher.decrypt(message_encrypted)\n",
    "    print(f\"Encrypted Message: {message_decrypted}\")\n",
    "except cryptography.fernet.InvalidToken:\n",
    "    print(\"Token Invalid\")"
   ]
  },
  {
   "cell_type": "markdown",
   "id": "af6b2882-9711-4f0b-9a4a-d3406643f8a4",
   "metadata": {},
   "source": [
    "#### Right Key"
   ]
  },
  {
   "cell_type": "code",
   "execution_count": 118,
   "id": "fd8cd3fc-70eb-4048-aacc-429f5a4e8f0c",
   "metadata": {},
   "outputs": [
    {
     "name": "stdout",
     "output_type": "stream",
     "text": [
      "Encrypted Message: b'Hello World!'\n"
     ]
    }
   ],
   "source": [
    "cipher = Fernet(key)\n",
    "\n",
    "try:\n",
    "    message_decrypted = cipher.decrypt(message_encrypted)\n",
    "    print(f\"Encrypted Message: {message_decrypted}\")\n",
    "except cryptography.fernet.InvalidToken:\n",
    "    print(\"Token Invalid\")"
   ]
  }
 ],
 "metadata": {
  "kernelspec": {
   "display_name": "Python 3 (ipykernel)",
   "language": "python",
   "name": "python3"
  },
  "language_info": {
   "codemirror_mode": {
    "name": "ipython",
    "version": 3
   },
   "file_extension": ".py",
   "mimetype": "text/x-python",
   "name": "python",
   "nbconvert_exporter": "python",
   "pygments_lexer": "ipython3",
   "version": "3.8.10"
  }
 },
 "nbformat": 4,
 "nbformat_minor": 5
}
