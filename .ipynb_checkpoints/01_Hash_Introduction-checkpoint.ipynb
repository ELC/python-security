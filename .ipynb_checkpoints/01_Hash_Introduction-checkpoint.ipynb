{
 "cells": [
  {
   "cell_type": "markdown",
   "id": "3afb6610-280a-42c3-8cc6-fe79643ae1fb",
   "metadata": {},
   "source": [
    "# Introduction to Hash Functions"
   ]
  },
  {
   "cell_type": "markdown",
   "id": "fa76a7c0-40f0-41e1-9c25-557a1d4e5fa8",
   "metadata": {},
   "source": [
    "## Built-In Hash Function"
   ]
  },
  {
   "cell_type": "markdown",
   "id": "acd697d4-7ccf-4cb9-af54-9babc242342e",
   "metadata": {},
   "source": [
    "Python has a [built-in hash function](https://docs.python.org/3/library/functions.html#hash) which is internally used by [sets](https://docs.python.org/3/tutorial/datastructures.html#sets) and [dictionaries](https://docs.python.org/3/tutorial/datastructures.html#dictionaries). However this is not a secure or cryptographic hash but rather a convient function to make use of the fast speed of [HashTables](https://en.wikipedia.org/wiki/Hash_table)."
   ]
  },
  {
   "cell_type": "code",
   "execution_count": 2,
   "id": "0c19024b-ef52-477a-a7f5-76a9795e4d3d",
   "metadata": {},
   "outputs": [
    {
     "data": {
      "text/plain": [
       "3973709272401957730"
      ]
     },
     "execution_count": 2,
     "metadata": {},
     "output_type": "execute_result"
    }
   ],
   "source": [
    "hash(\"Hello World!\")"
   ]
  },
  {
   "cell_type": "markdown",
   "id": "a8a314c6-110d-418e-b792-409622df8cd2",
   "metadata": {},
   "source": [
    "The result will be an integer and it is designed in such a way that numeric objects which are equal when compared will have the same hash even though they are actually different."
   ]
  },
  {
   "cell_type": "code",
   "execution_count": 7,
   "id": "b608d3e3-1d27-4b94-b071-48f1d76881d1",
   "metadata": {},
   "outputs": [],
   "source": [
    "import warnings"
   ]
  },
  {
   "cell_type": "code",
   "execution_count": 12,
   "id": "d3ecd7e5-8853-447d-a9a6-f352e00c38a7",
   "metadata": {},
   "outputs": [
    {
     "name": "stdout",
     "output_type": "stream",
     "text": [
      "Are 1 and 1.0 the same object? False\n",
      "Does 1 have the same hash as 1.0? True\n"
     ]
    },
    {
     "name": "stderr",
     "output_type": "stream",
     "text": [
      "<>:2: SyntaxWarning: \"is\" with a literal. Did you mean \"==\"?\n",
      "<>:2: SyntaxWarning: \"is\" with a literal. Did you mean \"==\"?\n",
      "C:\\Users\\elcg\\AppData\\Local\\Temp/ipykernel_26360/2210236312.py:2: SyntaxWarning: \"is\" with a literal. Did you mean \"==\"?\n",
      "  print(f\"Are 1 and 1.0 the same object? {1 is 1.0}\")\n"
     ]
    }
   ],
   "source": [
    "with warnings.catch_warnings(): # To avoid Syntax Warning\n",
    "    print(f\"Are 1 and 1.0 the same object? {1 is 1.0}\")\n",
    "print(f\"Does 1 have the same hash as 1.0? {hash(1) == hash(1.0)}\")"
   ]
  },
  {
   "cell_type": "markdown",
   "id": "e6e645db-73df-4c78-82c9-9172dae769bb",
   "metadata": {},
   "source": [
    "This means this function SHOULD NOT be used for any cryptographic work. Instead, the [hashlib module](https://docs.python.org/3/library/hashlib.html) should be used."
   ]
  },
  {
   "cell_type": "markdown",
   "id": "a8a6d827-17c8-41f6-9587-72c1e3cf1bf0",
   "metadata": {},
   "source": [
    "## Hashlib Module"
   ]
  },
  {
   "cell_type": "markdown",
   "id": "602d7083-dd21-4b3c-a8fa-e05e7145373f",
   "metadata": {},
   "source": [
    "The [hashlib module](https://docs.python.org/3/library/hashlib.html) uses the [OpenSSL](https://www.openssl.org/) library under the hood and exposes several of its cryptographic hash functions."
   ]
  },
  {
   "cell_type": "code",
   "execution_count": 21,
   "id": "1aa678dc-edda-46a0-9775-8d178e722e04",
   "metadata": {},
   "outputs": [],
   "source": [
    "import hashlib"
   ]
  },
  {
   "cell_type": "markdown",
   "id": "1b7695f6-fa46-4697-bb4c-0b08d645b701",
   "metadata": {},
   "source": [
    "### Hashing Data"
   ]
  },
  {
   "cell_type": "markdown",
   "id": "0e8c459b-85d5-4d03-823f-9aef68b0cf7e",
   "metadata": {},
   "source": [
    "#### Function Call"
   ]
  },
  {
   "cell_type": "code",
   "execution_count": 33,
   "id": "5d044d52-16db-44de-ba17-5162a731866d",
   "metadata": {},
   "outputs": [
    {
     "name": "stdout",
     "output_type": "stream",
     "text": [
      "Bytes Digest: b'\\x7f\\x83\\xb1e\\x7f\\xf1\\xfcS\\xb9-\\xc1\\x81H\\xa1\\xd6]\\xfc-K\\x1f\\xa3\\xd6w(J\\xdd\\xd2\\x00\\x12m\\x90i'\n",
      "Hex Digest: 7f83b1657ff1fc53b92dc18148a1d65dfc2d4b1fa3d677284addd200126d9069\n"
     ]
    }
   ],
   "source": [
    "hash_object = hashlib.sha256(b\"Hello World!\")\n",
    "print(f\"Bytes Digest: {hash_object.digest()}\")\n",
    "print(f\"Hex Digest: {hash_object.hexdigest()}\")"
   ]
  },
  {
   "cell_type": "markdown",
   "id": "e02c9811-6997-43bf-ba6f-87e9292a8f74",
   "metadata": {},
   "source": [
    "#### Object Instantiation"
   ]
  },
  {
   "cell_type": "code",
   "execution_count": 30,
   "id": "a6f72a1f-859f-4776-907e-d476699a61c8",
   "metadata": {},
   "outputs": [
    {
     "name": "stdout",
     "output_type": "stream",
     "text": [
      "Bytes Digest: b'\\x7f\\x83\\xb1e\\x7f\\xf1\\xfcS\\xb9-\\xc1\\x81H\\xa1\\xd6]\\xfc-K\\x1f\\xa3\\xd6w(J\\xdd\\xd2\\x00\\x12m\\x90i'\n",
      "Hex Digest: 7f83b1657ff1fc53b92dc18148a1d65dfc2d4b1fa3d677284addd200126d9069\n"
     ]
    }
   ],
   "source": [
    "hasher = hashlib.new('sha256')\n",
    "hasher.update(b\"Hello World!\")\n",
    "print(f\"Bytes Digest: {hasher.digest()}\")\n",
    "print(f\"Hex Digest: {hasher.hexdigest()}\")"
   ]
  },
  {
   "cell_type": "markdown",
   "id": "af139728-f8ad-4cee-8568-550900a02402",
   "metadata": {},
   "source": [
    "## Appendix: The Bytes Data Type"
   ]
  },
  {
   "cell_type": "markdown",
   "id": "15a26bd2-0b32-41ad-9c9a-d2c2ed83a077",
   "metadata": {},
   "source": [
    "The functions in the hashlib module requires [Bytes](https://docs.python.org/3/library/stdtypes.html#bytes-objects) objects. In the case of strings, the [encode] and [decode] methods can be used, however for custom objects, two possible ways are:\n",
    "\n",
    "1. Converting the object to json and then the json string to bytes\n",
    "1. Implementing a \\_\\_bytes__ method\n",
    "\n",
    "However, usually hashes are used with plain types like strings which are easily convertible to bytes."
   ]
  },
  {
   "cell_type": "markdown",
   "id": "34275510-bb15-4756-a463-09b8d50ba13c",
   "metadata": {},
   "source": [
    "#### Data Conversions"
   ]
  },
  {
   "cell_type": "code",
   "execution_count": 74,
   "id": "6fe2627b-fc87-4da9-97ac-6449dd270552",
   "metadata": {},
   "outputs": [
    {
     "name": "stdout",
     "output_type": "stream",
     "text": [
      "     Original String: Hello World!\n",
      "From String to Bytes: b'Hello World!'\n",
      "   From Bytes to Hex: 48656c6c6f20576f726c6421\n",
      "From Bytes to String: Hello World!\n",
      "   From Hex to Bytes: b'Hello World!'\n"
     ]
    }
   ],
   "source": [
    "data_string = \"Hello World!\"\n",
    "data_bytes = data_string.encode(\"utf-8\")\n",
    "data_hex = data_bytes.hex()\n",
    "data_decoded = data_bytes.decode(\"utf-8\")\n",
    "data_hex_bytes = bytes.fromhex(data_hex)\n",
    "\n",
    "print(f\"     Original String: {data_string}\")\n",
    "print(f\"From String to Bytes: {data_bytes}\")\n",
    "print(f\"   From Bytes to Hex: {data_hex}\")\n",
    "print(f\"From Bytes to String: {data_decoded}\")\n",
    "print(f\"   From Hex to Bytes: {data_hex_bytes}\")"
   ]
  },
  {
   "cell_type": "markdown",
   "id": "5cd95b3a-5db6-4136-870c-1f0619e8cfe5",
   "metadata": {},
   "source": [
    "#### Data Conversions with binascii"
   ]
  },
  {
   "cell_type": "markdown",
   "id": "275c44d2-c566-4146-86aa-bd7dd9fa7330",
   "metadata": {},
   "source": [
    "The [binascii module](https://docs.python.org/3/library/binascii.html) exposes two utility functions, one to convert from bytes to hex called [hexlify](https://docs.python.org/3/library/binascii.html#binascii.hexlify) and another to do the reverse conversion called [unhexlify](https://docs.python.org/3/library/binascii.html#binascii.unhexlify)\n",
    "\n",
    "**Important note:** the hexilify function returns a bytes object whereas the .hex() method of bytes returns a string."
   ]
  },
  {
   "cell_type": "code",
   "execution_count": 77,
   "id": "dcd7f113-c9f9-4b48-8e6b-b979e1a45e7f",
   "metadata": {},
   "outputs": [
    {
     "name": "stdout",
     "output_type": "stream",
     "text": [
      "     Original String: Hello World!\n",
      "From String to Bytes: b'Hello World!'\n",
      "   From Bytes to Hex: b'48656c6c6f20576f726c6421'\n",
      "   From Hex to Bytes: b'Hello World!'\n"
     ]
    }
   ],
   "source": [
    "import binascii\n",
    "\n",
    "data_string = \"Hello World!\"\n",
    "data_bytes = data_string.encode(\"utf-8\")\n",
    "data_hex = binascii.hexlify(data_bytes)\n",
    "data_hex_string = binascii.unhexlify(data_hex)\n",
    "\n",
    "print(f\"     Original String: {data_string}\")\n",
    "print(f\"From String to Bytes: {data_bytes}\")\n",
    "print(f\"   From Bytes to Hex: {data_hex}\")\n",
    "print(f\"   From Hex to Bytes: {data_hex_bytes}\")"
   ]
  },
  {
   "cell_type": "markdown",
   "id": "f84dd5e4-556b-4d28-86dd-b6e2c2c46eac",
   "metadata": {},
   "source": [
    "#### Example with plain strings"
   ]
  },
  {
   "cell_type": "code",
   "execution_count": 45,
   "id": "b3d7f471-229a-4171-87fa-1d2998c4ba05",
   "metadata": {},
   "outputs": [
    {
     "name": "stdout",
     "output_type": "stream",
     "text": [
      "Original: Hello World!\n",
      " Encoded: b'Hello World!'\n",
      " Decoded: Hello World!\n",
      "  Hashed: 7f83b1657ff1fc53b92dc18148a1d65dfc2d4b1fa3d677284addd200126d9069\n"
     ]
    }
   ],
   "source": [
    "data = \"Hello World!\"\n",
    "data_bytes = data.encode(\"utf-8\")\n",
    "data_decoded = data_bytes.decode(\"utf-8\")\n",
    "data_hashed = hashlib.sha256(data_bytes).hexdigest()\n",
    "print(f\"Original: {data}\")\n",
    "print(f\" Encoded: {data_bytes}\")\n",
    "print(f\" Decoded: {data_decoded}\")\n",
    "print(f\"  Hashed: {data_hashed}\")"
   ]
  },
  {
   "cell_type": "markdown",
   "id": "10d4e1e7-ce37-4380-8936-f6884c21a746",
   "metadata": {},
   "source": [
    "#### Example with Custom objects"
   ]
  },
  {
   "cell_type": "code",
   "execution_count": 46,
   "id": "c3c688e1-a894-48cc-97bd-4ea028e4a68c",
   "metadata": {},
   "outputs": [
    {
     "name": "stdout",
     "output_type": "stream",
     "text": [
      "Original: Person(first_name='John', last_name='Doe')\n",
      " Encoded: b'{\"first_name\": \"John\", \"last_name\": \"Doe\"}'\n",
      " Decoded: Person(first_name='John', last_name='Doe')\n",
      "  Hashed: fee485b19074e0b0b2856ae5f27fcdd67ff12204cbff73c5eaa10b1aac887042\n"
     ]
    }
   ],
   "source": [
    "from dataclasses import dataclass, asdict\n",
    "import json\n",
    "\n",
    "@dataclass\n",
    "class Person:\n",
    "    first_name: str\n",
    "    last_name: str\n",
    "    \n",
    "    def __bytes__(self):\n",
    "        dictionary_representation = asdict(self)\n",
    "        json_representation = json.dumps(dictionary_representation)\n",
    "        return json_representation.encode(\"utf-8\")\n",
    "    \n",
    "    @classmethod\n",
    "    def from_bytes(cls, bytes_object):\n",
    "        string_representation = bytes_object.decode(\"utf-8\")\n",
    "        dictionary_representation = json.loads(string_representation)\n",
    "        return cls(**dictionary_representation)\n",
    "    \n",
    "person = Person(\"John\", \"Doe\")\n",
    "person_bytes = bytes(person)\n",
    "person_decoded = Person.from_bytes(person_bytes)\n",
    "person_hashed = hashlib.sha256(person_bytes).hexdigest()\n",
    "\n",
    "print(f\"Original: {person}\")\n",
    "print(f\" Encoded: {person_bytes}\")\n",
    "print(f\" Decoded: {person_decoded}\")\n",
    "print(f\"  Hashed: {person_hashed}\")"
   ]
  }
 ],
 "metadata": {
  "kernelspec": {
   "display_name": "Python 3 (ipykernel)",
   "language": "python",
   "name": "python3"
  },
  "language_info": {
   "codemirror_mode": {
    "name": "ipython",
    "version": 3
   },
   "file_extension": ".py",
   "mimetype": "text/x-python",
   "name": "python",
   "nbconvert_exporter": "python",
   "pygments_lexer": "ipython3",
   "version": "3.8.10"
  }
 },
 "nbformat": 4,
 "nbformat_minor": 5
}
