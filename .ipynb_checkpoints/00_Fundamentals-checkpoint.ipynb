{
 "cells": [
  {
   "cell_type": "markdown",
   "id": "f4703316-d099-49b5-b75f-8a325bf39885",
   "metadata": {},
   "source": [
    "# Introduction to Security"
   ]
  },
  {
   "cell_type": "markdown",
   "id": "1a583795-0695-4680-a9b3-08c96402817c",
   "metadata": {},
   "source": [
    "Security is a key concept in all software related projects, properly understanding and applying the security best practices is key for the success of the project.\n",
    "\n",
    "There are different techniques which solves different problems:\n",
    "\n",
    "- Privacy: how to store data in a format that will not compromise security even if seen by not-allowed users?\n",
    "- Integrity: how to make sure the data we receive is the originally intended and has not been tampered with?\n",
    "- Authenticity: how to make sure the data we receive is from the expected source?\n",
    "\n",
    "This questions are answered with different set of tools, depending on the context and the tech stack.\n",
    "\n",
    "Some of the most typical use cases have their own customized solutions:\n",
    "\n",
    "- **Hashes**: To store passwords in a database in a way that even if seen by non-authorized people, it will not compromise security.\n",
    "- **Digital Signature**: To provide a way for the receiver to verify if the sent message is the originally intended.\n",
    "- **Encryption**: To transform a message in a way that only the intended receiver can read.\n",
    "\n"
   ]
  },
  {
   "cell_type": "code",
   "execution_count": null,
   "id": "dc03f3af-9316-4516-8137-a8a422bfedf4",
   "metadata": {},
   "outputs": [],
   "source": []
  }
 ],
 "metadata": {
  "kernelspec": {
   "display_name": "Python 3 (ipykernel)",
   "language": "python",
   "name": "python3"
  },
  "language_info": {
   "codemirror_mode": {
    "name": "ipython",
    "version": 3
   },
   "file_extension": ".py",
   "mimetype": "text/x-python",
   "name": "python",
   "nbconvert_exporter": "python",
   "pygments_lexer": "ipython3",
   "version": "3.8.10"
  }
 },
 "nbformat": 4,
 "nbformat_minor": 5
}
