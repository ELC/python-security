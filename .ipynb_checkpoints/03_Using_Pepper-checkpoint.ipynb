{
 "cells": [
  {
   "cell_type": "markdown",
   "id": "4f0e9da1-473c-408b-bc06-778278ba7377",
   "metadata": {},
   "source": [
    "# Pepper"
   ]
  },
  {
   "cell_type": "markdown",
   "id": "9f3af53f-476b-4b7b-aa9a-e326ae479d98",
   "metadata": {},
   "source": [
    "Pepper is the name given to an array of random bytes added to the data before hashing it, it is analogous to salts with some key differences:\n",
    "\n",
    "- Peppers are secret\n",
    "- Peppers should be store in the different medium than salts, or not stored altogether"
   ]
  },
  {
   "cell_type": "code",
   "execution_count": null,
   "id": "28c751b3-21ed-46a4-81b3-d44534663abb",
   "metadata": {},
   "outputs": [],
   "source": []
  }
 ],
 "metadata": {
  "kernelspec": {
   "display_name": "Python 3 (ipykernel)",
   "language": "python",
   "name": "python3"
  },
  "language_info": {
   "codemirror_mode": {
    "name": "ipython",
    "version": 3
   },
   "file_extension": ".py",
   "mimetype": "text/x-python",
   "name": "python",
   "nbconvert_exporter": "python",
   "pygments_lexer": "ipython3",
   "version": "3.8.10"
  }
 },
 "nbformat": 4,
 "nbformat_minor": 5
}
