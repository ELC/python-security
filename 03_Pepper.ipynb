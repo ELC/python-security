{
 "cells": [
  {
   "cell_type": "markdown",
   "id": "4f0e9da1-473c-408b-bc06-778278ba7377",
   "metadata": {},
   "source": [
    "# Pepper"
   ]
  },
  {
   "cell_type": "markdown",
   "id": "9f3af53f-476b-4b7b-aa9a-e326ae479d98",
   "metadata": {},
   "source": [
    "Pepper is the name given to an array of random bytes added to the data before hashing it, it is analogous to salts with some key differences:\n",
    "\n",
    "- Peppers are secret\n",
    "- Peppers should be store in the different medium than salts, or not stored altogether\n",
    "\n",
    "The remaining vulnerability with salts is that an attacker can still run parallel attacks and try to find weak passwords, since the salt is public it can use a powerful GPU or some specialized hardware to test for commonly used password. \n",
    "\n",
    "With Pepper, even if the database is compromised, i.e. all hashes and salts are leaked, the attacker cannot parallelize the hash cracking process because to that it needs the salt (which was leaked), the hashed password (which was also leaked) and the pepper (which they do not have). That means that they are not able to test even for weak passwords in parallel.\n",
    "\n",
    "That means that even with weak passwords, pepper protects the hashes with yet another layer of security.\n",
    "\n",
    "There are two approaches to peppers:\n",
    "\n",
    "- **Secret Pepper**: here the pepper is stored somewhere but physically separated from salts and hashes, like TPM circuit, environment variables, or managed services.\n",
    "- **Re-discovered Pepper**: here the pepper is not stored and the system should re-discover it every time. \n",
    "\n",
    "Secret Peppers are fast and don't have major impact on performance, but they require an external medium to store them, moreover, if they are leaked, the security is the same as it would have been with salts alone. On the other hand, re-discovered peppers can be used without any storage but they penalized performance because of the actual search, they cannot be leaked because the system do not know their values and a different one is used each time.\n",
    "\n",
    "When using the secret approach, the pepper is usually quite long whereas when using the re-discovered approach the pepper is usually quite short to minimize the performance penalty.\n",
    "\n",
    "An example for each is provided below"
   ]
  },
  {
   "cell_type": "markdown",
   "id": "d1a30906-7b5a-49b5-8ef2-57bdab8a68ee",
   "metadata": {},
   "source": [
    "## Examples"
   ]
  },
  {
   "cell_type": "markdown",
   "id": "2cc3a527-e90e-43b1-8f6e-5167cea0896d",
   "metadata": {},
   "source": [
    "### Common code"
   ]
  },
  {
   "cell_type": "code",
   "execution_count": 1,
   "id": "0b69967c-3bc2-4104-b6dd-424387e46637",
   "metadata": {},
   "outputs": [],
   "source": [
    "import secrets\n",
    "import hashlib"
   ]
  },
  {
   "cell_type": "code",
   "execution_count": 2,
   "id": "21eba415-dd83-49de-9092-1161f356f3e2",
   "metadata": {},
   "outputs": [],
   "source": [
    "# https://en.wikipedia.org/wiki/List_of_the_most_common_passwords\n",
    "most_common_passwords = {\n",
    "    \"123456\", \"123456789\", \"picture1\", \"password\",\n",
    "    \"12345678\", \"111111\", \"123123\", \"12345\", \"1234567890\", \n",
    "    \"senha\", \"1234567\", \"qwerty\", \"abc123\", \"Million2\", \n",
    "    \"000000\", \"1234\", \"iloveyou\", \"aaron431\", \n",
    "    \"password1\", \"qqww1122\"\n",
    "}\n",
    "\n",
    "def cracking_password(database_hashed):\n",
    "    salt, hashed_password = database_hashed.split(\":\")\n",
    "    salt_bytes = bytes.fromhex(salt)\n",
    "    \n",
    "    for guess in most_common_passwords:\n",
    "        guess_bytes = guess.encode(\"utf-8\")\n",
    "        hashed_guess = hashlib.scrypt(guess_bytes, salt=salt_bytes, n=64, r=8, p=1).hex()\n",
    "        if hashed_password == hashed_guess:\n",
    "            return f\"Password Cracked: '{guess}'\"\n",
    "    \n",
    "    return \"Password not found in database\"\n",
    "\n",
    "\n",
    "def password_generator_salt(password):\n",
    "    password_bytes = password.encode(\"utf-8\")\n",
    "    salt = secrets.token_bytes(32)\n",
    "    hashed_password = hashlib.scrypt(password_bytes, salt=salt, n=64, r=8, p=1).hex()\n",
    "    return f\"{salt.hex()}:{hashed_password}\""
   ]
  },
  {
   "cell_type": "code",
   "execution_count": 3,
   "id": "74f02324-dc81-418e-adf9-1c3e8ef1287a",
   "metadata": {},
   "outputs": [
    {
     "data": {
      "text/plain": [
       "{'John': 'f5992b02c5daad756954608f02a1e45cae511a8ce39fef02c08dbbdfaa82dcda:3ae30cb6d8b7f22b5e88a24a7fe900c523272d7036a93e8e768c4a6ee4d69fe4b15b0c7b792ee9fb578a9eb283a714d1258cadfca13fc4e146d87d23008361a5'}"
      ]
     },
     "execution_count": 3,
     "metadata": {},
     "output_type": "execute_result"
    }
   ],
   "source": [
    "user_database = {\n",
    "    \"John\": password_generator_salt(\"abc123\")\n",
    "}\n",
    "user_database"
   ]
  },
  {
   "cell_type": "markdown",
   "id": "d95d0974-efe4-47a0-8d41-7605b2004ef4",
   "metadata": {},
   "source": [
    "#### Without using Pepper"
   ]
  },
  {
   "cell_type": "code",
   "execution_count": 4,
   "id": "cbe07bc0-c4f6-4751-b22d-c3250a80f06c",
   "metadata": {},
   "outputs": [
    {
     "data": {
      "text/plain": [
       "\"Password Cracked: 'abc123'\""
      ]
     },
     "execution_count": 4,
     "metadata": {},
     "output_type": "execute_result"
    }
   ],
   "source": [
    "leaked_password = user_database[\"John\"]\n",
    "\n",
    "cracking_password(leaked_password)"
   ]
  },
  {
   "cell_type": "markdown",
   "id": "f12f26d1-f7a1-40ec-ad04-d57d84d7b460",
   "metadata": {},
   "source": [
    "### Secret Pepper Example "
   ]
  },
  {
   "cell_type": "code",
   "execution_count": 5,
   "id": "350da98a-9d75-42df-94b1-5262669af722",
   "metadata": {},
   "outputs": [
    {
     "data": {
      "text/plain": [
       "{'John': '88bedc9d09a7315c073e888412fef53a5b97cdf2e96ff10d0c521dafd4a1be96:cc0473857d846174965650badcbcfdeabaafc765d2364ad5af09aeedb67fb779817069551b6a99521bdb6b77475c20189544ddd04908d7b8d16acdd0c4b27508'}"
      ]
     },
     "execution_count": 5,
     "metadata": {},
     "output_type": "execute_result"
    }
   ],
   "source": [
    "# At an earlier moment in time\n",
    "import os\n",
    "\n",
    "# Environment variables are not part of the database\n",
    "os.environ[\"PEPPER\"] = secrets.token_hex(32)\n",
    "\n",
    "def password_generator_salt_pepper_secret(password):\n",
    "    password_bytes = password.encode(\"utf-8\")\n",
    "    salt = secrets.token_bytes(32)\n",
    "    \n",
    "    pepper = os.environ[\"PEPPER\"]\n",
    "    pepper_bytes = bytes.fromhex(pepper)\n",
    "\n",
    "    new_salt = salt + pepper_bytes\n",
    "    \n",
    "    hashed_password = hashlib.scrypt(password_bytes, salt=new_salt, n=64, r=8, p=1).hex()\n",
    "    return f\"{salt.hex()}:{hashed_password}\"   \n",
    "\n",
    "def check_password_secret(user, password):\n",
    "    password_bytes = password.encode(\"utf-8\")\n",
    "    \n",
    "    salt, hashed_password = user_database[user].split(\":\")\n",
    "    salt_bytes = bytes.fromhex(salt)\n",
    "    \n",
    "    pepper = os.environ[\"PEPPER\"]\n",
    "    pepper_bytes = bytes.fromhex(pepper)\n",
    "\n",
    "    new_salt = salt_bytes + pepper_bytes\n",
    "    \n",
    "    hashed_trial = hashlib.scrypt(password_bytes, salt=new_salt, n=64, r=8, p=1).hex()\n",
    "    if secrets.compare_digest(hashed_password, hashed_trial):\n",
    "        return \"Access Granted\"\n",
    "    \n",
    "    return \"Access Denied\"\n",
    "\n",
    "user_database = {\n",
    "    \"John\": password_generator_salt_pepper_secret(\"abc123\")\n",
    "}\n",
    "\n",
    "user_database"
   ]
  },
  {
   "cell_type": "code",
   "execution_count": 6,
   "id": "6fc8aa0e-7d6a-46fa-a02c-e89112646d4e",
   "metadata": {},
   "outputs": [
    {
     "name": "stdout",
     "output_type": "stream",
     "text": [
      "Password not found in database\n"
     ]
    }
   ],
   "source": [
    "leaked_password = user_database[\"John\"]\n",
    "\n",
    "print(cracking_password(leaked_password))"
   ]
  },
  {
   "cell_type": "code",
   "execution_count": 7,
   "id": "3d7c0120-2231-4d7f-8ba5-8ff165aeb1c5",
   "metadata": {},
   "outputs": [
    {
     "name": "stdout",
     "output_type": "stream",
     "text": [
      "Access Granted\n"
     ]
    }
   ],
   "source": [
    "print(check_password_secret(\"John\", \"abc123\"))"
   ]
  },
  {
   "cell_type": "code",
   "execution_count": 8,
   "id": "c14785b0-2b88-487d-b3a0-293e7cb03df7",
   "metadata": {},
   "outputs": [
    {
     "name": "stdout",
     "output_type": "stream",
     "text": [
      "433 µs ± 11.7 µs per loop (mean ± std. dev. of 7 runs, 1000 loops each)\n"
     ]
    }
   ],
   "source": [
    "%%timeit \n",
    "check_password_secret(\"John\", \"abc123\")"
   ]
  },
  {
   "cell_type": "markdown",
   "id": "1723485c-b0dc-43a2-bb14-b8ab12a03b27",
   "metadata": {},
   "source": [
    "### Self-Discovered Pepper Example "
   ]
  },
  {
   "cell_type": "code",
   "execution_count": 9,
   "id": "8c592928-7e65-4ec2-8cb1-99a9482e314e",
   "metadata": {},
   "outputs": [
    {
     "data": {
      "text/plain": [
       "{'John': '7fbe809bc8f1c530bb9db03a4acd2a3d5f039ccfec4d54adbb55f58b36deaa34:0a302dcf67b5911a01a16d94be792c6241c0fc7291d3689f01b1a37005b148aa0dda98f7ba4cfcc711367e108ef7eb06e5f19d163cee80465371a4a618f28f16'}"
      ]
     },
     "execution_count": 9,
     "metadata": {},
     "output_type": "execute_result"
    }
   ],
   "source": [
    "pepper_bitslength = 8\n",
    "pepper_bytelenght = round(pepper_bitslength/8 + 0.5)\n",
    "\n",
    "def password_generator_salt_pepper_discovered(password):\n",
    "    password_bytes = password.encode(\"utf-8\")\n",
    "    salt = secrets.token_bytes(32)\n",
    "\n",
    "    pepper = secrets.randbits(pepper_bitslength)\n",
    "    pepper_bytes = int.to_bytes(pepper, pepper_bytelenght, \"big\")\n",
    "\n",
    "    new_salt = salt + pepper_bytes\n",
    "    \n",
    "    hashed_password = hashlib.scrypt(password_bytes, salt=new_salt, n=64, r=8, p=1).hex()\n",
    "    return f\"{salt.hex()}:{hashed_password}\"   \n",
    "\n",
    "def check_password_rediscovered(user, password):\n",
    "    password_bytes = password.encode(\"utf-8\")\n",
    "    \n",
    "    salt, hashed_password = user_database[user].split(\":\")\n",
    "    salt_bytes = bytes.fromhex(salt)\n",
    "    \n",
    "    for guess_pepper in range(2**pepper_bitslength):\n",
    "        guess_pepper_bytes = int.to_bytes(guess_pepper, pepper_bytelenght, \"big\")\n",
    "\n",
    "        new_salt = salt_bytes + guess_pepper_bytes\n",
    "\n",
    "        hashed_trial = hashlib.scrypt(password_bytes, salt=new_salt, n=64, r=8, p=1).hex()\n",
    "        if secrets.compare_digest(hashed_password, hashed_trial):\n",
    "            return \"Access Granted\"\n",
    "    \n",
    "    return \"Access Denied\"\n",
    "\n",
    "user_database = {\n",
    "    \"John\": password_generator_salt_pepper_discovered(\"abc123\")\n",
    "}\n",
    "\n",
    "user_database"
   ]
  },
  {
   "cell_type": "code",
   "execution_count": 10,
   "id": "326ef913-475b-4d9a-bc17-0f6b8164634c",
   "metadata": {},
   "outputs": [
    {
     "name": "stdout",
     "output_type": "stream",
     "text": [
      "Password not found in database\n"
     ]
    }
   ],
   "source": [
    "leaked_password = user_database[\"John\"]\n",
    "\n",
    "print(cracking_password(leaked_password))"
   ]
  },
  {
   "cell_type": "code",
   "execution_count": 11,
   "id": "f0ae1617-d7c6-4c40-b2cb-4790a7cdd5d1",
   "metadata": {},
   "outputs": [
    {
     "name": "stdout",
     "output_type": "stream",
     "text": [
      "Access Granted\n"
     ]
    }
   ],
   "source": [
    "print(check_password_rediscovered(\"John\", \"abc123\"))"
   ]
  },
  {
   "cell_type": "code",
   "execution_count": 12,
   "id": "7931816d-867e-4527-9a0e-a58140ca399c",
   "metadata": {},
   "outputs": [
    {
     "name": "stdout",
     "output_type": "stream",
     "text": [
      "10.8 ms ± 373 µs per loop (mean ± std. dev. of 7 runs, 100 loops each)\n"
     ]
    }
   ],
   "source": [
    "%%timeit\n",
    "check_password_rediscovered(\"John\", \"abc123\")"
   ]
  }
 ],
 "metadata": {
  "kernelspec": {
   "display_name": "Python 3 (ipykernel)",
   "language": "python",
   "name": "python3"
  },
  "language_info": {
   "codemirror_mode": {
    "name": "ipython",
    "version": 3
   },
   "file_extension": ".py",
   "mimetype": "text/x-python",
   "name": "python",
   "nbconvert_exporter": "python",
   "pygments_lexer": "ipython3",
   "version": "3.8.10"
  }
 },
 "nbformat": 4,
 "nbformat_minor": 5
}
