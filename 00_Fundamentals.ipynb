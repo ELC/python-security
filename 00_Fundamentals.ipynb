{
 "cells": [
  {
   "cell_type": "markdown",
   "id": "e7c817a8-e6ac-475d-b7a5-40e07dfb2696",
   "metadata": {},
   "source": [
    "# Introduction to Security"
   ]
  },
  {
   "cell_type": "markdown",
   "id": "8d3fc4ce-5ec3-4fb6-88d9-e7fc42f3f7bb",
   "metadata": {},
   "source": [
    "## Why this material?\n",
    "\n",
    "The main objective of this material is to equip Python developers with the sufficient knowledge to understand on a high level key security concepts along with examples and must-knows. This is an educational material and **NONE of the code shown should be considered production-ready**.\n",
    "\n",
    "There are plently of resources online about security and cryptography in general, however this material has some features that may not be present elsewhere:\n",
    "\n",
    "- **Quick Read**: Each chapter is meant to be read in under 10 minutes.\n",
    "- **Code-First**: All the material is tiered towards a concrete Python Implementation.\n",
    "- **Example-First**: All topics covered have examples\n",
    "- **Minimal-Dependencies**: As much as possible the dependencies are kept to a minimum. Only PyCA Cryptography is needed as third party library.\n",
    "- **No-Background needed**: Only programming background (In Python) is needed.\n",
    "- **No-Math**: The objective is to understand the methods on a high level, without low-level math."
   ]
  },
  {
   "cell_type": "markdown",
   "id": "f4703316-d099-49b5-b75f-8a325bf39885",
   "metadata": {},
   "source": [
    "## Concepts"
   ]
  },
  {
   "cell_type": "markdown",
   "id": "8fa62ade-4b7b-4195-9433-1db0d4146385",
   "metadata": {},
   "source": [
    "Security is a key concept in all software related projects, properly understanding and applying security best practices is key for the success of any project.\n",
    "\n",
    "In this context, there are some important concepts which could be summarized as follows:\n",
    "\n",
    "- Privacy: verifies that the data is protected from unintended reading/understanding of unintended parties.\n",
    "- Integrity: verifies that the data sent was the originally intented.\n",
    "- Authenticity: verifies that the received data is from the expected source.\n",
    "- Authentication: verifies that the receiver is the expected party to be sent data."
   ]
  },
  {
   "cell_type": "markdown",
   "id": "26f13c87-58af-41dc-a6f1-05ede64e33cf",
   "metadata": {},
   "source": [
    "### Illustration"
   ]
  },
  {
   "cell_type": "markdown",
   "id": "4fd38b76-c7a0-40d1-935c-61c3bc12f087",
   "metadata": {},
   "source": [
    "An illustration to better understand the concepts might be:\n",
    "\n",
    "    Alice tries to log in a email server, writes her username and password and then she writes an email to Bob and sends it.\n",
    "\n",
    "On Alice end: **Privacy** ensures Alice's password is kept secret, **Integrity** ensures Bob receives what was originally written.\n",
    "On Bob end: **Authentication** ensures Bob is the only one who can read Alice's email, **Authenticity** ensures the sender is Alice.\n",
    "\n",
    "There is however somo overlap between **integrity** and **authenticity** because \"if one verifies the data is exactly the one intended, it likely implies it is from the expected source\""
   ]
  },
  {
   "cell_type": "markdown",
   "id": "6e718c53-e51f-4398-bfe4-3efb524a7548",
   "metadata": {},
   "source": [
    "## Techniques\n",
    "\n",
    "Depedending of the context, these features can be achieved by different means, in the software industry, computational tools are used to create solutions that provide one or more of the mentioned characteristics.\n",
    "\n",
    "It is important to distinguish between a computational **technique** from a particular **implementation**, the former refers to the way in which some security aspect is guaranteed, whereas the later to which specific software/algorithm should be used to accomplish it. \n",
    "\n",
    "The most common **techniques** are:\n",
    "\n",
    "- **Checksums**: to provide **Integrity**.\n",
    "- **Message authentication codes**: to provide **Integrity** and **Authenticity**.\n",
    "- **Digital Signature**: to provide **Integrity**, **Authenticity** and **Non-repudiation**.\n",
    "- **Cryptographic Hashes**: to provide **Privacy**.\n",
    "- **Encryption**: to provide **Integrity**, **Authenticity** and **Privacy**."
   ]
  },
  {
   "cell_type": "markdown",
   "id": "3e5f5231-3dc8-4550-bb34-9c4a82b8ddfa",
   "metadata": {},
   "source": [
    "### Checksums\n"
   ]
  },
  {
   "cell_type": "markdown",
   "id": "4461cad5-2fb9-432d-8cc7-50e856acb429",
   "metadata": {},
   "source": [
    "### Cryptographic Hashes\n",
    "\n",
    "A cryptographic hash is a deterministic function that transforms the data in a *virtually irreversible* way and whose results changes drastically even for tiny modifications in its input. This functions usually have fixed length but there are also variable length implementations.\n",
    "\n",
    "Some important properties to be considered cryptoghraphic safe is that, given a hashed data, the only feasible way to get the original data is to brute-force all possible inputs.\n",
    "\n",
    "Since only with the original data one can get the same hash, this functions provides **Privacy**, since storing hashed data protects the original data."
   ]
  },
  {
   "cell_type": "markdown",
   "id": "e16b495c-dc0c-4f71-b10d-63aec283ed55",
   "metadata": {},
   "source": [
    "### Encryption\n",
    "\n",
    "### Symmetric Encryption\n",
    "### Asymmetric Encryption"
   ]
  },
  {
   "cell_type": "markdown",
   "id": "c28088cd-6571-4537-b8e1-9d46eda68210",
   "metadata": {},
   "source": [
    "### Digital Signature\n",
    "\n",
    "A digital signature is a piece of information that, it is produced by two components, the data and a secret. The technique consist in transforming the data using the secret such that only a party with the secret could produce the same result.\n",
    "\n",
    "Its result (the signature) is usually similar to a cryptographic hash in a sense that, even tiny modifications in either the data or the secret will produce drastically different signatures. This is typically combined with asymmetric encryption, where two keys are used, the private key is used to \"sign\" the data and the public key to \"verify\" the signature.\n",
    "\n",
    "The data used is usually public and therefore, this techinique **does not provide Privacy**, it is used when the integrity of the data and the sender should be verified."
   ]
  },
  {
   "cell_type": "code",
   "execution_count": null,
   "id": "dc03f3af-9316-4516-8137-a8a422bfedf4",
   "metadata": {},
   "outputs": [],
   "source": []
  }
 ],
 "metadata": {
  "kernelspec": {
   "display_name": "Python 3 (ipykernel)",
   "language": "python",
   "name": "python3"
  },
  "language_info": {
   "codemirror_mode": {
    "name": "ipython",
    "version": 3
   },
   "file_extension": ".py",
   "mimetype": "text/x-python",
   "name": "python",
   "nbconvert_exporter": "python",
   "pygments_lexer": "ipython3",
   "version": "3.8.10"
  }
 },
 "nbformat": 4,
 "nbformat_minor": 5
}
