{
 "cells": [
  {
   "cell_type": "markdown",
   "id": "e05ec586-ccba-49f4-8d6c-79f36c34c6f3",
   "metadata": {},
   "source": [
    "# HMAC"
   ]
  },
  {
   "cell_type": "markdown",
   "id": "569439da-3faf-494d-92b8-c64b79ee7e29",
   "metadata": {},
   "source": [
    "## Generating Hash"
   ]
  },
  {
   "cell_type": "code",
   "execution_count": 18,
   "id": "f989a1e7-9501-4ed9-94ea-80391118cd48",
   "metadata": {},
   "outputs": [
    {
     "data": {
      "text/plain": [
       "'3262c371784a36377154bdeb0bfbfc6ebf88591a7e564dbb0c4c7ee16c273440'"
      ]
     },
     "execution_count": 18,
     "metadata": {},
     "output_type": "execute_result"
    }
   ],
   "source": [
    "import hmac\n",
    "\n",
    "password = b\"my secret\"\n",
    "message = b\"Hello World!\"\n",
    "\n",
    "keyed_hasher = hmac.new(password, digestmod='SHA256')\n",
    "keyed_hasher.update(message)\n",
    "message_hmac = keyed_hasher.hexdigest()\n",
    "message_hmac"
   ]
  },
  {
   "cell_type": "markdown",
   "id": "3ae5108b-1acd-468d-bc54-ee81afbf324d",
   "metadata": {},
   "source": [
    "## Verifying a Message"
   ]
  },
  {
   "cell_type": "markdown",
   "id": "a777078d-2fe9-4193-92fe-df55d5bae02b",
   "metadata": {},
   "source": [
    "### Mismatch"
   ]
  },
  {
   "cell_type": "code",
   "execution_count": 21,
   "id": "b9eed727-99c4-4eb0-ad79-3d383f0e6e69",
   "metadata": {},
   "outputs": [
    {
     "data": {
      "text/plain": [
       "False"
      ]
     },
     "execution_count": 21,
     "metadata": {},
     "output_type": "execute_result"
    }
   ],
   "source": [
    "guess_password = b\"my pass\"\n",
    "\n",
    "keyed_hasher = hmac.new(guess_password, digestmod='SHA256')\n",
    "keyed_hasher.update(message)\n",
    "guess_hmac = keyed_hasher.hexdigest()\n",
    "\n",
    "hmac.compare_digest(message_hmac, guess_hmac)"
   ]
  },
  {
   "cell_type": "markdown",
   "id": "168d27c3-2ad8-4ab3-97e5-ef700f6e92f6",
   "metadata": {},
   "source": [
    "### Match"
   ]
  },
  {
   "cell_type": "code",
   "execution_count": 22,
   "id": "4c389cab-ef99-443b-916d-8a70bff30d43",
   "metadata": {},
   "outputs": [
    {
     "data": {
      "text/plain": [
       "True"
      ]
     },
     "execution_count": 22,
     "metadata": {},
     "output_type": "execute_result"
    }
   ],
   "source": [
    "guess_password = b\"my secret\"\n",
    "\n",
    "keyed_hasher = hmac.new(guess_password, digestmod='SHA256')\n",
    "keyed_hasher.update(message)\n",
    "guess_hmac = keyed_hasher.hexdigest()\n",
    "\n",
    "hmac.compare_digest(message_hmac, guess_hmac)"
   ]
  },
  {
   "cell_type": "code",
   "execution_count": null,
   "id": "4b6470a8-c0e5-470d-aa3b-2fc428414054",
   "metadata": {},
   "outputs": [],
   "source": []
  }
 ],
 "metadata": {
  "kernelspec": {
   "display_name": "Python 3 (ipykernel)",
   "language": "python",
   "name": "python3"
  },
  "language_info": {
   "codemirror_mode": {
    "name": "ipython",
    "version": 3
   },
   "file_extension": ".py",
   "mimetype": "text/x-python",
   "name": "python",
   "nbconvert_exporter": "python",
   "pygments_lexer": "ipython3",
   "version": "3.8.10"
  }
 },
 "nbformat": 4,
 "nbformat_minor": 5
}
