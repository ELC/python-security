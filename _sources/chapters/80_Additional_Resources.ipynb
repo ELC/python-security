{
 "cells": [
  {
   "cell_type": "markdown",
   "id": "6ee1eb04-08c8-48ed-93cc-eb441ab6cfca",
   "metadata": {},
   "source": [
    "# Additional Resources"
   ]
  },
  {
   "cell_type": "code",
   "execution_count": null,
   "id": "efc5abd7-a2ea-4ed8-9402-e08291dd434e",
   "metadata": {},
   "outputs": [],
   "source": []
  }
 ],
 "metadata": {
  "kernelspec": {
   "display_name": "Python 3 (ipykernel)",
   "language": "python",
   "name": "python3"
  },
  "language_info": {
   "codemirror_mode": {
    "name": "ipython",
    "version": 3
   },
   "file_extension": ".py",
   "mimetype": "text/x-python",
   "name": "python",
   "nbconvert_exporter": "python",
   "pygments_lexer": "ipython3",
   "version": "3.8.10"
  }
 },
 "nbformat": 4,
 "nbformat_minor": 5
}
