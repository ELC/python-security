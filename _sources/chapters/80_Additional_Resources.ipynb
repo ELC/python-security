{
 "cells": [
  {
   "cell_type": "markdown",
   "id": "6ee1eb04-08c8-48ed-93cc-eb441ab6cfca",
   "metadata": {},
   "source": [
    "# Additional Resources"
   ]
  },
  {
   "cell_type": "markdown",
   "id": "d03274cf-acea-42ea-ab66-23bbe4f5944f",
   "metadata": {},
   "source": [
    "**ToDo**:\n",
    "- Extend the list of resources\n",
    "- Add relevant resources at the end\n",
    "---\n"
   ]
  },
  {
   "cell_type": "markdown",
   "id": "cd46ab76-23d3-4344-aaa3-1eb3c992001c",
   "metadata": {},
   "source": [
    "As mentioned, this material only covers the topics on a high level, to dive deeper these are good starting points:\n",
    "\n",
    "- [Security Checklist for the Web](https://github.com/0xRadi/OWASP-Web-Checklist)"
   ]
  },
  {
   "cell_type": "code",
   "execution_count": null,
   "id": "4979343e-607d-4910-95e9-e2c4651bb39d",
   "metadata": {},
   "outputs": [],
   "source": []
  }
 ],
 "metadata": {
  "kernelspec": {
   "display_name": "Python 3 (ipykernel)",
   "language": "python",
   "name": "python3"
  },
  "language_info": {
   "codemirror_mode": {
    "name": "ipython",
    "version": 3
   },
   "file_extension": ".py",
   "mimetype": "text/x-python",
   "name": "python",
   "nbconvert_exporter": "python",
   "pygments_lexer": "ipython3",
   "version": "3.8.10"
  }
 },
 "nbformat": 4,
 "nbformat_minor": 5
}
