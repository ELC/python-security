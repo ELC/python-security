{
 "cells": [
  {
   "cell_type": "markdown",
   "id": "21073f46-b8fb-4a2b-9817-0adcaeb24761",
   "metadata": {},
   "source": [
    "# Salt"
   ]
  },
  {
   "cell_type": "markdown",
   "id": "31acbdf5-91e6-415d-b94a-9c997b64c45a",
   "metadata": {},
   "source": [
    "**ToDo**:\n",
    "- Add illustration for the salting process - Similar to [this](https://www.php.net/manual/es/images/2a34c7f2e658f6ae74f3869f2aa5886f-crypt-text-rendered.svg) and [this](https://forum.huawei.com/enterprise/en/data/attachment/forum/201901/21/003213sdbhypkqzdbdplfp.png?cf490-password_hashing.png).\n",
    "- Explain the concept of Key Derivation Function - Similar to [this](https://en.bitcoinwiki.org/upload/en/images/0/0e/Keyderivationfuncion.gif) and [this](https://i.stack.imgur.com/z37E4.png).\n",
    "- Add resources to other salt compatible algorithms - Argon2 for instance.\n",
    "- Add appendix regarding read/write hashes to database.\n",
    "- Add relevant resources at the end\n",
    "---"
   ]
  },
  {
   "cell_type": "markdown",
   "id": "f68f757c-6141-47ae-b241-7baba6afda6d",
   "metadata": {},
   "source": [
    "In the case of data that tend to be similar for different users (e.g. common used passwords), if the database with all hashes is compromised, an attacker could see if any of the hashes corresponds with a hash from a pre-computed table, examples of this are [Rainbow Attacks](https://en.wikipedia.org/wiki/Rainbow_table) and [Dictionary Attacks](https://en.wikipedia.org/wiki/Dictionary_attack).\n",
    "\n",
    "If a random array of bytes is added to the data to be hashed, then the results will not match any pre-computed table attackers might have. This also implies the array of random bytes should be provided along with the hash in order to validate the hash is correct. These bytes are called **salt** and they are not secret (i.e. they can be store in plain text). Even though one might think that salts should be kept secret, there are other vulnerabilities associated with *secret salts*, such as [Length Extension Attacks](https://www.wikiwand.com/en/Length_extension_attack)"
   ]
  },
  {
   "cell_type": "markdown",
   "id": "67bf85bd-2c41-4d80-99d5-601cb0ccaf90",
   "metadata": {},
   "source": [
    "## Scrypt"
   ]
  },
  {
   "cell_type": "markdown",
   "id": "21ac6b3f-048e-4edb-8357-89f5aac19787",
   "metadata": {},
   "source": [
    "The hashlib module has the function [`scrypt`](https://docs.python.org/3/library/hashlib.html#hashlib.scrypt), which provides a convinient interface to add salts to hashes. This function is an implementation of the [RFC 7914](https://datatracker.ietf.org/doc/html/rfc7914.html), it was designed to be memory-intensive and prevent GPU, ASIC and FPGA attacks.\n",
    "\n",
    "**Note:** Salt could be of any lenght, however a minimum of 128bits (10 bytes) is recommended."
   ]
  },
  {
   "cell_type": "code",
   "execution_count": 1,
   "id": "10d9e471-ec8d-494b-8eab-2caa30cba970",
   "metadata": {},
   "outputs": [],
   "source": [
    "import secrets\n",
    "import hashlib"
   ]
  },
  {
   "cell_type": "code",
   "execution_count": 2,
   "id": "6ef17e8f-a8c6-4403-adec-fff646aa4c87",
   "metadata": {},
   "outputs": [
    {
     "name": "stdout",
     "output_type": "stream",
     "text": [
      "   Original: b'Hello World!'\n",
      "     Hashed: b968d05f9edd796a5db4647437d2c9a30a3c1fddb120c25f5218f3792dd7801ec89974f3e2bd1286c470a989d4797dc8939fadef138056cd9ce0e073071a569f\n",
      "Salt+Hashed: 6a016b6916163532bcbf:b968d05f9edd796a5db4647437d2c9a30a3c1fddb120c25f5218f3792dd7801ec89974f3e2bd1286c470a989d4797dc8939fadef138056cd9ce0e073071a569f\n"
     ]
    }
   ],
   "source": [
    "random_bytes = secrets.token_bytes(10)\n",
    "data = b\"Hello World!\"\n",
    "data_hashed = hashlib.scrypt(data, salt=random_bytes, n=64, r=8, p=1).hex()\n",
    "salt_string = random_bytes.hex()\n",
    "\n",
    "print(f\"   Original: {data}\")\n",
    "print(f\"     Hashed: {data_hashed}\")\n",
    "print(f\"Salt+Hashed: {salt_string}:{data_hashed}\")"
   ]
  },
  {
   "cell_type": "markdown",
   "id": "528928fc-d40b-4d36-aa7d-27965aa3b69f",
   "metadata": {},
   "source": [
    "## Scrypt Disadvantages"
   ]
  },
  {
   "cell_type": "markdown",
   "id": "1d779585-cd9e-4370-95d9-6d31725fc47e",
   "metadata": {},
   "source": [
    "The hashed string depends on several parameters, **n**, **r**, **p** and the **salt**. Unless they are hardcoded in the source code it is a good practice to store them along with the hash.\n",
    "\n",
    "The delimiter character is usually either \"**$**\" or \"**:**\". Other options include using several columns in the database. Note that neither of the two are URL Safe, this is sensible because hashes should never be part of a URL"
   ]
  },
  {
   "cell_type": "code",
   "execution_count": 3,
   "id": "22a4a950-27e1-4727-90d5-ffafe4b2bd94",
   "metadata": {},
   "outputs": [
    {
     "name": "stdout",
     "output_type": "stream",
     "text": [
      "n+r+pSalt+Hashed: 64$8$1$1181b0a77a9c3075e8d3$20f5e4766227ee7c126177cb2cb44db13c34750209eb2ab7e004d29cfa1e306e3d5933148e72ba3ba5db6c052a6084aed7249dc1bbc5a9cf8683cfe23d90a245\n"
     ]
    }
   ],
   "source": [
    "random_bytes = secrets.token_bytes(10)\n",
    "data = b\"Hello World!\"\n",
    "\n",
    "n = 2 ** 6\n",
    "r = 8\n",
    "p = 1\n",
    "data_hashed = hashlib.scrypt(data, salt=random_bytes, n=n, r=r, p=p).hex()\n",
    "salt_string = random_bytes.hex()\n",
    "\n",
    "print(f\"n+r+pSalt+Hashed: {n}${r}${p}${salt_string}${data_hashed}\")"
   ]
  },
  {
   "cell_type": "markdown",
   "id": "32f8f59b-e166-46fc-b184-c5517a323106",
   "metadata": {},
   "source": [
    "## Scrypt Bonuses"
   ]
  },
  {
   "cell_type": "markdown",
   "id": "673a7a05-2db8-441e-8d0c-2abc4a8e815b",
   "metadata": {},
   "source": [
    "Using the scrypt function also provides some additional advantages"
   ]
  },
  {
   "cell_type": "markdown",
   "id": "6db0cb8b-02dd-469e-9dfc-4dd3d6347450",
   "metadata": {},
   "source": [
    "### Customizing Length"
   ]
  },
  {
   "cell_type": "markdown",
   "id": "f77d965a-ea89-4d44-b13b-cec0285a7128",
   "metadata": {},
   "source": [
    "There is an additional parameter, **`dklen`**, which allows to generate arbitrary long passwords, the default value is 64. \n",
    "\n",
    "**Important Note:** Using short lenghts will increase collision risks"
   ]
  },
  {
   "cell_type": "code",
   "execution_count": 4,
   "id": "f822a91c-5662-4830-aa19-8a5d2c275b5a",
   "metadata": {},
   "outputs": [],
   "source": [
    "data = b\"Hello World!\""
   ]
  },
  {
   "cell_type": "code",
   "execution_count": 5,
   "id": "764402c1-5013-4689-a0a6-a34ba5b1dbb8",
   "metadata": {},
   "outputs": [
    {
     "name": "stdout",
     "output_type": "stream",
     "text": [
      "Salt+Hashed: ab3e8d9ac23a68fdc48e:a3083313\n"
     ]
    }
   ],
   "source": [
    "lenght = 2**2\n",
    "random_bytes = secrets.token_bytes(10)\n",
    "\n",
    "data_hashed = hashlib.scrypt(data, salt=random_bytes, n=64, r=8, p=1, dklen=lenght).hex()\n",
    "salt_string = random_bytes.hex()\n",
    "\n",
    "print(f\"Salt+Hashed: {salt_string}:{data_hashed}\")"
   ]
  },
  {
   "cell_type": "code",
   "execution_count": 6,
   "id": "b6f8fd05-bf06-4ba0-b40a-3b07a0c8df34",
   "metadata": {},
   "outputs": [
    {
     "name": "stdout",
     "output_type": "stream",
     "text": [
      "Salt+Hashed: 072da1f6a7cd465026b8:3abe1ef104f20e1a9796aa0ffcb865ee\n"
     ]
    }
   ],
   "source": [
    "lenght = 2**4\n",
    "random_bytes = secrets.token_bytes(10)\n",
    "\n",
    "data_hashed = hashlib.scrypt(data, salt=random_bytes, n=64, r=8, p=1, dklen=lenght).hex()\n",
    "salt_string = random_bytes.hex()\n",
    "\n",
    "print(f\"Salt+Hashed: {salt_string}:{data_hashed}\")"
   ]
  },
  {
   "cell_type": "code",
   "execution_count": 7,
   "id": "aef0804d-6a56-4ac9-8a97-72eede708421",
   "metadata": {},
   "outputs": [
    {
     "name": "stdout",
     "output_type": "stream",
     "text": [
      "Salt+Hashed: 1fe6099ad8b92ac248a3:30e34385576d6f38cac26f291cbc0a2a2f82944630741dc1cea6ce9d12d56f2a3676400c3ab079b120533d6a34c0136128194fa7599cd96ab03072f8602686e6\n"
     ]
    }
   ],
   "source": [
    "lenght = 2**6\n",
    "random_bytes = secrets.token_bytes(10)\n",
    "\n",
    "data_hashed = hashlib.scrypt(data, salt=random_bytes, n=64, r=8, p=1, dklen=lenght).hex()\n",
    "salt_string = random_bytes.hex()\n",
    "\n",
    "print(f\"Salt+Hashed: {salt_string}:{data_hashed}\")"
   ]
  },
  {
   "cell_type": "markdown",
   "id": "fc7ef571-7fad-4daf-93ab-6a6565dad11f",
   "metadata": {},
   "source": [
    "### Customizing Execution Time"
   ]
  },
  {
   "cell_type": "markdown",
   "id": "a65fa271-c505-4c92-b6c5-1a32774998e5",
   "metadata": {},
   "source": [
    "In some application making the hash slower can increase the security, the scrypt algorithm can be customized to take different amounts of memory and processing time.\n",
    "\n",
    "The memory used will be equal to: 128 * n * r * p bytes\n",
    "\n",
    "Examples:\n",
    "\n",
    "- Low Memory Footprint: 128 * 64 * 8 * 1 = 64 KB\n",
    "- Large Memory Footprint: 128 * 2^17 * 8 * 1 = 128 MB"
   ]
  },
  {
   "cell_type": "code",
   "execution_count": 8,
   "id": "8a07822f-2794-4ae8-9fea-727700a26640",
   "metadata": {},
   "outputs": [
    {
     "name": "stdout",
     "output_type": "stream",
     "text": [
      "Memory Consumed: 1073741824 bytes = 1048576.00 KB = 1024.00 MB\n"
     ]
    }
   ],
   "source": [
    "n = 2 ** 20\n",
    "r = 8\n",
    "p = 1\n",
    "memory_bytes = 128 * n * r * p\n",
    "memory_kilo_bytes = memory_bytes / 1024\n",
    "memory_mega_bytes = memory_kilo_bytes / 1024\n",
    "print(f\"Memory Consumed: {memory_bytes} bytes = {memory_kilo_bytes:.2f} KB = {memory_mega_bytes:.2f} MB\")"
   ]
  },
  {
   "cell_type": "markdown",
   "id": "ad273fda-986e-4204-8d14-45207e349b12",
   "metadata": {},
   "source": [
    "##### Code Examples"
   ]
  },
  {
   "cell_type": "code",
   "execution_count": 9,
   "id": "e183ae02-1ec0-4ff8-8475-2f9446245388",
   "metadata": {},
   "outputs": [],
   "source": [
    "data = b\"Hello World!\""
   ]
  },
  {
   "cell_type": "code",
   "execution_count": 10,
   "id": "254bb69e-60f1-47cd-921e-46603c576e41",
   "metadata": {},
   "outputs": [
    {
     "name": "stdout",
     "output_type": "stream",
     "text": [
      "426 µs ± 9.73 µs per loop (mean ± std. dev. of 7 runs, 1000 loops each)\n"
     ]
    }
   ],
   "source": [
    "%%timeit\n",
    "n = 2**6  # 64\n",
    "random_bytes = secrets.token_bytes(16)\n",
    "data_hashed = hashlib.scrypt(data, salt=random_bytes, n=n, r=8, p=1).hex()"
   ]
  },
  {
   "cell_type": "code",
   "execution_count": 11,
   "id": "520a4bed-9dd7-4246-8be9-ba65ee47ca2e",
   "metadata": {},
   "outputs": [
    {
     "name": "stdout",
     "output_type": "stream",
     "text": [
      "27 ms ± 949 µs per loop (mean ± std. dev. of 7 runs, 10 loops each)\n"
     ]
    }
   ],
   "source": [
    "%%timeit\n",
    "n = 2**12\n",
    "random_bytes = secrets.token_bytes(16)\n",
    "data_hashed = hashlib.scrypt(data, salt=random_bytes, n=n, r=8, p=1).hex()"
   ]
  },
  {
   "cell_type": "code",
   "execution_count": 12,
   "id": "6999a863-5330-40fb-ad26-293c35b5888b",
   "metadata": {},
   "outputs": [
    {
     "name": "stdout",
     "output_type": "stream",
     "text": [
      "108 ms ± 2.15 ms per loop (mean ± std. dev. of 7 runs, 10 loops each)\n"
     ]
    }
   ],
   "source": [
    "%%timeit\n",
    "n = 2**14\n",
    "random_bytes = secrets.token_bytes(16)\n",
    "data_hashed = hashlib.scrypt(data, salt=random_bytes, n=n, r=8, p=1).hex()"
   ]
  },
  {
   "cell_type": "markdown",
   "id": "609e074b-4b01-4e46-a17b-7673482cbe52",
   "metadata": {},
   "source": [
    "## Example: User Authentication"
   ]
  },
  {
   "cell_type": "markdown",
   "id": "82fc643d-19ce-4ff7-82c9-75f2b29d856e",
   "metadata": {},
   "source": [
    "The following example showcases how scrypt can be used to securely store passwords.\n",
    "\n",
    "**Note: Remember that this code is not suitable for any production use-case.**"
   ]
  },
  {
   "cell_type": "markdown",
   "id": "d6e7021f-b7f8-46e9-87a5-65306723070b",
   "metadata": {},
   "source": [
    "### Auxiliary Functions"
   ]
  },
  {
   "cell_type": "code",
   "execution_count": 13,
   "id": "8ead656c-ddf5-49c7-aa40-cbe0d58a8794",
   "metadata": {},
   "outputs": [],
   "source": [
    "def generate_hash(data:str, salt: bytes) -> str:\n",
    "    data_bytes = data.encode(\"utf-8\")\n",
    "    data_hashed = hashlib.scrypt(data_bytes, salt=salt, n=64, r=8, p=1)\n",
    "    return f\"{salt.hex()}:{data_hashed.hex()}\"\n",
    "\n",
    "\n",
    "def sign_up(email, password, database_):\n",
    "    database = database_.copy()\n",
    "    random_bytes = secrets.token_bytes(10)\n",
    "    database[email] = generate_hash(password, random_bytes)\n",
    "    print(\"Successfully Singed Up\")\n",
    "    return database\n",
    "\n",
    "\n",
    "def login(email, password, database):\n",
    "    if email not in database:\n",
    "        print(f\"ERROR: User {email} not in Database\")\n",
    "        return\n",
    "\n",
    "    expected_password = database[email]\n",
    "    salt, hashed = expected_password.split(\":\")\n",
    "    salt_bytes = bytes.fromhex(salt)\n",
    "    calculated_hash = generate_hash(password, salt_bytes)\n",
    "    passwords_matched = secrets.compare_digest(expected_password, calculated_hash) \n",
    "    if passwords_matched:\n",
    "        print(f\"Successfully Signed in: {email}\")\n",
    "        return\n",
    "    \n",
    "    print(f\"ERROR: Incorrect Password for: {email}\")"
   ]
  },
  {
   "cell_type": "markdown",
   "id": "5435a630-002f-4c61-a1a1-8370972465cb",
   "metadata": {},
   "source": [
    "### Sign Up"
   ]
  },
  {
   "cell_type": "code",
   "execution_count": 14,
   "id": "5714d14e-3311-43d9-a2c6-70e8e8c460c8",
   "metadata": {},
   "outputs": [
    {
     "name": "stdout",
     "output_type": "stream",
     "text": [
      "Successfully Singed Up\n"
     ]
    }
   ],
   "source": [
    "email = \"johndoe@example.com\"\n",
    "password = \"password123\"\n",
    "user_database = {}\n",
    "\n",
    "user_database = sign_up(email, password, user_database)"
   ]
  },
  {
   "cell_type": "markdown",
   "id": "1918515f-b44b-4ff1-8549-a8b5c83d7e33",
   "metadata": {},
   "source": [
    "### Wrong Email"
   ]
  },
  {
   "cell_type": "code",
   "execution_count": 15,
   "id": "87292482-d8a0-4c28-9d9a-4053f8e8dc3b",
   "metadata": {},
   "outputs": [
    {
     "name": "stdout",
     "output_type": "stream",
     "text": [
      "ERROR: User janedoe@example.com not in Database\n"
     ]
    }
   ],
   "source": [
    "email = \"janedoe@example.com\"\n",
    "password = \"password123\"\n",
    "\n",
    "login(email, password, user_database)"
   ]
  },
  {
   "cell_type": "markdown",
   "id": "9cfb48e9-20a7-4860-b1a5-f775962e9b49",
   "metadata": {},
   "source": [
    "### Wrong Password"
   ]
  },
  {
   "cell_type": "code",
   "execution_count": 16,
   "id": "37cabad7-c408-4b92-9428-b225636c6316",
   "metadata": {},
   "outputs": [
    {
     "name": "stdout",
     "output_type": "stream",
     "text": [
      "ERROR: Incorrect Password for: johndoe@example.com\n"
     ]
    }
   ],
   "source": [
    "email = \"johndoe@example.com\"\n",
    "password = \"password\"\n",
    "\n",
    "login(email, password, user_database)"
   ]
  },
  {
   "cell_type": "markdown",
   "id": "8dcb602f-9120-4a2e-8514-3ed99e553de3",
   "metadata": {},
   "source": [
    "### Successful Login"
   ]
  },
  {
   "cell_type": "code",
   "execution_count": 17,
   "id": "44059dad-4615-41bc-b9ad-4b8308971d4f",
   "metadata": {},
   "outputs": [
    {
     "name": "stdout",
     "output_type": "stream",
     "text": [
      "Successfully Signed in: johndoe@example.com\n"
     ]
    }
   ],
   "source": [
    "email = \"johndoe@example.com\"\n",
    "password = \"password123\"\n",
    "\n",
    "login(email, password, user_database)"
   ]
  },
  {
   "cell_type": "markdown",
   "id": "b604da81-4199-4c9a-88e2-526315f16cd3",
   "metadata": {},
   "source": [
    "## Conclusion"
   ]
  },
  {
   "cell_type": "markdown",
   "id": "6e5f9155-f0f2-4bea-9d85-eaacade809ce",
   "metadata": {},
   "source": [
    "Hash algorithms themselves have a drawback, anyone can pre-compute most commonly use values and simply do a one by one comparison searching for matches. However, thanks to the small changes in input big changes in output feature of cryptographic hashes, simply adding some bytes to the data mitigates this risk by a great ammount. This bytes are called **salt**, they are public and stored along with the hash. One of the algorithms that uses it is [`scrypt`](https://docs.python.org/3/library/hashlib.html#hashlib.scrypt), which is available in the standard library. This particular algorithm also allows customization of memory consumption/processing time."
   ]
  }
 ],
 "metadata": {
  "kernelspec": {
   "display_name": "Python 3 (ipykernel)",
   "language": "python",
   "name": "python3"
  },
  "language_info": {
   "codemirror_mode": {
    "name": "ipython",
    "version": 3
   },
   "file_extension": ".py",
   "mimetype": "text/x-python",
   "name": "python",
   "nbconvert_exporter": "python",
   "pygments_lexer": "ipython3",
   "version": "3.8.10"
  }
 },
 "nbformat": 4,
 "nbformat_minor": 5
}
