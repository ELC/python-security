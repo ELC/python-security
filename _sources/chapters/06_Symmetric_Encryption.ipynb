{
 "cells": [
  {
   "cell_type": "markdown",
   "id": "cc6db265-53c8-4891-bbe7-198557b331f1",
   "metadata": {},
   "source": [
    "# Symmetric Encryption"
   ]
  },
  {
   "cell_type": "markdown",
   "id": "fefa5e0e-a6a1-4add-90eb-46a37d2cffbe",
   "metadata": {},
   "source": [
    "Encryption is the process of transforming a message, usually called cyphered message, in such a way that only the intended parties can reverse it. The process of reversing encryption is called decryption. This implies that, as opposed to hashes, encryption is **reversible**.\n",
    "\n",
    "There are two main types of encryption, symmetric and asymmetric, this chapter will cover symmetric encryption.\n",
    "\n",
    "In symmetric encryption, the message to be sent is encrypted using a single **secret** password, also called key. Anyone with that secret key and decrypt the message and see the original content. \n",
    "\n",
    "This type of encryption is fast, reliable and extremely secure, however it has a major disadvantages, the **secret** key must be shared between the intended parties and the whole encryption procedure will be as secure as the security used for that key exchange. That is why usually other mechanisms such as asymmetric encryption are used only for the key-exchange."
   ]
  },
  {
   "cell_type": "markdown",
   "id": "e781ea59-677b-4504-a816-e3622598f906",
   "metadata": {},
   "source": [
    "## Encryption != Encoding"
   ]
  },
  {
   "cell_type": "markdown",
   "id": "7bb3d297-a192-4e1d-97d9-00d7179b79ed",
   "metadata": {},
   "source": [
    "Some times this terms are confused, **encryption** as mentioned is reversible but only by the intended parties whereas **encoding** is simply a way to transform a message in a **non-secure** way, mainly as means of compression or to transform a message into a more suitable format. \n",
    "\n",
    "One of the most common encodings used is Base64, which can be used to send binary files (PDFs, images, etc.) as plain text in HTTP Requests. Working with Base64 is a topic outside of this guide, however some introductory material is provided in [one of the appendixes](92_Base64.ipynb). "
   ]
  },
  {
   "cell_type": "markdown",
   "id": "2971d537-6da7-4003-bd8f-fee73c94fc99",
   "metadata": {},
   "source": [
    "## Authenticated vs Non-Authenticated Symmetric Encryption"
   ]
  },
  {
   "cell_type": "markdown",
   "id": "388920ac-f907-4c04-b982-76490cdf3185",
   "metadata": {},
   "source": [
    "A futher categorization of symmetric encryption algorithms is between those with authentication features and those without. Both provide a way to securely transmit a meesage, however, [authenticated Encryption](https://en.wikipedia.org/wiki/Authenticated_encryption) also allows, among other things, to verify whether the ciphered message has been modified.\n",
    "\n",
    "Modifying the ciphered message in a non-authenticated scheme will produce a nonsensical output whereas in authenticated encryption it will throw an error."
   ]
  },
  {
   "cell_type": "markdown",
   "id": "bd2e89ce-dfdf-4417-b7f4-8ed28bc7fbea",
   "metadata": {},
   "source": [
    "## The Cryptography Library"
   ]
  },
  {
   "cell_type": "markdown",
   "id": "f677e5cf-f643-47ff-83ea-4301fd028b2a",
   "metadata": {},
   "source": [
    "Python does not include any symmetric encryption features in its standard library, therefore, to use it one should install a third party tool. It is of great importance that the library to be used has some characteristics to ensure real security:\n",
    "\n",
    "- It should be built only on the standard library, this will ensure full compatibility and avoid dependency-related problems.\n",
    "- It should be open source, that way the code could be review and everyone knows exactly how it works.\n",
    "- It should be time-proved, new libraries tend to have bugs or poor implementations, libraries with some time online are usually prefered.\n",
    "- It should be used by trustworthy users, if it is an industry standard it means many companies and individuals trust it.\n",
    "\n",
    "The Python Cryptographic Authority, or pyca for short, is a non-official group of users who developed cryptographic libraries for this very purpose. It supports symmetric (authenticated and non-authenticated) and asymmetric encryption.\n",
    "\n",
    "The most common and used is homonomous to the group name: `cryptography`\n",
    "\n",
    "It can be install via `pip` with:\n",
    "\n",
    "```\n",
    "pip install cryptography\n",
    "```"
   ]
  },
  {
   "cell_type": "code",
   "execution_count": 1,
   "id": "d4e9640e-afae-4042-b711-a385710f826d",
   "metadata": {},
   "outputs": [],
   "source": [
    "import secrets\n",
    "import cryptography"
   ]
  },
  {
   "cell_type": "markdown",
   "id": "476bd12a-afd3-4285-8341-c9ff8c1558cf",
   "metadata": {},
   "source": [
    "## Symmetric Encryption without Authentication"
   ]
  },
  {
   "cell_type": "markdown",
   "id": "d87d768d-ef20-4efd-abab-0123283cdbf7",
   "metadata": {},
   "source": [
    "One of the most popular algorithms used is the [Advanced Encryption Standard (AES)](https://en.wikipedia.org/wiki/Advanced_Encryption_Standard). It works in combination with a [Mode of Operation](https://en.wikipedia.org/wiki/Block_cipher_mode_of_operation), this modes change the way in which the cyphered message is generated.\n",
    "\n",
    "Depending on the mode, the result could be authenticated or non-authenticated. The available (in the cryptography module) modes for non-authenticated encryption are [CBC](https://en.wikipedia.org/wiki/Block_cipher_mode_of_operation#Cipher_block_chaining_(CBC)), [CFB](https://en.wikipedia.org/wiki/Block_cipher_mode_of_operation#Cipher_feedback_(CFB)), [OFB](https://en.wikipedia.org/wiki/Block_cipher_mode_of_operation#Output_feedback_(OFB)), [CTR](https://en.wikipedia.org/wiki/Block_cipher_mode_of_operation#Counter_(CTR)). For more information see [this resource](https://www.highgo.ca/2019/08/08/the-difference-in-five-modes-in-the-aes-encryption-algorithm/).\n",
    "\n",
    "Usually the name of the algorithm is called **AES-MODE** in this chapter for non-authenticated encryption **AES-CTR** will be used."
   ]
  },
  {
   "cell_type": "markdown",
   "id": "10bf34ef-44a0-4ac6-9378-e57e4c496eaa",
   "metadata": {},
   "source": [
    "AES is one of the symmetric encryption algorithms available in the PyCA `cryptography` library. The particular objects used here are part of the `hazmat` package, `hazmat` stands for \"Hazardous Materials\" and quoting from their [site](https://cryptography.io/en/latest/hazmat/primitives/asymmetric/rsa/):\n",
    "\n",
    "> This is a “Hazardous Materials” module. You should ONLY use it if you’re 100% absolutely sure that you know what you’re doing because this module is full of land mines, dragons, and dinosaurs with laser guns."
   ]
  },
  {
   "cell_type": "code",
   "execution_count": 2,
   "id": "54ce336a-d91b-42c2-b005-dd30d709c9bd",
   "metadata": {},
   "outputs": [],
   "source": [
    "from cryptography.hazmat.primitives.ciphers import Cipher, algorithms, modes"
   ]
  },
  {
   "cell_type": "markdown",
   "id": "b70e5aa3-03d7-4083-a6d2-029b28b4ad31",
   "metadata": {},
   "source": [
    "### Encrypting"
   ]
  },
  {
   "cell_type": "code",
   "execution_count": 3,
   "id": "e5ac6ffe-3f5b-44b2-b505-58c764eaacf7",
   "metadata": {},
   "outputs": [
    {
     "name": "stdout",
     "output_type": "stream",
     "text": [
      "Secret Key: e50a173fd3792c619b5c5863baf394df2620114babf48bc505b52a0c4974991a\n",
      "Public Initialization Vector: 0ec5fc0c419d0e8b1a8efc77f00acaed\n",
      "Encrypted Message: f8fc6e27702f6de3e4c5d540\n"
     ]
    }
   ],
   "source": [
    "message = b\"Hello World!\"\n",
    "\n",
    "key = secrets.token_bytes(32)\n",
    "initialization_vector = secrets.token_bytes(16)\n",
    "\n",
    "algorithm = algorithms.AES(key)\n",
    "mode = modes.CTR(initialization_vector)\n",
    "\n",
    "cipher = Cipher(algorithm, mode)\n",
    "encryptor = cipher.encryptor()\n",
    "\n",
    "message_encrypted = encryptor.update(message) + encryptor.finalize()\n",
    "\n",
    "print(f\"Secret Key: {key.hex()}\")\n",
    "print(f\"Public Initialization Vector: {initialization_vector.hex()}\")\n",
    "print(f\"Encrypted Message: {message_encrypted.hex()}\")"
   ]
  },
  {
   "cell_type": "markdown",
   "id": "3cc7d8b2-cc14-44c9-bba4-cec14b51d76a",
   "metadata": {},
   "source": [
    "### Decrypting"
   ]
  },
  {
   "cell_type": "markdown",
   "id": "b0c7a5d6-e668-40f1-bf92-6805c00dd8ee",
   "metadata": {},
   "source": [
    "#### Wrong Key"
   ]
  },
  {
   "cell_type": "code",
   "execution_count": 4,
   "id": "6a62b08d-4af1-47aa-bf3e-2d1364a70961",
   "metadata": {},
   "outputs": [
    {
     "name": "stdout",
     "output_type": "stream",
     "text": [
      "Decrypted Message: b'\\xfc\\xbeJ\\xd2lR\\xaf\\xddD\\x1e%\\xe0'\n"
     ]
    }
   ],
   "source": [
    "guess_password = secrets.token_bytes(32)\n",
    "\n",
    "algorithm = algorithms.AES(guess_password)\n",
    "mode = modes.CTR(initialization_vector)\n",
    "\n",
    "cipher = Cipher(algorithm, mode)\n",
    "\n",
    "decryptor = cipher.decryptor()\n",
    "message_decrypted = decryptor.update(message_encrypted) + decryptor.finalize()\n",
    "\n",
    "print(f\"Decrypted Message: {message_decrypted}\")"
   ]
  },
  {
   "cell_type": "markdown",
   "id": "d4709b27-f4ed-4dc7-b651-e132d48621c9",
   "metadata": {},
   "source": [
    "#### Right Key"
   ]
  },
  {
   "cell_type": "code",
   "execution_count": 5,
   "id": "8d0e3707-861f-490f-89b4-d2be11d2918b",
   "metadata": {},
   "outputs": [
    {
     "name": "stdout",
     "output_type": "stream",
     "text": [
      "Decrypted Message: b'Hello World!'\n"
     ]
    }
   ],
   "source": [
    "algorithm = algorithms.AES(key)\n",
    "mode = modes.CTR(initialization_vector)\n",
    "\n",
    "cipher = Cipher(algorithm, mode)\n",
    "\n",
    "decryptor = cipher.decryptor()\n",
    "message_decrypted = decryptor.update(message_encrypted) + decryptor.finalize()\n",
    "print(f\"Decrypted Message: {message_decrypted}\")"
   ]
  },
  {
   "cell_type": "markdown",
   "id": "c7205cc1-16c6-4d9a-8fbf-2fbdacd93cf4",
   "metadata": {},
   "source": [
    "## Symmetric Encryption with Authentication"
   ]
  },
  {
   "cell_type": "markdown",
   "id": "971a4159-0575-444b-9942-cb368b2ba90c",
   "metadata": {},
   "source": [
    "The same AES algorithm can be combined with modes that results in a authenticated encryption. Such modes are [GCM](https://en.wikipedia.org/wiki/Galois/Counter_Mode), [OCB3](https://en.wikipedia.org/wiki/OCB_mode) and [CCM](https://en.wikipedia.org/wiki/CCM_mode).\n",
    "\n",
    "Even though they provide more features that the non-authenticated modes, they are sensitive to nonce re-use, having known vulnerabilities if the same nonce is used twice. There is a new generation of modes called **Synthetic Initialization Vector (SIV)** which mitigates this risks, producing modes like [AES-GCM-SIV](https://en.wikipedia.org/wiki/AES-GCM-SIV) and so on, this new generation has no time-proved implementation neither in Python nor in other programming language at the time of this writting."
   ]
  },
  {
   "cell_type": "code",
   "execution_count": 6,
   "id": "d93716e6-f3ba-48fd-b945-710ed966be64",
   "metadata": {},
   "outputs": [],
   "source": [
    "from cryptography.hazmat.primitives.ciphers.aead import AESGCM"
   ]
  },
  {
   "cell_type": "markdown",
   "id": "8798e23b-8ca8-4083-b37c-f61f05c08144",
   "metadata": {},
   "source": [
    "### Encrypting"
   ]
  },
  {
   "cell_type": "code",
   "execution_count": 7,
   "id": "1a593ab0-62a3-4e6d-b97c-24d4dd3902f8",
   "metadata": {},
   "outputs": [
    {
     "name": "stdout",
     "output_type": "stream",
     "text": [
      "Secret Key: 4077459071052930a654b3ac2d74094433a955fcf6bdef87c40f5e5b4d826c1d\n",
      "Public Nonce: 515406389dcb4e51d795eda30658391d2f0c3f78e5a5549f\n",
      "Encrypted Message: 515406389dcb4e51d795eda30658391d2f0c3f78e5a5549f:06636d8fa9fe7f671c30eb4bb950594faab6f3cbec4314743c3a86f9\n"
     ]
    }
   ],
   "source": [
    "message = b\"Hello World!\"\n",
    "\n",
    "key = secrets.token_bytes(32) # 16, 24, or 32\n",
    "nonce = secrets.token_bytes(24)\n",
    "\n",
    "ciphered_message = AESGCM(key).encrypt(nonce, message, None)\n",
    "\n",
    "encrypted_message = f\"{nonce.hex()}:{ciphered_message.hex()}\"\n",
    "\n",
    "print(f\"Secret Key: {key.hex()}\")\n",
    "print(f\"Public Nonce: {nonce.hex()}\")\n",
    "print(f\"Encrypted Message: {encrypted_message}\")"
   ]
  },
  {
   "cell_type": "markdown",
   "id": "8021ccd2-cb97-4168-9585-cc77f470e2ab",
   "metadata": {},
   "source": [
    "### Decrypting"
   ]
  },
  {
   "cell_type": "code",
   "execution_count": 8,
   "id": "98b6dfd8-c8a8-43e1-a6dc-6008b01cbc93",
   "metadata": {},
   "outputs": [],
   "source": [
    "def verify(password, nonce, message):\n",
    "    try:\n",
    "        decrypted_message = AESGCM(password).decrypt(nonce, message, None)\n",
    "        return f\"Decrypted Message: {message_decrypted}\"\n",
    "    except cryptography.exceptions.InvalidTag:\n",
    "        return \"Verification Failed - Either the message has been altered or the nonce or key are incorrect\""
   ]
  },
  {
   "cell_type": "markdown",
   "id": "ccbad1db-f5b7-462c-a6a5-326655544fd8",
   "metadata": {},
   "source": [
    "#### Wrong Key"
   ]
  },
  {
   "cell_type": "code",
   "execution_count": 9,
   "id": "2e100610-ddd5-4124-87d3-6a2424b03622",
   "metadata": {},
   "outputs": [
    {
     "name": "stdout",
     "output_type": "stream",
     "text": [
      "Verification Failed - Either the message has been altered or the nonce or key are incorrect\n"
     ]
    }
   ],
   "source": [
    "guess_password = bytes.fromhex(\"1329f363a87306c33952a7cbfc0ebf8105126764d1c72c511031a5b028110cf9\")\n",
    "\n",
    "nonce, ciphered_message = encrypted_message.split(\":\")\n",
    "nonce_bytes = bytes.fromhex(nonce)\n",
    "ciphered_message_bytes = bytes.fromhex(ciphered_message)\n",
    "\n",
    "print(verify(guess_password, nonce_bytes, ciphered_message_bytes))"
   ]
  },
  {
   "cell_type": "markdown",
   "id": "12095506-0209-4434-af35-c612f6b6ca22",
   "metadata": {},
   "source": [
    "#### Right Key"
   ]
  },
  {
   "cell_type": "code",
   "execution_count": 10,
   "id": "3e5f4b94-ee74-4b2b-9c91-655cbc2dee38",
   "metadata": {},
   "outputs": [
    {
     "name": "stdout",
     "output_type": "stream",
     "text": [
      "Decrypted Message: b'Hello World!'\n"
     ]
    }
   ],
   "source": [
    "nonce, ciphered_message = encrypted_message.split(\":\")\n",
    "nonce_bytes = bytes.fromhex(nonce)\n",
    "ciphered_message_bytes = bytes.fromhex(ciphered_message)\n",
    "\n",
    "print(verify(key, nonce_bytes, ciphered_message_bytes))"
   ]
  },
  {
   "cell_type": "markdown",
   "id": "56c792b5-b137-4520-9dfd-c87ae97f608b",
   "metadata": {},
   "source": [
    "## The Fernet Method"
   ]
  },
  {
   "cell_type": "markdown",
   "id": "636100b3-4087-46aa-a38c-ca94eec573f6",
   "metadata": {},
   "source": [
    "The [Fernet](https://github.com/fernet/spec/blob/master/Spec.md) method is an opinionated way of using AES and HMAC (see next chapter) to provide authenticated encryption. It is meant for easy use but it requires that the recipient also has a library compatible with it to effectively use it.\n",
    "\n",
    "It is not nearly as commonly used as the other methods described in this chapter but it is much more practical for simple use cases.\n",
    "\n",
    "At the time of this writing there are implementations for: \n",
    "\n",
    "- [Go (official)](https://github.com/fernet/fernet-go)\n",
    "- [Ruby (official)](https://github.com/fernet/fernet-rb)\n",
    "- [Erlang (official)](https://github.com/fernet/fernet-erl)\n",
    "- [Python](https://cryptography.io/en/latest/fernet/) (i.e. using cryptography)\n",
    "- [Javascript (Node)](https://www.npmjs.com/package/fernet).\n",
    "\n",
    "This method also allows the usage of **passwords (human-readable)** instead of random bytes as keys, see [this example](https://cryptography.io/en/latest/fernet/#using-passwords-with-fernet) for more information.\n",
    "\n",
    "The Fernet algorithm is not part of the `hazmat` package and then it is meant to be use as a developer friendly approach to symmetric encryption."
   ]
  },
  {
   "cell_type": "code",
   "execution_count": 11,
   "id": "3a083b06-5c39-4db7-b372-8f4748f8df38",
   "metadata": {},
   "outputs": [],
   "source": [
    "from cryptography.fernet import Fernet"
   ]
  },
  {
   "cell_type": "markdown",
   "id": "a902d557-c16c-4f35-be3d-d97c0b0c459f",
   "metadata": {},
   "source": [
    "### Encrypting"
   ]
  },
  {
   "cell_type": "code",
   "execution_count": 12,
   "id": "779b9c71-9e45-418f-a8d5-22e28dcc0fa8",
   "metadata": {},
   "outputs": [
    {
     "name": "stdout",
     "output_type": "stream",
     "text": [
      "Secret Key: 6c71775159453056557278522d66537735303739593365506b7669475a586b546c426f6c45464444725f633d\n",
      "Encrypted Message: 674141414141426878487732635562434c6a69726946596b627462526867577177767a364c5f57432d6e793938433468695a72716344435861587756676d5044455955306a64312d5a43445856306b6d5f626d32313951714642776c65305a5479673d3d\n"
     ]
    }
   ],
   "source": [
    "message = b\"Hello World!\"\n",
    "\n",
    "key = Fernet.generate_key()\n",
    "\n",
    "cipher = Fernet(key)\n",
    "\n",
    "message_encrypted = cipher.encrypt(message)\n",
    "\n",
    "print(f\"Secret Key: {key.hex()}\")\n",
    "print(f\"Encrypted Message: {message_encrypted.hex()}\")"
   ]
  },
  {
   "cell_type": "markdown",
   "id": "a1e11430-13c6-4376-9471-f62a65c72b80",
   "metadata": {},
   "source": [
    "### Decrypting"
   ]
  },
  {
   "cell_type": "markdown",
   "id": "1e48a8d4-d9db-4789-bf1e-e2f0ef5d8e6a",
   "metadata": {},
   "source": [
    "#### Wrong Key"
   ]
  },
  {
   "cell_type": "code",
   "execution_count": 13,
   "id": "05686caf-b1a5-438c-b91e-67a17cfae85d",
   "metadata": {},
   "outputs": [
    {
     "name": "stdout",
     "output_type": "stream",
     "text": [
      "Token Invalid\n"
     ]
    }
   ],
   "source": [
    "guess_password = bytes.fromhex(\"785754746c6136366d4f467431395543336c46444c71692d3249792d5a365374386665566f64726f4639303d\")\n",
    "\n",
    "cipher = Fernet(guess_password)\n",
    "\n",
    "try:\n",
    "    message_decrypted = cipher.decrypt(message_encrypted)\n",
    "    print(f\"Encrypted Message: {message_decrypted}\")\n",
    "except cryptography.fernet.InvalidToken:\n",
    "    print(\"Token Invalid\")"
   ]
  },
  {
   "cell_type": "markdown",
   "id": "af6b2882-9711-4f0b-9a4a-d3406643f8a4",
   "metadata": {},
   "source": [
    "#### Right Key"
   ]
  },
  {
   "cell_type": "code",
   "execution_count": 14,
   "id": "fd8cd3fc-70eb-4048-aacc-429f5a4e8f0c",
   "metadata": {},
   "outputs": [
    {
     "name": "stdout",
     "output_type": "stream",
     "text": [
      "Encrypted Message: b'Hello World!'\n"
     ]
    }
   ],
   "source": [
    "cipher = Fernet(key)\n",
    "\n",
    "try:\n",
    "    message_decrypted = cipher.decrypt(message_encrypted)\n",
    "    print(f\"Encrypted Message: {message_decrypted}\")\n",
    "except cryptography.fernet.InvalidToken:\n",
    "    print(\"Token Invalid\")"
   ]
  },
  {
   "cell_type": "markdown",
   "id": "aaca2e68-332e-439d-9d2c-22a360728cb0",
   "metadata": {},
   "source": [
    "### Conclusion\n",
    "\n",
    "Symmetric encryption provides a way to hide the original information in a reversible way. When using authenticated algorithms, if the encrypted message is modified, when decrypted, the output will be have no sense. Authenticated algorithms can detect changes and throw errors. There are many implementations of symmetric algorithms, many are low-level like AES but are more cross-platform whereas other such as Fernet have a more user-friendly approach but are only avaiable in certain programming languages."
   ]
  }
 ],
 "metadata": {
  "kernelspec": {
   "display_name": "Python 3 (ipykernel)",
   "language": "python",
   "name": "python3"
  },
  "language_info": {
   "codemirror_mode": {
    "name": "ipython",
    "version": 3
   },
   "file_extension": ".py",
   "mimetype": "text/x-python",
   "name": "python",
   "nbconvert_exporter": "python",
   "pygments_lexer": "ipython3",
   "version": "3.8.10"
  }
 },
 "nbformat": 4,
 "nbformat_minor": 5
}
