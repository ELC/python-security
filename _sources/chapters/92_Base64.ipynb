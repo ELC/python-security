{
 "cells": [
  {
   "cell_type": "markdown",
   "id": "53cd567a-241f-40be-ad45-a20d01990c8e",
   "metadata": {},
   "source": [
    "# Appendix: Base64 encoding"
   ]
  },
  {
   "cell_type": "code",
   "execution_count": null,
   "id": "1ac1b539-4703-4c75-a9c3-351d5b43205d",
   "metadata": {},
   "outputs": [],
   "source": []
  }
 ],
 "metadata": {
  "kernelspec": {
   "display_name": "Python 3 (ipykernel)",
   "language": "python",
   "name": "python3"
  },
  "language_info": {
   "codemirror_mode": {
    "name": "ipython",
    "version": 3
   },
   "file_extension": ".py",
   "mimetype": "text/x-python",
   "name": "python",
   "nbconvert_exporter": "python",
   "pygments_lexer": "ipython3",
   "version": "3.8.10"
  }
 },
 "nbformat": 4,
 "nbformat_minor": 5
}
