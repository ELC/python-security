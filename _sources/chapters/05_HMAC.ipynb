{
 "cells": [
  {
   "cell_type": "markdown",
   "id": "06a6d6a6-a871-4624-be01-1df10957ae7d",
   "metadata": {},
   "source": [
    "# HMAC"
   ]
  },
  {
   "cell_type": "markdown",
   "id": "070b02af-02f8-40a6-91c0-87b200acb37a",
   "metadata": {},
   "source": [
    "**ToDo**:\n",
    "- Add illustration for HMAC - Similar to [this](https://upload.wikimedia.org/wikipedia/commons/thumb/7/7f/SHAhmac.svg/1200px-SHAhmac.svg.png).\n",
    "- Add relevant resources at the end.\n",
    "---\n"
   ]
  },
  {
   "cell_type": "markdown",
   "id": "e05ec586-ccba-49f4-8d6c-79f36c34c6f3",
   "metadata": {},
   "source": [
    "Checksums provides control for **data integrity** but not for **authentication**, that is why they are vulnerable to [man in the middle attacks](https://en.wikipedia.org/wiki/Man-in-the-middle_attack). A similar method that provides both features is called [message authentication code (MAC)](https://en.wikipedia.org/wiki/Message_authentication_code), not to be confused with [media access control address (MAC address)](https://en.wikipedia.org/wiki/MAC_address) used in communications and networking. In this material MAC will always refer to the former.\n",
    "\n",
    "MACs provides both **integrity** and **authentication** using a **key**. There are different ways to implement this mechanism:\n",
    "\n",
    "- Using cryptographic hashes (HMAC)\n",
    "- Using [block ciphers](https://en.wikipedia.org/wiki/Block_cipher) ([OMAC](https://en.wikipedia.org/wiki/One-key_MAC), [CCM](https://en.wikipedia.org/wiki/CCM_mode), [GCM](https://en.wikipedia.org/wiki/Galois/Counter_Mode), and [PMAC](https://en.wikipedia.org/wiki/PMAC_(cryptography)))\n",
    "- Using [universal hashes](https://en.wikipedia.org/wiki/Universal_hashing) ([UMAC](https://en.wikipedia.org/wiki/UMAC)-[VMAC](https://en.wikipedia.org/wiki/VMAC?oldformat=true) and [Poly1305-AES](https://en.wikipedia.org/wiki/Poly1305))\n",
    "\n",
    "This chapter will cover the usage of [HMAC](https://en.wikipedia.org/wiki/HMAC). Block ciphers, in particular AES, will be covered in following chapter.\n",
    "\n",
    "As with hashes, HMACs are non-reversible and only with the secret key can one produce the same hash for a given message.\n",
    "\n",
    "Since HMAC is a procedure, it does not rely on any specific hash function. Therefore different hash functions can be used, to specify exactly which, the name of the hash function is usually stated. For instance, if using SHA256 the HMAC will be called HMAC-SHA256 or HSHA256."
   ]
  },
  {
   "cell_type": "markdown",
   "id": "9eed57f5-e560-4ae9-86de-f4c99be8902f",
   "metadata": {
    "tags": []
   },
   "source": [
    "## HMAC != Hashes"
   ]
  },
  {
   "cell_type": "markdown",
   "id": "f4dfb449-31ef-4581-a04a-5d637411b29e",
   "metadata": {
    "tags": []
   },
   "source": [
    "Hashes were shown to be a method to *hide* information such as passwords in a secure way, on the contrary, when using HMACs, the message is **completely visible / public**. The objective of HMACs is not to hide a message but to provide a way to the receipient to verify if the message has been sent by the intended party.\n",
    "\n",
    "It should be noted that **anyone** with the secret key can produce messages so the secret key should be exchange by a secure channel beforehand. If someone receives the message and does not have the secret key, they will be able to see the message but they will not be able to verify if its coming for the intended source."
   ]
  },
  {
   "cell_type": "markdown",
   "id": "6a1701d9-a84b-4b99-b0c4-f9d7ba5e5fd6",
   "metadata": {},
   "source": [
    "## HMAC != Hashes + Salt (+ Pepper)"
   ]
  },
  {
   "cell_type": "markdown",
   "id": "7aebf050-f64e-4749-8ddf-38e52d2bbf2e",
   "metadata": {},
   "source": [
    "HMAC is a method that combines a **secret key** and the original message in such a way that, if changing the key, the message will also change. At first, it may seem that this key is analogous to a salt or a pepper when hashing but the main difference is that the key is not simply appended/preppended to the message but rather mixed in a cryptographically secure way. \n",
    "\n",
    "Moreover salts are public whereas HMAC keys are not and pepper could be re-discovered whereas HMAC should not."
   ]
  },
  {
   "cell_type": "markdown",
   "id": "24670aa2-b866-4234-b6b4-132cb79f466d",
   "metadata": {
    "tags": []
   },
   "source": [
    "## HMAC != Checksums"
   ]
  },
  {
   "cell_type": "markdown",
   "id": "1d557d7c-84c5-4ec9-aa77-8cf979e2f459",
   "metadata": {
    "tags": []
   },
   "source": [
    "While both checksums and HMACs provides integrity, the main difference is that checksums has no password/key protection and hence a given input will always have the same output, whereas in HMACs the output depends on both the input and the password/key."
   ]
  },
  {
   "cell_type": "markdown",
   "id": "f69f7305-b90d-4a1a-90d8-ba1d9026e11f",
   "metadata": {},
   "source": [
    "## Generating HMAC"
   ]
  },
  {
   "cell_type": "markdown",
   "id": "569439da-3faf-494d-92b8-c64b79ee7e29",
   "metadata": {},
   "source": [
    "Python has the [`hmac` module](https://docs.python.org/3/library/hmac.html) as part of the standard library and can be combined with the hash functions used in previous chapters.\n",
    "\n",
    "As well as with the `hashlib` it is possible to create HMACs with a single function call or with the builder pattern."
   ]
  },
  {
   "cell_type": "code",
   "execution_count": 1,
   "id": "091697d2-a1f7-4d8f-b601-73d257ca8dde",
   "metadata": {},
   "outputs": [],
   "source": [
    "import hmac\n",
    "import hashlib"
   ]
  },
  {
   "cell_type": "markdown",
   "id": "41151f3a-194f-4ec1-a467-bf1306a84f57",
   "metadata": {},
   "source": [
    "### Using single Function"
   ]
  },
  {
   "cell_type": "markdown",
   "id": "d27b7ecd-b277-40e3-be08-fa3423d64934",
   "metadata": {},
   "source": [
    "The single function approach will always return a bytes object, if the hex representation is desired, use any of the methods available (see [Bytes Appendix](91_Bytes.ipynb))."
   ]
  },
  {
   "cell_type": "code",
   "execution_count": 5,
   "id": "9a4eeeae-0ca7-469d-a2b3-f020cb493b0a",
   "metadata": {},
   "outputs": [
    {
     "data": {
      "text/plain": [
       "'3262c371784a36377154bdeb0bfbfc6ebf88591a7e564dbb0c4c7ee16c273440'"
      ]
     },
     "execution_count": 5,
     "metadata": {},
     "output_type": "execute_result"
    }
   ],
   "source": [
    "secret_key = b\"my secret\"\n",
    "message = b\"Hello World!\"\n",
    "\n",
    "message_hmac_bytes = hmac.digest(secret_key, message, digest=hashlib.sha256)\n",
    "message_hmac = message_hmac_bytes.hex()\n",
    "message_hmac"
   ]
  },
  {
   "cell_type": "markdown",
   "id": "7284a29d-1744-41bc-9bfd-3e0054db7199",
   "metadata": {},
   "source": [
    "### Using Builder Pattern"
   ]
  },
  {
   "cell_type": "markdown",
   "id": "851f10fb-5d24-4de2-a525-c614ed73ab45",
   "metadata": {},
   "source": [
    "One change in this implementation is that the parameter is called `digestmod` instead of `digest`. For the bytes output one can use the `digest` method and for the hex output the `hexdigest` method."
   ]
  },
  {
   "cell_type": "code",
   "execution_count": 6,
   "id": "f989a1e7-9501-4ed9-94ea-80391118cd48",
   "metadata": {},
   "outputs": [
    {
     "data": {
      "text/plain": [
       "'3262c371784a36377154bdeb0bfbfc6ebf88591a7e564dbb0c4c7ee16c273440'"
      ]
     },
     "execution_count": 6,
     "metadata": {},
     "output_type": "execute_result"
    }
   ],
   "source": [
    "secret_key = b\"my secret\"\n",
    "message = b\"Hello World!\"\n",
    "\n",
    "keyed_hasher = hmac.new(secret_key, digestmod=hashlib.sha256)\n",
    "keyed_hasher.update(message)\n",
    "message_hmac = keyed_hasher.hexdigest()\n",
    "message_hmac"
   ]
  },
  {
   "cell_type": "markdown",
   "id": "3ae5108b-1acd-468d-bc54-ee81afbf324d",
   "metadata": {},
   "source": [
    "## Verifying a Message"
   ]
  },
  {
   "cell_type": "markdown",
   "id": "bebacd96-ed8b-4d59-a15c-2a83c52e89db",
   "metadata": {},
   "source": [
    "**Note**: the `hmac.compare_digest` is exactly the same as `secrets.compare_digest`. The latter is an alias of the former."
   ]
  },
  {
   "cell_type": "code",
   "execution_count": 11,
   "id": "fc567cd3-5452-47a7-a55b-7651733eaacc",
   "metadata": {},
   "outputs": [],
   "source": [
    "def verify(received_message, received_hmac, key):\n",
    "    guess_hmac = hmac.digest(key, received_message, digest=hashlib.sha256).hex()\n",
    "    \n",
    "    if not hmac.compare_digest(received_hmac, guess_hmac):\n",
    "        return \"Mismatch, either the message has been modified or key is incorrect\"\n",
    "    \n",
    "    return \"Match, message and the key are consistent\"    "
   ]
  },
  {
   "cell_type": "markdown",
   "id": "a777078d-2fe9-4193-92fe-df55d5bae02b",
   "metadata": {},
   "source": [
    "### Altered Message"
   ]
  },
  {
   "cell_type": "code",
   "execution_count": 8,
   "id": "b9eed727-99c4-4eb0-ad79-3d383f0e6e69",
   "metadata": {},
   "outputs": [
    {
     "name": "stdout",
     "output_type": "stream",
     "text": [
      "Mismatch, either the message has been modified or key is incorrect\n"
     ]
    }
   ],
   "source": [
    "received_message = b\"Hello Wrold!\"\n",
    "received_hmac = '3262c371784a36377154bdeb0bfbfc6ebf88591a7e564dbb0c4c7ee16c273440'\n",
    "guess_key = b\"my secret\"\n",
    "\n",
    "print(verify(received_message, received_hmac, guess_key))"
   ]
  },
  {
   "cell_type": "markdown",
   "id": "51b94600-b17f-44ad-8c0e-6d3d5d88c445",
   "metadata": {},
   "source": [
    "### Wrong Key"
   ]
  },
  {
   "cell_type": "code",
   "execution_count": 9,
   "id": "f7693894-4eff-43b9-87b3-8bd06031da54",
   "metadata": {},
   "outputs": [
    {
     "name": "stdout",
     "output_type": "stream",
     "text": [
      "Mismatch, either the message has been modified or key is incorrect\n"
     ]
    }
   ],
   "source": [
    "received_message = b\"Hello World!\"\n",
    "received_hmac = '3262c371784a36377154bdeb0bfbfc6ebf88591a7e564dbb0c4c7ee16c273440'\n",
    "guess_key = b\"password\"\n",
    "\n",
    "print(verify(received_message, received_hmac, guess_key))"
   ]
  },
  {
   "cell_type": "markdown",
   "id": "8c0231f8-7ba3-42fa-aac8-655a90c9c825",
   "metadata": {},
   "source": [
    "### Correct Message and Key"
   ]
  },
  {
   "cell_type": "code",
   "execution_count": 10,
   "id": "4c389cab-ef99-443b-916d-8a70bff30d43",
   "metadata": {},
   "outputs": [
    {
     "name": "stdout",
     "output_type": "stream",
     "text": [
      "Match, message and the key are consistent\n"
     ]
    }
   ],
   "source": [
    "received_message = b\"Hello World!\"\n",
    "received_hmac = '3262c371784a36377154bdeb0bfbfc6ebf88591a7e564dbb0c4c7ee16c273440'\n",
    "guess_key = b\"my secret\"\n",
    "\n",
    "print(verify(received_message, received_hmac, guess_key))"
   ]
  },
  {
   "cell_type": "markdown",
   "id": "16e5e3a4-a30c-459e-9a96-ff919a6c8e39",
   "metadata": {},
   "source": [
    "## Conclusion"
   ]
  },
  {
   "cell_type": "markdown",
   "id": "6599d168-3646-41c5-9164-7bb7b7cbfbe8",
   "metadata": {},
   "source": [
    "HMACs are a sequence of bytes that can only be produced with a given input and a password/key, the input message is generally public and the HMAC serves as means of integrity, without requiring a secure channel. The drawback is that the passwrod/key itself should be delivered by a secure channel to begin with."
   ]
  }
 ],
 "metadata": {
  "kernelspec": {
   "display_name": "Python 3 (ipykernel)",
   "language": "python",
   "name": "python3"
  },
  "language_info": {
   "codemirror_mode": {
    "name": "ipython",
    "version": 3
   },
   "file_extension": ".py",
   "mimetype": "text/x-python",
   "name": "python",
   "nbconvert_exporter": "python",
   "pygments_lexer": "ipython3",
   "version": "3.8.10"
  }
 },
 "nbformat": 4,
 "nbformat_minor": 5
}
