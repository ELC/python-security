{
 "cells": [
  {
   "cell_type": "markdown",
   "id": "e05ec586-ccba-49f4-8d6c-79f36c34c6f3",
   "metadata": {},
   "source": [
    "# Checksum\n",
    "\n",
    "Even though hashes provide cryptographic features, they are computational intensive and in some use cases, only **data integrity** is desired, e.g. to check that a dowloaded file is exactly the one hosted on a server. Checksums are non-reversible.\n",
    "\n",
    "For that purpose there are functions called [**checksums**](https://en.wikipedia.org/wiki/Checksum), they are not hashes and hence not suitable for security purposes. That means that the sender should either make the checksum public or send it along with the original data. If the latter, one should notice that this is vulnerable to [man in the middle attacks](https://en.wikipedia.org/wiki/Man-in-the-middle_attack).\n",
    "\n",
    "The most common methods are called [CRC32](https://en.wikipedia.org/wiki/Cyclic_redundancy_check) and [Adler32](https://en.wikipedia.org/wiki/Adler-32). Both are similar in but the latter is faster. The Python standard library exposes functions for both under the [`zlib` module](https://docs.python.org/3/library/zlib.html).\n",
    "\n",
    "One of the main difference is that with hashes, the data is usually small, whereas checksums are used for whole files, which can be many gigabytes in size. The following examples illustrate how to work with Python objects as well as files."
   ]
  },
  {
   "cell_type": "code",
   "execution_count": 1,
   "id": "c5c44abd-97f9-4408-aa96-6dc291404e8b",
   "metadata": {},
   "outputs": [],
   "source": [
    "import zlib"
   ]
  },
  {
   "cell_type": "markdown",
   "id": "569439da-3faf-494d-92b8-c64b79ee7e29",
   "metadata": {},
   "source": [
    "## Working with Python Data\n",
    "\n",
    "Python data is what has been shown in the previous chapters, dictionaries, strings and the like. As hashes, checksum functions expect a `bytes` object so prior to send any data, it should be converted to bytes."
   ]
  },
  {
   "cell_type": "markdown",
   "id": "641309fc-dc21-45a7-a2d1-e6ed8ce316ac",
   "metadata": {},
   "source": [
    "### CRC32"
   ]
  },
  {
   "cell_type": "code",
   "execution_count": 26,
   "id": "f989a1e7-9501-4ed9-94ea-80391118cd48",
   "metadata": {},
   "outputs": [
    {
     "name": "stdout",
     "output_type": "stream",
     "text": [
      " Message: b'Hello World!'\n",
      "Checksum: 472456355\n"
     ]
    }
   ],
   "source": [
    "message = b\"Hello World!\"\n",
    "\n",
    "message_crc = zlib.crc32(message)\n",
    "\n",
    "print(f\" Message: {message}\")\n",
    "print(f\"Checksum: {message_crc}\")"
   ]
  },
  {
   "cell_type": "markdown",
   "id": "5374fcad-1ed9-48ff-baee-f0f20acc49d6",
   "metadata": {},
   "source": [
    "### Adler32"
   ]
  },
  {
   "cell_type": "code",
   "execution_count": 27,
   "id": "cb79ce83-ad34-4cf8-92e3-4287e4bc9e70",
   "metadata": {},
   "outputs": [
    {
     "name": "stdout",
     "output_type": "stream",
     "text": [
      " Message: b'Hello World!'\n",
      "Checksum: 474547262\n"
     ]
    }
   ],
   "source": [
    "message = b\"Hello World!\"\n",
    "\n",
    "message_crc = zlib.adler32(message)\n",
    "\n",
    "print(f\" Message: {message}\")\n",
    "print(f\"Checksum: {message_crc}\")"
   ]
  },
  {
   "cell_type": "markdown",
   "id": "8db54a0e-f56f-4d1a-8d78-762005224f48",
   "metadata": {},
   "source": [
    "### Verification"
   ]
  },
  {
   "cell_type": "code",
   "execution_count": 29,
   "id": "6bab5275-6abe-4c96-ba21-accb071c7747",
   "metadata": {},
   "outputs": [],
   "source": [
    "def verify(received_message, received_crc):\n",
    "    received_message_crc = zlib.adler32(received_message)\n",
    "\n",
    "    if received_message_crc != received_crc:\n",
    "        return \"Mismatch, either message or checksum is incorrect\"\n",
    "    \n",
    "    return \"Match, message and checksum are consistent\""
   ]
  },
  {
   "cell_type": "markdown",
   "id": "3ffbba92-2370-4cad-9b1d-d251bf5ef827",
   "metadata": {},
   "source": [
    "#### Altered message"
   ]
  },
  {
   "cell_type": "code",
   "execution_count": 33,
   "id": "4b6470a8-c0e5-470d-aa3b-2fc428414054",
   "metadata": {},
   "outputs": [
    {
     "name": "stdout",
     "output_type": "stream",
     "text": [
      "Mismatch, either message or checksum is incorrect\n"
     ]
    }
   ],
   "source": [
    "received_message = b\"Hello Wrold!\"\n",
    "received_crc = 474547262\n",
    "\n",
    "print(verify(received_message, received_crc))"
   ]
  },
  {
   "cell_type": "markdown",
   "id": "e70955a2-c0f2-4f7f-b9ec-76080e82e7ad",
   "metadata": {},
   "source": [
    "#### Altered Checksum"
   ]
  },
  {
   "cell_type": "code",
   "execution_count": 34,
   "id": "22f3dcd8-815d-4e72-80fc-03736f9c01c6",
   "metadata": {},
   "outputs": [
    {
     "name": "stdout",
     "output_type": "stream",
     "text": [
      "Mismatch, either message or checksum is incorrect\n"
     ]
    }
   ],
   "source": [
    "received_message = b\"Hello Wrold!\"\n",
    "received_crc = 474547263\n",
    "\n",
    "print(verify(received_message, received_crc))"
   ]
  },
  {
   "cell_type": "markdown",
   "id": "94e0d4c7-d1e9-424c-8828-db9c3d712f2a",
   "metadata": {},
   "source": [
    "#### Correct Message and Checksum"
   ]
  },
  {
   "cell_type": "code",
   "execution_count": 35,
   "id": "f02cba8b-7b27-421d-ae18-9a27d560ef8f",
   "metadata": {},
   "outputs": [
    {
     "name": "stdout",
     "output_type": "stream",
     "text": [
      "Match, message and checksum are consistent\n"
     ]
    }
   ],
   "source": [
    "received_message = b\"Hello World!\"\n",
    "received_crc = 474547262\n",
    "\n",
    "print(verify(received_message, received_crc))"
   ]
  },
  {
   "cell_type": "markdown",
   "id": "95f802d0-7d80-43a4-95a3-39368c316908",
   "metadata": {},
   "source": [
    "#### Simulated Man in the Middle\n",
    "\n",
    "If the data is intercepted and malliciously tampered with, there is no way to tell the difference. The checksum does not provide any mechanism against modification, that is, it is **not an authenticated** mechanism."
   ]
  },
  {
   "cell_type": "code",
   "execution_count": 36,
   "id": "2069c8e9-9d15-458e-a9ac-0a4863603eed",
   "metadata": {},
   "outputs": [
    {
     "name": "stdout",
     "output_type": "stream",
     "text": [
      "Match, message and checksum are consistent\n"
     ]
    }
   ],
   "source": [
    "original_message = b\"Hello World!\"\n",
    "original_crc = 474547262\n",
    "\n",
    "# Man in the middle Attack\n",
    "altered_message = b\"Hello World!\" + b\" Or that is what you think\"\n",
    "altered_crc = zlib.adler32(altered_message)\n",
    "\n",
    "print(verify(altered_message, altered_crc))"
   ]
  },
  {
   "cell_type": "markdown",
   "id": "5301f801-f7e9-4433-85b3-d1e714479a7d",
   "metadata": {},
   "source": [
    "## Working with Files\n",
    "\n",
    "It is also desireable to work with files and check their integrity, this code snipped could also be applied to hashes although it may not be as popular.\n",
    "\n",
    "To work with files, the best way is to use the [pathlib module](https://docs.python.org/3/library/pathlib.html) from the standard library."
   ]
  },
  {
   "cell_type": "code",
   "execution_count": 42,
   "id": "43e6c828-6c59-4dd0-bbe1-c18e33f94357",
   "metadata": {},
   "outputs": [],
   "source": [
    "from pathlib import Path"
   ]
  },
  {
   "cell_type": "markdown",
   "id": "8af7b8e2-f87e-4208-9f4a-83eae92a9d6a",
   "metadata": {},
   "source": [
    "### Checksum Calculation"
   ]
  },
  {
   "cell_type": "code",
   "execution_count": 48,
   "id": "4965918d-1c6b-4e3c-b782-77508729e285",
   "metadata": {},
   "outputs": [
    {
     "name": "stdout",
     "output_type": "stream",
     "text": [
      "Checksum (Adler32): 911607435\n"
     ]
    }
   ],
   "source": [
    "readme_file_bytes = Path(\"README.md\").read_bytes()\n",
    "\n",
    "message_crc = zlib.adler32(readme_file_bytes)\n",
    "\n",
    "print(f\"Checksum (Adler32): {message_crc}\")"
   ]
  },
  {
   "cell_type": "markdown",
   "id": "544b1ff8-31bb-4584-ab85-50b5482ea8c2",
   "metadata": {},
   "source": [
    "### Hash Calculation\n",
    "\n",
    "Some systems may use MD5, a legacy and vulnerable hash algorithm, or SHA1 to checksum files. Even though MD5 and SHA1 are cryptographic functions, **they are stil subjected to the same Man in the middle attack**, the advantage of using them lies in the **collision avoidance** and **big changes in output due to small changes in input**.\n",
    "\n",
    "When using hashes, the output will be a hexadecimal, instead of an integer. It can be converted to integer although it might produce overflow in legacy systems that cannot handle arbitrary long integers depending on the precise hash function used."
   ]
  },
  {
   "cell_type": "code",
   "execution_count": 45,
   "id": "68ab54f3-3a18-492d-b739-98ba512e885d",
   "metadata": {},
   "outputs": [],
   "source": [
    "import hashlib"
   ]
  },
  {
   "cell_type": "code",
   "execution_count": 49,
   "id": "63550cea-aee4-4fe3-a474-ccf435612c4e",
   "metadata": {},
   "outputs": [
    {
     "name": "stdout",
     "output_type": "stream",
     "text": [
      "Checksum (MD5): 85dd52993d63cb5dc0f6ea4f9dcedcc4\n"
     ]
    }
   ],
   "source": [
    "readme_file_bytes = Path(\"README.md\").read_bytes()\n",
    "\n",
    "message_crc = hashlib.md5(readme_file_bytes)\n",
    "\n",
    "print(f\"Checksum (MD5): {message_crc.hexdigest()}\")"
   ]
  },
  {
   "cell_type": "code",
   "execution_count": 51,
   "id": "af97234e-7c60-4e05-8ff4-37329feec0e5",
   "metadata": {},
   "outputs": [
    {
     "name": "stdout",
     "output_type": "stream",
     "text": [
      "Checksum (SHA1): 5c721db225aea8436b3f473a24fc910b665f28de\n"
     ]
    }
   ],
   "source": [
    "readme_file_bytes = Path(\"README.md\").read_bytes()\n",
    "\n",
    "message_crc = hashlib.sha1(readme_file_bytes)\n",
    "\n",
    "print(f\"Checksum (SHA1): {message_crc.hexdigest()}\")"
   ]
  },
  {
   "cell_type": "markdown",
   "id": "253d2e70-d325-4b21-9a5d-0d7752b6a9c7",
   "metadata": {},
   "source": [
    "## Speed Benchmarks\n",
    "\n",
    "This section will compare computing the checksum using the different methods showed above. The README file will be use as an example and it will be artificially enlarged to showcase efficiency of the methods when dealing with large files. The [`sys` module](https://docs.python.org/3/library/sys.html) will be use to calculate the file size.\n",
    "\n",
    "The exact results may vary depending on the hardware, this is not a rigorous benchmark but it serves to give a general impresion of the relative speed of the different methods."
   ]
  },
  {
   "cell_type": "markdown",
   "id": "f840dd59-53a1-4b0c-a7ea-d34ce287c12f",
   "metadata": {},
   "source": [
    "### Preparing the File"
   ]
  },
  {
   "cell_type": "code",
   "execution_count": 81,
   "id": "c456e356-615b-4601-b480-d1033c4405d7",
   "metadata": {},
   "outputs": [],
   "source": [
    "import sys"
   ]
  },
  {
   "cell_type": "code",
   "execution_count": 84,
   "id": "6a8d6d6b-94f5-4b95-b153-511f19fac0a1",
   "metadata": {},
   "outputs": [
    {
     "name": "stdout",
     "output_type": "stream",
     "text": [
      "Checksum for a file of 544 MB\n"
     ]
    }
   ],
   "source": [
    "readme_file_bytes = Path(\"README.md\").read_bytes()\n",
    "\n",
    "# Make it artificially bigger\n",
    "while sys.getsizeof(readme_file_bytes) < 500 * 2**20:\n",
    "    readme_file_bytes = readme_file_bytes * 2\n",
    "\n",
    "print(f\"Checksum for a file of {sys.getsizeof(readme_file_bytes) / 2**20:.4g} MB\")"
   ]
  },
  {
   "cell_type": "markdown",
   "id": "38db2dcf-3dd4-42d6-8b97-ed74efcdf4df",
   "metadata": {},
   "source": [
    "### Runs"
   ]
  },
  {
   "cell_type": "code",
   "execution_count": 85,
   "id": "94e197d0-2632-42eb-b7d1-0e70d15ecb16",
   "metadata": {},
   "outputs": [
    {
     "name": "stdout",
     "output_type": "stream",
     "text": [
      "  Checksum CRC32: 645 ms ± 22.4 ms per loop (mean ± std. dev. of 7 runs, 1 loop each)\n",
      "Checksum Adler32: 208 ms ± 18.9 ms per loop (mean ± std. dev. of 7 runs, 1 loop each)\n",
      "    Checksum MD5: 856 ms ± 32 ms per loop (mean ± std. dev. of 7 runs, 1 loop each)\n",
      "   Checksum SHA1: 921 ms ± 16.1 ms per loop (mean ± std. dev. of 7 runs, 1 loop each)\n"
     ]
    }
   ],
   "source": [
    "print(\"  Checksum CRC32:\", end=\" \")\n",
    "%timeit zlib.crc32(readme_file_bytes)\n",
    "\n",
    "print(\"Checksum Adler32:\", end=\" \")\n",
    "%timeit zlib.adler32(readme_file_bytes)\n",
    "\n",
    "print(\"    Checksum MD5:\", end=\" \")\n",
    "%timeit hashlib.md5(readme_file_bytes)\n",
    "\n",
    "print(\"   Checksum SHA1:\", end=\" \")\n",
    "%timeit hashlib.sha1(readme_file_bytes)"
   ]
  },
  {
   "cell_type": "markdown",
   "id": "c1d9dd9b-00e7-4437-acd3-8b52ebbf7f3b",
   "metadata": {},
   "source": [
    "### Conclusion\n",
    "\n",
    "Checksum functions provide less guarantees than hashes but they are useful to provide integrity. In particular Adler32 is around three times faster than CRC32, and if cryptographic features are not needed, and speed is paramount, using checksum functions over hashes seems to be a good option. Many systems use hashes as checksums for compatibility reasons. In order to give true integrity, the checksum should be public or delivered by a secure channel to avoid man in the middle attacks."
   ]
  }
 ],
 "metadata": {
  "kernelspec": {
   "display_name": "Python 3 (ipykernel)",
   "language": "python",
   "name": "python3"
  },
  "language_info": {
   "codemirror_mode": {
    "name": "ipython",
    "version": 3
   },
   "file_extension": ".py",
   "mimetype": "text/x-python",
   "name": "python",
   "nbconvert_exporter": "python",
   "pygments_lexer": "ipython3",
   "version": "3.8.10"
  }
 },
 "nbformat": 4,
 "nbformat_minor": 5
}
