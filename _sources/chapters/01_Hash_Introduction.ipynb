{
 "cells": [
  {
   "cell_type": "markdown",
   "id": "3afb6610-280a-42c3-8cc6-fe79643ae1fb",
   "metadata": {},
   "source": [
    "# Introduction to Hash Functions"
   ]
  },
  {
   "cell_type": "markdown",
   "id": "fa76a7c0-40f0-41e1-9c25-557a1d4e5fa8",
   "metadata": {},
   "source": [
    "## Built-In Hash Function"
   ]
  },
  {
   "cell_type": "markdown",
   "id": "acd697d4-7ccf-4cb9-af54-9babc242342e",
   "metadata": {},
   "source": [
    "Python has a [built-in hash function](https://docs.python.org/3/library/functions.html#hash) which is internally used by [sets](https://docs.python.org/3/tutorial/datastructures.html#sets) and [dictionaries](https://docs.python.org/3/tutorial/datastructures.html#dictionaries). However this is not a secure or cryptographic hash but rather a convient function to make use of the fast speed of [HashTables](https://en.wikipedia.org/wiki/Hash_table), the underlying data structure of sets and dictionaries."
   ]
  },
  {
   "cell_type": "code",
   "execution_count": 1,
   "id": "0c19024b-ef52-477a-a7f5-76a9795e4d3d",
   "metadata": {},
   "outputs": [
    {
     "data": {
      "text/plain": [
       "-6310723423335719723"
      ]
     },
     "execution_count": 1,
     "metadata": {},
     "output_type": "execute_result"
    }
   ],
   "source": [
    "hash(\"Hello World!\")"
   ]
  },
  {
   "cell_type": "markdown",
   "id": "a8a314c6-110d-418e-b792-409622df8cd2",
   "metadata": {},
   "source": [
    "The result will be an integer and it is designed in such a way that numeric objects which are equal when compared will have the same hash even though they are actually different. To objects are the same, when they have the same memory position, this can be obtained through the built-in `id` function.\n",
    "\n",
    "This was done intentionally to increase the speed of the language and for general-purpose approach, not for security."
   ]
  },
  {
   "cell_type": "code",
   "execution_count": 2,
   "id": "d3ecd7e5-8853-447d-a9a6-f352e00c38a7",
   "metadata": {},
   "outputs": [
    {
     "name": "stdout",
     "output_type": "stream",
     "text": [
      "Are 1 and 1.0 the same object? False\n",
      "Does 1 have the same hash as 1.0? True\n"
     ]
    }
   ],
   "source": [
    "print(f\"Are 1 and 1.0 the same object? {id(1) == id(1.0)}\")\n",
    "print(f\"Does 1 have the same hash as 1.0? {hash(1) == hash(1.0)}\")"
   ]
  },
  {
   "cell_type": "markdown",
   "id": "e6e645db-73df-4c78-82c9-9172dae769bb",
   "metadata": {},
   "source": [
    "This means this function **SHOULD NOT** be used for any cryptographic work. Instead, the [hashlib module](https://docs.python.org/3/library/hashlib.html) should be used."
   ]
  },
  {
   "cell_type": "markdown",
   "id": "a8a6d827-17c8-41f6-9587-72c1e3cf1bf0",
   "metadata": {},
   "source": [
    "## Hashlib Module"
   ]
  },
  {
   "cell_type": "markdown",
   "id": "602d7083-dd21-4b3c-a8fa-e05e7145373f",
   "metadata": {},
   "source": [
    "The [hashlib module](https://docs.python.org/3/library/hashlib.html) uses the [OpenSSL](https://www.openssl.org/) library under the hood and exposes several of its cryptographic hash functions.\n",
    "\n",
    "One of the particularities of most cryptographic-focused modules and libraries is that they work with low level objects, mainly `bytes` objects, instead of the high level built in types, such as lists, strings, custom objects, etc. Since working with Bytes is not for some Python developers, [an appendix](91_Bytes.ipynb) is provided as a quick introduction.\n",
    "\n",
    "The Hashlib module exposes two ways to construct hashes, one is a simple function call and the other is implementing the [Builder Pattern](https://en.wikipedia.org/wiki/Builder_pattern), which is more object oriented."
   ]
  },
  {
   "cell_type": "code",
   "execution_count": 3,
   "id": "650de36f-6cac-4920-96ce-d30be377b77e",
   "metadata": {},
   "outputs": [],
   "source": [
    "import hashlib"
   ]
  },
  {
   "cell_type": "markdown",
   "id": "611a1bf9-3f11-480d-b7d9-cd30a1f4e8fe",
   "metadata": {},
   "source": [
    "### Methods available\n",
    "\n",
    "It is possible to list all methods available"
   ]
  },
  {
   "cell_type": "code",
   "execution_count": 4,
   "id": "4258e2d4-c882-45e6-a36e-e9f40bdd232e",
   "metadata": {},
   "outputs": [
    {
     "name": "stdout",
     "output_type": "stream",
     "text": [
      "blake2s, sm3, sha512_256, sha3_224, md4, shake_128, sha512, sha3_256, shake_256, sha3_384, sha384, blake2b, md5, mdc2, sha256, sha1, ripemd160, whirlpool, sha224, sha3_512, sha512_224, md5-sha1\n"
     ]
    }
   ],
   "source": [
    "print(\", \".join(hashlib.algorithms_available))"
   ]
  },
  {
   "cell_type": "markdown",
   "id": "0e8c459b-85d5-4d03-823f-9aef68b0cf7e",
   "metadata": {
    "tags": []
   },
   "source": [
    "### Function Call"
   ]
  },
  {
   "cell_type": "code",
   "execution_count": 5,
   "id": "5d044d52-16db-44de-ba17-5162a731866d",
   "metadata": {},
   "outputs": [
    {
     "name": "stdout",
     "output_type": "stream",
     "text": [
      "Bytes Digest: b'\\x7f\\x83\\xb1e\\x7f\\xf1\\xfcS\\xb9-\\xc1\\x81H\\xa1\\xd6]\\xfc-K\\x1f\\xa3\\xd6w(J\\xdd\\xd2\\x00\\x12m\\x90i'\n",
      "Hex Digest: 7f83b1657ff1fc53b92dc18148a1d65dfc2d4b1fa3d677284addd200126d9069\n"
     ]
    }
   ],
   "source": [
    "hash_object = hashlib.sha256(b\"Hello World!\")\n",
    "print(f\"Bytes Digest: {hash_object.digest()}\")\n",
    "print(f\"Hex Digest: {hash_object.hexdigest()}\")"
   ]
  },
  {
   "cell_type": "markdown",
   "id": "e02c9811-6997-43bf-ba6f-87e9292a8f74",
   "metadata": {},
   "source": [
    "### Object Instantiation"
   ]
  },
  {
   "cell_type": "code",
   "execution_count": 6,
   "id": "a6f72a1f-859f-4776-907e-d476699a61c8",
   "metadata": {},
   "outputs": [
    {
     "name": "stdout",
     "output_type": "stream",
     "text": [
      "Bytes Digest: b'\\x7f\\x83\\xb1e\\x7f\\xf1\\xfcS\\xb9-\\xc1\\x81H\\xa1\\xd6]\\xfc-K\\x1f\\xa3\\xd6w(J\\xdd\\xd2\\x00\\x12m\\x90i'\n",
      "Hex Digest: 7f83b1657ff1fc53b92dc18148a1d65dfc2d4b1fa3d677284addd200126d9069\n"
     ]
    }
   ],
   "source": [
    "hasher = hashlib.new('sha256')\n",
    "hasher.update(b\"Hello World!\")\n",
    "print(f\"Bytes Digest: {hasher.digest()}\")\n",
    "print(f\"Hex Digest: {hasher.hexdigest()}\")"
   ]
  }
 ],
 "metadata": {
  "kernelspec": {
   "display_name": "Python 3 (ipykernel)",
   "language": "python",
   "name": "python3"
  },
  "language_info": {
   "codemirror_mode": {
    "name": "ipython",
    "version": 3
   },
   "file_extension": ".py",
   "mimetype": "text/x-python",
   "name": "python",
   "nbconvert_exporter": "python",
   "pygments_lexer": "ipython3",
   "version": "3.8.10"
  }
 },
 "nbformat": 4,
 "nbformat_minor": 5
}
