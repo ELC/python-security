{
 "cells": [
  {
   "cell_type": "markdown",
   "id": "b2b42f52-c68e-4d24-9ede-ff403f22b1ab",
   "metadata": {},
   "source": [
    "# Appendix: The Bytes Data Type"
   ]
  },
  {
   "cell_type": "markdown",
   "id": "47ed20c0-95c3-449e-aca3-ed4e31c3d534",
   "metadata": {},
   "source": [
    "**ToDo**:\n",
    "- Add an illustration and explain the concept of UTF-8, Unicode, Bytes, ASCII - Similar to [this](https://blog.finxter.com/wp-content/uploads/2020/06/byte-1024x576.jpg)\n",
    "- Add relevant resources at the end\n",
    "---\n"
   ]
  },
  {
   "cell_type": "markdown",
   "id": "9e056fae-1343-476e-9d62-912ab9dd9580",
   "metadata": {},
   "source": [
    "Most cryptographic functions require [Bytes](https://docs.python.org/3/library/stdtypes.html#bytes-objects) objects. In the case of strings, the [`encode`](https://docs.python.org/3/library/stdtypes.html#str.encode) and [`decode`](https://docs.python.org/3/library/stdtypes.html#bytes.decode) methods can be used, however for custom objects, two possible ways are:\n",
    "\n",
    "1. Converting the object to JSON and then convert the JSON string to bytes\n",
    "1. Implementing a `__bytes__` method\n",
    "\n",
    "However, usually hashes are used with plain types like strings which are easily convertible to bytes."
   ]
  },
  {
   "cell_type": "markdown",
   "id": "3669a05f-668e-48c1-be0c-ecee2e658dc5",
   "metadata": {},
   "source": [
    "## Data Conversions"
   ]
  },
  {
   "cell_type": "code",
   "execution_count": 1,
   "id": "599356d2-8ef1-413d-803b-0a181c159017",
   "metadata": {},
   "outputs": [
    {
     "name": "stdout",
     "output_type": "stream",
     "text": [
      "     Original String: Hello World!\n",
      "From String to Bytes: b'Hello World!'\n",
      "   From Bytes to Hex: 48656c6c6f20576f726c6421\n",
      "From Bytes to String: Hello World!\n",
      "   From Hex to Bytes: b'Hello World!'\n"
     ]
    }
   ],
   "source": [
    "data_string = \"Hello World!\"\n",
    "data_bytes = data_string.encode(\"utf-8\")\n",
    "data_hex = data_bytes.hex()\n",
    "data_decoded = data_bytes.decode(\"utf-8\")\n",
    "data_hex_bytes = bytes.fromhex(data_hex)\n",
    "\n",
    "print(f\"     Original String: {data_string}\")\n",
    "print(f\"From String to Bytes: {data_bytes}\")\n",
    "print(f\"   From Bytes to Hex: {data_hex}\")\n",
    "print(f\"From Bytes to String: {data_decoded}\")\n",
    "print(f\"   From Hex to Bytes: {data_hex_bytes}\")"
   ]
  },
  {
   "cell_type": "markdown",
   "id": "9c973c68-d747-4c69-975d-337916f903f1",
   "metadata": {},
   "source": [
    "### Using the `binascii` module"
   ]
  },
  {
   "cell_type": "markdown",
   "id": "b87c3c3b-0a23-44e4-855c-5b85b4e47343",
   "metadata": {},
   "source": [
    "The [binascii module](https://docs.python.org/3/library/binascii.html) exposes two utility functions, one to convert from bytes to hex called [hexlify](https://docs.python.org/3/library/binascii.html#binascii.hexlify) and another to do the reverse conversion called [unhexlify](https://docs.python.org/3/library/binascii.html#binascii.unhexlify)\n",
    "\n",
    "**Important note:** the hexlify function returns a bytes object whereas the .hex() method of bytes returns a string. See the `b` before the `'`"
   ]
  },
  {
   "cell_type": "code",
   "execution_count": 2,
   "id": "ab3b84e7-a529-40f9-aa90-17d84171ddf3",
   "metadata": {},
   "outputs": [
    {
     "name": "stdout",
     "output_type": "stream",
     "text": [
      "     Original String: Hello World!\n",
      "From String to Bytes: b'Hello World!'\n",
      "   From Bytes to Hex: b'48656c6c6f20576f726c6421'\n",
      "   From Hex to Bytes: b'Hello World!'\n"
     ]
    }
   ],
   "source": [
    "import binascii\n",
    "\n",
    "data_string = \"Hello World!\"\n",
    "data_bytes = data_string.encode(\"utf-8\")\n",
    "data_hex = binascii.hexlify(data_bytes)\n",
    "data_hex_string = binascii.unhexlify(data_hex)\n",
    "\n",
    "print(f\"     Original String: {data_string}\")\n",
    "print(f\"From String to Bytes: {data_bytes}\")\n",
    "print(f\"   From Bytes to Hex: {data_hex}\")\n",
    "print(f\"   From Hex to Bytes: {data_hex_bytes}\")"
   ]
  },
  {
   "cell_type": "markdown",
   "id": "a676c721-74b0-4394-b900-2fabc92b655c",
   "metadata": {},
   "source": [
    "## Examples"
   ]
  },
  {
   "cell_type": "code",
   "execution_count": 4,
   "id": "f6bd5f83-babd-4125-ad08-aed60ad0572e",
   "metadata": {},
   "outputs": [],
   "source": [
    "import hashlib"
   ]
  },
  {
   "cell_type": "markdown",
   "id": "a463939f-b0fb-4173-a204-eb45cb2fa46e",
   "metadata": {},
   "source": [
    "#### Example with plain strings"
   ]
  },
  {
   "cell_type": "code",
   "execution_count": 5,
   "id": "419ccf1d-00cb-41ca-b106-1b76e078d1ad",
   "metadata": {},
   "outputs": [
    {
     "name": "stdout",
     "output_type": "stream",
     "text": [
      "Original: Hello World!\n",
      " Encoded: b'Hello World!'\n",
      " Decoded: Hello World!\n",
      "  Hashed: 7f83b1657ff1fc53b92dc18148a1d65dfc2d4b1fa3d677284addd200126d9069\n"
     ]
    }
   ],
   "source": [
    "data = \"Hello World!\"\n",
    "data_bytes = data.encode(\"utf-8\")\n",
    "data_decoded = data_bytes.decode(\"utf-8\")\n",
    "data_hashed = hashlib.sha256(data_bytes).hexdigest()\n",
    "print(f\"Original: {data}\")\n",
    "print(f\" Encoded: {data_bytes}\")\n",
    "print(f\" Decoded: {data_decoded}\")\n",
    "print(f\"  Hashed: {data_hashed}\")"
   ]
  },
  {
   "cell_type": "markdown",
   "id": "a86dc4f5-550c-4f6e-b296-22af692a7602",
   "metadata": {},
   "source": [
    "#### Example with Custom objects"
   ]
  },
  {
   "cell_type": "code",
   "execution_count": 21,
   "id": "48c44fe2-61f4-4db0-834e-5572ec6ff362",
   "metadata": {},
   "outputs": [
    {
     "name": "stdout",
     "output_type": "stream",
     "text": [
      " Original: Person(first_name='John', last_name='Doe')\n",
      "  Encoded: b'{\"first_name\": \"John\", \"last_name\": \"Doe\"}'\n",
      "  Decoded: Person(first_name='John', last_name='Doe')\n",
      "Full Name: Doe, John\n",
      "   Hashed: fee485b19074e0b0b2856ae5f27fcdd67ff12204cbff73c5eaa10b1aac887042\n"
     ]
    }
   ],
   "source": [
    "from dataclasses import dataclass, asdict\n",
    "import json\n",
    "\n",
    "@dataclass\n",
    "class Person:\n",
    "    first_name: str\n",
    "    last_name: str\n",
    "    \n",
    "    @property\n",
    "    def fullname(self):\n",
    "        return f\"{self.last_name}, {self.first_name}\"\n",
    "    \n",
    "    def __bytes__(self):\n",
    "        dictionary_representation = asdict(self)\n",
    "        json_representation = json.dumps(dictionary_representation)\n",
    "        return json_representation.encode(\"utf-8\")\n",
    "    \n",
    "    @classmethod\n",
    "    def from_bytes(cls, bytes_object):\n",
    "        string_representation = bytes_object.decode(\"utf-8\")\n",
    "        dictionary_representation = json.loads(string_representation)\n",
    "        return cls(**dictionary_representation)\n",
    "    \n",
    "person = Person(\"John\", \"Doe\")\n",
    "person_bytes = bytes(person)\n",
    "person_decoded = Person.from_bytes(person_bytes)\n",
    "person_hashed = hashlib.sha256(person_bytes).hexdigest()\n",
    "\n",
    "print(f\" Original: {person}\")\n",
    "print(f\"  Encoded: {person_bytes}\")\n",
    "print(f\"  Decoded: {person_decoded}\")\n",
    "print(f\"Full Name: {person_decoded.fullname}\")\n",
    "print(f\"   Hashed: {person_hashed}\")"
   ]
  },
  {
   "cell_type": "markdown",
   "id": "5a73bf35-bb73-4b1f-853c-ee6b1989f5ff",
   "metadata": {},
   "source": [
    "#### Example with Mixins"
   ]
  },
  {
   "cell_type": "markdown",
   "id": "3720060e-34c1-4009-9b58-29452496696d",
   "metadata": {},
   "source": [
    "In bigger projects, it may be against best practice to duplicate the `__bytes__` and `from_bytes` methods. A [Mixin](https://en.wikipedia.org/wiki/Mixin?oldformat=true) class can be used and then inherit from. Mixins are special class, similar to a [Protocol](https://www.python.org/dev/peps/pep-0544/) which define methods to be used in child classes. Mixins as opposed to Interfaces or Abstract Classes are meant to be incomplete and it should not make sense to instanciate them directly.\n",
    "\n",
    "**Note**: In this case, it would have been possible to make `PersonBase` inherit from `ByteConvertibleMixin` and thus avoiding the multiple-inheritance. However, if the bytes conversion is desirable only to a subset of children classes of `PersonBase`, then the multiple-inheritance approach is the most idiomatic in Python."
   ]
  },
  {
   "cell_type": "code",
   "execution_count": 20,
   "id": "325347a9-96f3-4b0d-88a7-12ec916c1f70",
   "metadata": {},
   "outputs": [
    {
     "name": "stdout",
     "output_type": "stream",
     "text": [
      " Original: Customer(first_name='John', last_name='Doe', address='Neverland 10')\n",
      "  Encoded: b'{\"first_name\": \"John\", \"last_name\": \"Doe\", \"address\": \"Neverland 10\"}'\n",
      "  Decoded: Customer(first_name='John', last_name='Doe', address='Neverland 10')\n",
      "Full Name: Doe, John\n",
      "   Hashed: 4a23851a4c1d84ccd1b5b9c520325436c162b823a998feceeb87f7fb107876bc\n"
     ]
    }
   ],
   "source": [
    "from abc import ABC\n",
    "from dataclasses import dataclass, asdict\n",
    "import json\n",
    "\n",
    "@dataclass\n",
    "class ByteConvertibleMixin(ABC):\n",
    "    def __bytes__(self):\n",
    "        dictionary_representation = asdict(self)\n",
    "        json_representation = json.dumps(dictionary_representation)\n",
    "        return json_representation.encode(\"utf-8\")\n",
    "    \n",
    "    @classmethod\n",
    "    def from_bytes(cls, bytes_object):\n",
    "        string_representation = bytes_object.decode(\"utf-8\")\n",
    "        dictionary_representation = json.loads(string_representation)\n",
    "        return cls(**dictionary_representation)\n",
    "\n",
    "@dataclass\n",
    "class PersonBase:  # Name changed to avoid overwriting\n",
    "    first_name: str\n",
    "    last_name: str\n",
    "    \n",
    "    @property\n",
    "    def fullname(self):\n",
    "        return f\"{self.last_name}, {self.first_name}\"\n",
    "    \n",
    "@dataclass\n",
    "class Customer(PersonBase, ByteConvertibleMixin):  # Multiple-Inheritance\n",
    "    address: str\n",
    "    \n",
    "customer = Customer(\"John\", \"Doe\", \"Neverland 10\")\n",
    "customer_bytes = bytes(customer)\n",
    "customer_decoded = Customer.from_bytes(customer_bytes)\n",
    "customer_hashed = hashlib.sha256(customer_bytes).hexdigest()\n",
    "\n",
    "print(f\" Original: {customer}\")\n",
    "print(f\"  Encoded: {customer_bytes}\")\n",
    "print(f\"  Decoded: {customer_decoded}\")\n",
    "print(f\"Full Name: {customer_decoded.fullname}\")\n",
    "print(f\"   Hashed: {customer_hashed}\")"
   ]
  },
  {
   "cell_type": "markdown",
   "id": "0e467133-f32e-4814-b03d-cbeca5ea27dd",
   "metadata": {},
   "source": [
    "## Special Case: Files"
   ]
  },
  {
   "cell_type": "markdown",
   "id": "adf45929-ec52-45ea-9370-0219b6b26e24",
   "metadata": {},
   "source": [
    "When working with files, it is possible to work in bytes format out of the box. The easiest way is through the [`read_bytes`](https://docs.python.org/3/library/pathlib.html#pathlib.Path.read_bytes) method of the [`pathlib`](https://docs.python.org/3/library/pathlib.html) module."
   ]
  },
  {
   "cell_type": "code",
   "execution_count": 45,
   "id": "55ac9f3c-0857-4652-91d1-6948ed2cb8e0",
   "metadata": {},
   "outputs": [
    {
     "name": "stdout",
     "output_type": "stream",
     "text": [
      "Byte Representation: \n",
      "b'\\x89PNG\\r\\n\\x1a\\n\\x00\\x00\\x00\\rIHDR\\x00\\x00\\x04\\xe1\\x00\\x00\\x02\\x0f\\x08\\x02\\x00\\x00\\x00\\xba\\xd9]t\\x00\\x00\\x00\\x01sRGB\\x00\\xae\\xce\\x1c\\xe9\\x00\\x00\\x00\\x04gAMA\\x00\\x00\\xb1\\x8f\\x0b\\xfca\\x05\\x00\\x00\\x00\\tpHYs\\x00\\x00\\x0e\\xc3\\x00\\x00\\x0e\\xc3\\x01\\xc7o\\xa8d\\x00\\x00\\xb9}IDATx^\\xed\\xfd\\x7f\\xace\\xc7u\\xe7\\x8b\\xf5\\xfb#x\\xf93\\xc8\\x1f\\x1e\\xc0\\x7f\\xbdI\\x10\\xc0\\x80\\x9d\\xf1\\x1f\\xf2C@\\xe5\\xe5\\x0f\\x033H\\x9cA\\x0c? \\x99\\x18\\xcc@Q@\\xe5\\x8e\\x07\\x03\\xd9\\x83\\x17@\\x8e'\n",
      "\n",
      "Hex Representation: \n",
      "89504e470d0a1a0a0000000d49484452000004e10000020f0802000000bad95d74000000017352474200aece1ce90000000467414d410000b18f0bfc6105000000097048597300000ec300000ec301c76fa8640000b97d49444154785eedfd7fac65c775e78bf5fb2378f933c81f1ec07fbd4910c0809df11ff24340e5e50f0333489c410c3f209918cc405140e58e0703d98317408e\n"
     ]
    }
   ],
   "source": [
    "from pathlib import Path\n",
    "\n",
    "image_bytes = Path(\"../_static/images/certificate_details_dns.png\").read_bytes()\n",
    "image_bytes = image_bytes[:150]  # Trimmed to improve display\n",
    "\n",
    "print(f\"Byte Representation: \\n{image_bytes}\\n\")\n",
    "print(f\"Hex Representation: \\n{image_bytes.hex()}\")"
   ]
  },
  {
   "cell_type": "markdown",
   "id": "3d578e2e-9f1c-4c49-bb5b-e6b2a890eba3",
   "metadata": {},
   "source": [
    "## Random Bytes"
   ]
  },
  {
   "cell_type": "markdown",
   "id": "4cf5a88d-d791-4d9b-8051-d637e8b0498f",
   "metadata": {},
   "source": [
    "There are many ways to generate randomness or pseudo-randomness, some of which are considered **insecured** and other **secure**."
   ]
  },
  {
   "cell_type": "markdown",
   "id": "270a6cea-01ad-44df-b3d6-3040c97c85e0",
   "metadata": {
    "tags": []
   },
   "source": [
    "### Using the `secrets` module"
   ]
  },
  {
   "cell_type": "markdown",
   "id": "1c1654f5-1c9e-4f04-82df-157c574781a5",
   "metadata": {},
   "source": [
    "Python 3.6 introduced the [`secrets`](https://docs.python.org/3/library/secrets.html) module to conveniently generate several types of **secure** random bytes.\n",
    "\n",
    "The relevant methods are the `token_*` methods, each receives a lenght parameter. The more bytes, the safer the token, see [this resource](https://docs.python.org/3/library/secrets.html#how-many-bytes-should-tokens-use) for more information. Moreover, this [video](https://www.youtube.com/watch?v=S9JGmA5_unY) illustrates how secure 32 bytes (256bits) randomness is.\n",
    "\n",
    "When using only hexadecimal, there will be 2 characters per byte, to generate shorter strings but at the same time being able to insert them in URL (e.g. for password reset tokens), the `token_urlsafe` can be used, which will yield a string approximately 25% shorter\n",
    "\n",
    "There are other ways to generate random bytes in Python but using secrets is common practice since Python 3.6. For other options see this [detailed answer](https://stackoverflow.com/questions/42190663/questions-about-python3-6-os-urandom-os-getrandom-secrets)."
   ]
  },
  {
   "cell_type": "code",
   "execution_count": 24,
   "id": "6b803107-9c0c-4871-a4dc-cd44c072d1d9",
   "metadata": {},
   "outputs": [],
   "source": [
    "import secrets"
   ]
  },
  {
   "cell_type": "code",
   "execution_count": 25,
   "id": "d2f33821-6309-41b7-bf26-d72b1bf1b350",
   "metadata": {},
   "outputs": [
    {
     "name": "stdout",
     "output_type": "stream",
     "text": [
      "              Secure Random Bytes: b'\\xc3\\x1c\\xb2dE}\\xacD{\\xb4\\xdd\\xcd\\xb6\\x8c\\x8a'\n",
      "        Secure Random Bytes (Hex): 22d166998ea168109514a1f598ff45\n",
      "Secure Random Bytes (Hex URLSafe): _MiA9loI86wj2t86A1pu\n"
     ]
    }
   ],
   "source": [
    "lenght = 15\n",
    "\n",
    "print(f\"              Secure Random Bytes: {secrets.token_bytes(lenght)}\")\n",
    "print(f\"        Secure Random Bytes (Hex): {secrets.token_hex(lenght)}\")\n",
    "print(f\"Secure Random Bytes (Hex URLSafe): {secrets.token_urlsafe(lenght)}\")"
   ]
  },
  {
   "cell_type": "markdown",
   "id": "822ca4bd-0ea0-4611-ae4f-ac43a0721d11",
   "metadata": {},
   "source": [
    "### Comparing Secrets\n",
    "\n",
    "To avoid [timming attacks](https://www.wikiwand.com/en/Timing_attack), it is important to **NOT** use `==` when comparing secrets. For that the `secrets` module exposes a method [`compare_digest`](https://docs.python.org/3/library/secrets.html#secrets.compare_digest) which is actually an alias of the [`hmac`](https://docs.python.org/3/library/hmac.htm) module [homonymous method](https://docs.python.org/3/library/hmac.html#hmac.compare_digest).\n",
    "\n",
    "For a demonstration of this type of attack, see this [demo](https://www.youtube.com/watch?v=XThL0LP3RjY)."
   ]
  },
  {
   "cell_type": "code",
   "execution_count": 26,
   "id": "c15dec17-7fc1-4356-bf91-41799e28eca0",
   "metadata": {},
   "outputs": [
    {
     "name": "stdout",
     "output_type": "stream",
     "text": [
      "Is short guess the real? False\n",
      "Is long guess the real? False\n",
      "Is real guess the real? True\n"
     ]
    }
   ],
   "source": [
    "# Excesively large lenght for better illustration\n",
    "lenght = 1000\n",
    "real_token = secrets.token_bytes(lenght)\n",
    "guess_token_all_wrong = secrets.token_bytes(lenght)\n",
    "guess_token_all_but_one = real_token[:-1] + secrets.token_bytes(1)\n",
    "\n",
    "print(f\"Is short guess the real? {secrets.compare_digest(real_token, guess_token_all_wrong)}\")\n",
    "print(f\"Is long guess the real? {secrets.compare_digest(real_token, guess_token_all_but_one)}\")\n",
    "print(f\"Is real guess the real? {secrets.compare_digest(real_token, real_token)}\")"
   ]
  },
  {
   "cell_type": "markdown",
   "id": "2e389438-76dd-4919-9515-d906c83face0",
   "metadata": {},
   "source": [
    "## Conclusion"
   ]
  },
  {
   "cell_type": "markdown",
   "id": "70c16446-7bcd-46c8-a025-5fa9bf614996",
   "metadata": {},
   "source": [
    "To avoid duplicated work, it is important to work with standards, in the case of security and encryption, that standard is the Bytes format. All methods and algorithms work with bytes objects and therefore it is important to know how to handle them while programming.\n",
    "\n",
    "Python has several tools like `bytes`, `binascii` and `secrets` to work, generate and convert bytes. It is also possible to define conversion for custom objects through the `__bytes__` magic method. The `pathlib` module also allows to read files as bytes out of the box."
   ]
  }
 ],
 "metadata": {
  "kernelspec": {
   "display_name": "Python 3 (ipykernel)",
   "language": "python",
   "name": "python3"
  },
  "language_info": {
   "codemirror_mode": {
    "name": "ipython",
    "version": 3
   },
   "file_extension": ".py",
   "mimetype": "text/x-python",
   "name": "python",
   "nbconvert_exporter": "python",
   "pygments_lexer": "ipython3",
   "version": "3.8.10"
  }
 },
 "nbformat": 4,
 "nbformat_minor": 5
}
