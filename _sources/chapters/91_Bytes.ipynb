{
 "cells": [
  {
   "cell_type": "markdown",
   "id": "b2b42f52-c68e-4d24-9ede-ff403f22b1ab",
   "metadata": {},
   "source": [
    "# Appendix: The Bytes Data Type"
   ]
  },
  {
   "cell_type": "markdown",
   "id": "9e056fae-1343-476e-9d62-912ab9dd9580",
   "metadata": {},
   "source": [
    "The functions in the hashlib module requires [Bytes](https://docs.python.org/3/library/stdtypes.html#bytes-objects) objects. In the case of strings, the [encode] and [decode] methods can be used, however for custom objects, two possible ways are:\n",
    "\n",
    "1. Converting the object to json and then the json string to bytes\n",
    "1. Implementing a \\_\\_bytes__ method\n",
    "\n",
    "However, usually hashes are used with plain types like strings which are easily convertible to bytes."
   ]
  },
  {
   "cell_type": "markdown",
   "id": "3669a05f-668e-48c1-be0c-ecee2e658dc5",
   "metadata": {},
   "source": [
    "## Data Conversions"
   ]
  },
  {
   "cell_type": "code",
   "execution_count": 74,
   "id": "599356d2-8ef1-413d-803b-0a181c159017",
   "metadata": {},
   "outputs": [
    {
     "name": "stdout",
     "output_type": "stream",
     "text": [
      "     Original String: Hello World!\n",
      "From String to Bytes: b'Hello World!'\n",
      "   From Bytes to Hex: 48656c6c6f20576f726c6421\n",
      "From Bytes to String: Hello World!\n",
      "   From Hex to Bytes: b'Hello World!'\n"
     ]
    }
   ],
   "source": [
    "data_string = \"Hello World!\"\n",
    "data_bytes = data_string.encode(\"utf-8\")\n",
    "data_hex = data_bytes.hex()\n",
    "data_decoded = data_bytes.decode(\"utf-8\")\n",
    "data_hex_bytes = bytes.fromhex(data_hex)\n",
    "\n",
    "print(f\"     Original String: {data_string}\")\n",
    "print(f\"From String to Bytes: {data_bytes}\")\n",
    "print(f\"   From Bytes to Hex: {data_hex}\")\n",
    "print(f\"From Bytes to String: {data_decoded}\")\n",
    "print(f\"   From Hex to Bytes: {data_hex_bytes}\")"
   ]
  },
  {
   "cell_type": "markdown",
   "id": "9c973c68-d747-4c69-975d-337916f903f1",
   "metadata": {},
   "source": [
    "### Using the `binascii` module"
   ]
  },
  {
   "cell_type": "markdown",
   "id": "b87c3c3b-0a23-44e4-855c-5b85b4e47343",
   "metadata": {},
   "source": [
    "The [binascii module](https://docs.python.org/3/library/binascii.html) exposes two utility functions, one to convert from bytes to hex called [hexlify](https://docs.python.org/3/library/binascii.html#binascii.hexlify) and another to do the reverse conversion called [unhexlify](https://docs.python.org/3/library/binascii.html#binascii.unhexlify)\n",
    "\n",
    "**Important note:** the hexilify function returns a bytes object whereas the .hex() method of bytes returns a string."
   ]
  },
  {
   "cell_type": "code",
   "execution_count": 77,
   "id": "ab3b84e7-a529-40f9-aa90-17d84171ddf3",
   "metadata": {},
   "outputs": [
    {
     "name": "stdout",
     "output_type": "stream",
     "text": [
      "     Original String: Hello World!\n",
      "From String to Bytes: b'Hello World!'\n",
      "   From Bytes to Hex: b'48656c6c6f20576f726c6421'\n",
      "   From Hex to Bytes: b'Hello World!'\n"
     ]
    }
   ],
   "source": [
    "import binascii\n",
    "\n",
    "data_string = \"Hello World!\"\n",
    "data_bytes = data_string.encode(\"utf-8\")\n",
    "data_hex = binascii.hexlify(data_bytes)\n",
    "data_hex_string = binascii.unhexlify(data_hex)\n",
    "\n",
    "print(f\"     Original String: {data_string}\")\n",
    "print(f\"From String to Bytes: {data_bytes}\")\n",
    "print(f\"   From Bytes to Hex: {data_hex}\")\n",
    "print(f\"   From Hex to Bytes: {data_hex_bytes}\")"
   ]
  },
  {
   "cell_type": "markdown",
   "id": "a676c721-74b0-4394-b900-2fabc92b655c",
   "metadata": {},
   "source": [
    "## Examples"
   ]
  },
  {
   "cell_type": "markdown",
   "id": "a463939f-b0fb-4173-a204-eb45cb2fa46e",
   "metadata": {},
   "source": [
    "#### Example with plain strings"
   ]
  },
  {
   "cell_type": "code",
   "execution_count": 45,
   "id": "419ccf1d-00cb-41ca-b106-1b76e078d1ad",
   "metadata": {},
   "outputs": [
    {
     "name": "stdout",
     "output_type": "stream",
     "text": [
      "Original: Hello World!\n",
      " Encoded: b'Hello World!'\n",
      " Decoded: Hello World!\n",
      "  Hashed: 7f83b1657ff1fc53b92dc18148a1d65dfc2d4b1fa3d677284addd200126d9069\n"
     ]
    }
   ],
   "source": [
    "data = \"Hello World!\"\n",
    "data_bytes = data.encode(\"utf-8\")\n",
    "data_decoded = data_bytes.decode(\"utf-8\")\n",
    "data_hashed = hashlib.sha256(data_bytes).hexdigest()\n",
    "print(f\"Original: {data}\")\n",
    "print(f\" Encoded: {data_bytes}\")\n",
    "print(f\" Decoded: {data_decoded}\")\n",
    "print(f\"  Hashed: {data_hashed}\")"
   ]
  },
  {
   "cell_type": "markdown",
   "id": "a86dc4f5-550c-4f6e-b296-22af692a7602",
   "metadata": {},
   "source": [
    "#### Example with Custom objects"
   ]
  },
  {
   "cell_type": "code",
   "execution_count": 46,
   "id": "48c44fe2-61f4-4db0-834e-5572ec6ff362",
   "metadata": {},
   "outputs": [
    {
     "name": "stdout",
     "output_type": "stream",
     "text": [
      "Original: Person(first_name='John', last_name='Doe')\n",
      " Encoded: b'{\"first_name\": \"John\", \"last_name\": \"Doe\"}'\n",
      " Decoded: Person(first_name='John', last_name='Doe')\n",
      "  Hashed: fee485b19074e0b0b2856ae5f27fcdd67ff12204cbff73c5eaa10b1aac887042\n"
     ]
    }
   ],
   "source": [
    "from dataclasses import dataclass, asdict\n",
    "import json\n",
    "\n",
    "@dataclass\n",
    "class Person:\n",
    "    first_name: str\n",
    "    last_name: str\n",
    "    \n",
    "    def __bytes__(self):\n",
    "        dictionary_representation = asdict(self)\n",
    "        json_representation = json.dumps(dictionary_representation)\n",
    "        return json_representation.encode(\"utf-8\")\n",
    "    \n",
    "    @classmethod\n",
    "    def from_bytes(cls, bytes_object):\n",
    "        string_representation = bytes_object.decode(\"utf-8\")\n",
    "        dictionary_representation = json.loads(string_representation)\n",
    "        return cls(**dictionary_representation)\n",
    "    \n",
    "person = Person(\"John\", \"Doe\")\n",
    "person_bytes = bytes(person)\n",
    "person_decoded = Person.from_bytes(person_bytes)\n",
    "person_hashed = hashlib.sha256(person_bytes).hexdigest()\n",
    "\n",
    "print(f\"Original: {person}\")\n",
    "print(f\" Encoded: {person_bytes}\")\n",
    "print(f\" Decoded: {person_decoded}\")\n",
    "print(f\"  Hashed: {person_hashed}\")"
   ]
  },
  {
   "cell_type": "markdown",
   "id": "0140be35-b4e9-40f8-a517-6efec50cbd8b",
   "metadata": {},
   "source": [
    "## Random Bytes\n",
    "\n",
    "There are many ways to generate randomness or pseudo-randomness, some of which are considered **insecured** and other **secure**."
   ]
  },
  {
   "cell_type": "markdown",
   "id": "41f04a76-8ce7-40ee-8614-3dbd9c47c6b4",
   "metadata": {},
   "source": [
    "### Using the `secrets` module\n",
    "\n",
    "Python 3.6 introduced the [`secrets`](https://docs.python.org/3/library/secrets.html) module to conveniently generate several types of **secure** random bytes.\n",
    "\n",
    "The relevant methods are the `token_*` methods, each receives a lenght parameter. The more bytes, the safer the token, see [this resource](https://docs.python.org/3/library/secrets.html#how-many-bytes-should-tokens-use) for more information. Moreover, this [video](https://www.youtube.com/watch?v=S9JGmA5_unY) illustrates how secure 32 bytes (256bits) randomness is.\n",
    "\n",
    "When using only hexadecimal, there will be 2 characters per byte, to generate shorter strings but at the same time being able to insert them in URL (e.g. for password reset tokens), the `token_urlsafe` can be used, which will yield a string approximately 25% shorter\n",
    "\n",
    "There are other ways to generate random bytes in Python but using secrets is common practice since Python 3.6. For other options see this [detailed answer](https://stackoverflow.com/questions/42190663/questions-about-python3-6-os-urandom-os-getrandom-secrets)."
   ]
  },
  {
   "cell_type": "code",
   "execution_count": 55,
   "id": "d2f33821-6309-41b7-bf26-d72b1bf1b350",
   "metadata": {},
   "outputs": [
    {
     "name": "stdout",
     "output_type": "stream",
     "text": [
      "              Secure Random Bytes: b'\\xf8J\\x96\\x89\\xa50\\xb0\\xf5;c=\\x84DZ\\x03'\n",
      "        Secure Random Bytes (Hex): d5dc04032cc6028e220917821c3922\n",
      "Secure Random Bytes (Hex URLSafe): 5exkWi2QSTfWPKwWt3BA\n"
     ]
    }
   ],
   "source": [
    "import secrets\n",
    "\n",
    "lenght = 15\n",
    "\n",
    "print(f\"              Secure Random Bytes: {secrets.token_bytes(lenght)}\")\n",
    "print(f\"        Secure Random Bytes (Hex): {secrets.token_hex(lenght)}\")\n",
    "print(f\"Secure Random Bytes (Hex URLSafe): {secrets.token_urlsafe(lenght)}\") # See URLSafe Chapter"
   ]
  },
  {
   "cell_type": "markdown",
   "id": "822ca4bd-0ea0-4611-ae4f-ac43a0721d11",
   "metadata": {},
   "source": [
    "### Comparing Secrets\n",
    "\n",
    "To avoid [timming attacks](https://www.wikiwand.com/en/Timing_attack), it is important to **NOT** use `==` when comparing secrets. For that the `secrets` module exposes a method [`compare_digest`](https://docs.python.org/3/library/secrets.html#secrets.compare_digest) which is actually a wrapper of the [`hmac`](https://docs.python.org/3/library/hmac.htm) module [analogous method](https://docs.python.org/3/library/hmac.html#hmac.compare_digest).\n",
    "\n",
    "For a demonstration of this type of attack, see this [demo](https://www.youtube.com/watch?v=XThL0LP3RjY)."
   ]
  },
  {
   "cell_type": "code",
   "execution_count": 76,
   "id": "c15dec17-7fc1-4356-bf91-41799e28eca0",
   "metadata": {},
   "outputs": [
    {
     "name": "stdout",
     "output_type": "stream",
     "text": [
      "Is short guess the real? False\n",
      "Is long guess the real? False\n",
      "Is real guess the real? True\n"
     ]
    }
   ],
   "source": [
    "import secrets\n",
    "\n",
    "# Excesively large lenght for better illustration\n",
    "lenght = 1000\n",
    "real_token = secrets.token_bytes(lenght)\n",
    "guess_token_all_wrong = secrets.token_bytes(lenght)\n",
    "guess_token_all_but_one = real_token[:-1] + secrets.token_bytes(1)\n",
    "\n",
    "print(f\"Is short guess the real? {secrets.compare_digest(real_token, guess_token_all_wrong)}\")\n",
    "print(f\"Is long guess the real? {secrets.compare_digest(real_token, guess_token_all_but_one)}\")\n",
    "print(f\"Is real guess the real? {secrets.compare_digest(real_token, real_token)}\")"
   ]
  }
 ],
 "metadata": {
  "kernelspec": {
   "display_name": "Python 3 (ipykernel)",
   "language": "python",
   "name": "python3"
  },
  "language_info": {
   "codemirror_mode": {
    "name": "ipython",
    "version": 3
   },
   "file_extension": ".py",
   "mimetype": "text/x-python",
   "name": "python",
   "nbconvert_exporter": "python",
   "pygments_lexer": "ipython3",
   "version": "3.8.10"
  }
 },
 "nbformat": 4,
 "nbformat_minor": 5
}
