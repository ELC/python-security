{
 "cells": [
  {
   "cell_type": "markdown",
   "id": "edc8cc4c-441a-4d5c-af25-8734e572906d",
   "metadata": {},
   "source": [
    "# Introduction to Security"
   ]
  },
  {
   "cell_type": "markdown",
   "id": "5c386d88-9e70-4955-a771-89613df4a726",
   "metadata": {},
   "source": [
    "This series of short chapters aims to showcase commonly used security concepts. In this document the foundational concepts are explained briefly and each chapter will extend them with code examples. There is an special focus on cryptography because it is the least known topic in my opinion, howeover, other security topics are covered as well.\n",
    "\n",
    "The material is a work in progress, at the beginning of each chapter there is a list of ToDos to inform the reader what might change in a future version."
   ]
  },
  {
   "cell_type": "markdown",
   "id": "0d8a1635-4bc6-46d6-a8fb-844f8cf1e526",
   "metadata": {},
   "source": [
    "## Why this material?"
   ]
  },
  {
   "cell_type": "markdown",
   "id": "0262ce95-9c7b-4f9a-9899-9bd52b9f7e31",
   "metadata": {},
   "source": [
    "The main objective of this material is to equip software developers, especially Python ones, with the sufficient knowledge to understand on a high level key security concepts along with examples and must-knows. This is an educational material and **NONE of the code shown should be considered production-ready**.\n",
    "\n",
    "There are plently of resources online about security and cryptography in general, however this material has some features that may not be present elsewhere:\n",
    "\n",
    "- **Quick Read**: Each chapter is meant to be read in under 10 minutes.\n",
    "- **Code-First**: All the material is tiered towards a concrete code Implementation.\n",
    "- **Example-First**: All topics covered have examples.\n",
    "- **Minimal-Dependencies**: As much as possible the dependencies are kept to a minimum. Only PyCA Cryptography is needed as third party library.\n",
    "- **No-Background needed**: Only programming background (not necessarily in Python) is needed.\n",
    "- **No-Math**: The objective is to understand the methods on a high level, without low-level math."
   ]
  },
  {
   "cell_type": "markdown",
   "id": "c37ef6f6-60aa-4b04-8804-c392ce9b6ee4",
   "metadata": {},
   "source": [
    "## How to use the material interactively"
   ]
  },
  {
   "cell_type": "markdown",
   "id": "acca5598-a7a3-41cd-8d97-9c6026c1b2e2",
   "metadata": {},
   "source": [
    "If this <i class=\"fa fa-rocket\" aria-hidden=\"true\"></i> icon is available, you have the following options to interact:\n",
    "\n",
    "- <img src=\"https://sebasguts.github.io/GAPDaysBinderTutorial/images/logo.png\"  width=\"20\" height=\"20\"> Generates the [Binder](https://mybinder.org/) of the current document (Only available in .ipynb files)\n",
    "- <img src=\"https://themachinelearners.com/wp-content/uploads/2020/05/colab_favicon_256px.png\"  width=\"20\" height=\"20\"> Generates the [Google Colab](https://colab.research.google.com) of the current document (Only available in .ipynb files)\n",
    "- <i class=\"fas fa-play\"></i> Generates interaction in the current document with [Thebe](https://github.com/executablebooks/thebe) - Click and wait until Binder is ready (message in the top of the current page).\n",
    "\n",
    "Both Binder and Colab will open a new page while Thebe will update the current page without reloading. Keep in mind that it may take a few seconds to get everything ready."
   ]
  },
  {
   "cell_type": "markdown",
   "id": "2b6110fa-b907-4861-9eae-389aa8aca06b",
   "metadata": {},
   "source": [
    "## Caveats"
   ]
  },
  {
   "cell_type": "markdown",
   "id": "67d40602-a15d-426e-a7b0-212c8ca4c87f",
   "metadata": {},
   "source": [
    "This material follows a pragmatic approach and as such, some caveats should be taken into account:\n",
    "\n",
    "- **Not expert-making material**: Reading this material will **not** make you a security expert by any means.\n",
    "- **Not In-Depth**: Since topics are covered in a very high level, many details are skipped, after reading this you will only have a grasp of the concepts, follow the references for further learning.\n",
    "- **Not a cookbook**: This are not copy-paste examples one can add to a codebase, code is just for illustration purposes.\n",
    "- **Unvalidated**: The material has **not** been written by a security expert, some details might be wrong or outdated."
   ]
  },
  {
   "cell_type": "markdown",
   "id": "f4703316-d099-49b5-b75f-8a325bf39885",
   "metadata": {},
   "source": [
    "## Basic Concepts"
   ]
  },
  {
   "cell_type": "markdown",
   "id": "8fa62ade-4b7b-4195-9433-1db0d4146385",
   "metadata": {},
   "source": [
    "Security is a key concept in all software related projects, properly understanding and applying security best practices is critical for the success of any project.\n",
    "\n",
    "The following concepts summarized many of the goals of several security algorithms and techniques:\n",
    "\n",
    "- **Privacy**: the data is protected from reading/understanding of unintended parties.\n",
    "- **Integrity**: the data sent was the originally intented.\n",
    "- **Authenticity**: the received data is from the expected source.\n",
    "- **Authentication**: the receiver is the expected party to be sent data.\n",
    "- **Non-Repudiation**: the sender cannot deny that the data came from it."
   ]
  },
  {
   "cell_type": "markdown",
   "id": "26f13c87-58af-41dc-a6f1-05ede64e33cf",
   "metadata": {},
   "source": [
    "### Example"
   ]
  },
  {
   "cell_type": "markdown",
   "id": "4fd38b76-c7a0-40d1-935c-61c3bc12f087",
   "metadata": {},
   "source": [
    "An illustration to better understand the concepts might be:\n",
    "\n",
    "> Alice logs into an email provider, writes her username and password and then she writes an email, providing Bob's email address as receipient and sending a bank statement downloaded from the bank Website.\n",
    "    \n",
    "This can be analysed from both perspectives:\n",
    "\n",
    "From Alice Perspective: The email provider gives **Privacy** to Alice by ensuring her password is kept secret. They also provide **Integrity** by delivering to Bob's email address the same content she wrote, without any modifications.\n",
    "\n",
    "From Bob Perspective: The email provider gives **Authentication** by ensuring Bob is the only one who can read Alice's email and **Authenticity** tells Bob the sender is Alice. Bob can also check the file, the bank website uses **Non-Repudiation** by digitally signing the file, that means that file could have only been generated by the bank, and no ones else. \n",
    "\n",
    "There is however somo overlap between **integrity** and **authenticity** because \"if one verifies the data is exactly the one intended, it  implies it is from the expected source\". Moreover, even though the file pass through Alice before going to Bob, that did not altered the fact that the file came from the bank's website, and since Alice did not tampered the file, Bob can be sure it is the original file.\n",
    "\n",
    "In this examples all the concepts are intertwined, but that is exactly how it happens in real scenarios, a plethora of techniques and algorithms are used together to ensure these security features."
   ]
  },
  {
   "cell_type": "markdown",
   "id": "2c26d387-9182-4a29-940a-88d38ff1c25c",
   "metadata": {},
   "source": [
    "## Techniques"
   ]
  },
  {
   "cell_type": "markdown",
   "id": "26356d8a-dc03-4f8d-bab3-dc366de76434",
   "metadata": {},
   "source": [
    "Depedending of the context, these features can be achieved by different means, in the software industry, computational tools are used to create solutions that provide one or more of the mentioned characteristics.\n",
    "\n",
    "It is important to distinguish between a computational **technique** from a particular **implementation**, the former refers to the way in which some security aspect is guaranteed, whereas the later to which specific software/algorithm should be used to accomplish it. \n",
    "\n",
    "The most common **techniques** are:\n",
    "\n",
    "- **Checksums**: to provide **Integrity**.\n",
    "- **Message authentication codes**: to provide **Integrity** and **Authenticity**.\n",
    "- **Digital Signature**: to provide **Integrity**, **Authenticity** and **Non-Repudiation**.\n",
    "- **Cryptographic Hashes**: to provide **Privacy**.\n",
    "- **Encryption**: to provide **Integrity**, **Authenticity** and **Privacy**.\n",
    "\n",
    "Each of the upcoming chapters will examine these topics in detail with code examples."
   ]
  },
  {
   "cell_type": "markdown",
   "id": "a763d6e5-5e9d-4aaa-9261-2005c81525c7",
   "metadata": {},
   "source": [
    "## Contribute"
   ]
  },
  {
   "cell_type": "markdown",
   "id": "f83e6aab-8b4a-4cee-9ee5-fc140cc137f7",
   "metadata": {},
   "source": [
    "This content is free and promotes both free and open source software, as well as monetary and intellectual accessibility. If you want to support it, please check out the privacy-first ad at the [main site](https://elc.github.io/). Helping with fixing typos, suggesting edits, or leaving feedback in the comments is also valuable. If you like this content, please share it with others who might find it useful.\n",
    "\n",
    "If you want to contribute financially, invite me a [Ko-Fi](https://ko-fi.com/elcweb) or send me donation via [PayPal](https://www.paypal.com/donate/?hosted_button_id=948W4CFPMY2R2). If you are in Argentina, you can invite me a [Cafecito](https://cafecito.app/elc)."
   ]
  },
  {
   "cell_type": "markdown",
   "id": "4f608325-f4e3-4bde-a9fe-a3d45afd1e93",
   "metadata": {},
   "source": [
    "## Disclaimer"
   ]
  },
  {
   "cell_type": "markdown",
   "id": "5c373179-dfd9-4549-93c3-306127f0d7aa",
   "metadata": {},
   "source": [
    "Any opinions expressed here are solely my own and do not express the views or opinions of my employer or its affiliates. See [full disclaimer at the site](https://elc.github.io/disclaimer)"
   ]
  }
 ],
 "metadata": {
  "kernelspec": {
   "display_name": "Python 3 (ipykernel)",
   "language": "python",
   "name": "python3"
  },
  "language_info": {
   "codemirror_mode": {
    "name": "ipython",
    "version": 3
   },
   "file_extension": ".py",
   "mimetype": "text/x-python",
   "name": "python",
   "nbconvert_exporter": "python",
   "pygments_lexer": "ipython3",
   "version": "3.8.10"
  }
 },
 "nbformat": 4,
 "nbformat_minor": 5
}
